{
 "cells": [
  {
   "cell_type": "markdown",
   "metadata": {},
   "source": [
    "# KNN Testing"
   ]
  },
  {
   "cell_type": "code",
   "execution_count": 1,
   "metadata": {},
   "outputs": [],
   "source": [
    "import numpy as np # linear algebra\n",
    "import pandas as pd # data processing, CSV file I/O (e.g. pd.read_csv)\n",
    "import matplotlib.pyplot as plt\n",
    "from sklearn.model_selection import train_test_split\n",
    "from sklearn.neighbors import KNeighborsClassifier\n",
    "from imblearn.over_sampling import SMOTE \n",
    "from imblearn.under_sampling import NearMiss \n",
    "from sklearn.preprocessing import StandardScaler "
   ]
  },
  {
   "cell_type": "code",
   "execution_count": 2,
   "metadata": {},
   "outputs": [],
   "source": [
    "xTestData = np.genfromtxt(\"data/X_test.txt\", delimiter = None, skip_header=1)\n",
    "xTrainData = np.genfromtxt(\"data/X_train.txt\", delimiter = None, skip_header=1)\n",
    "yTrainData = np.genfromtxt(\"data/Y_train.txt\", delimiter = None, skip_header=1)"
   ]
  },
  {
   "cell_type": "code",
   "execution_count": 3,
   "metadata": {},
   "outputs": [],
   "source": [
    "xTrain, xVal, yTrain, yVal = train_test_split(xTrainData, yTrainData, test_size=0.25, shuffle = True)"
   ]
  },
  {
   "cell_type": "code",
   "execution_count": 4,
   "metadata": {},
   "outputs": [],
   "source": [
    "yTrainDist = yTrain[:, 1]\n",
    "yTrainZ = yTrain[:, 0]\n",
    "yValDist = yVal[:,1]\n",
    "yValZ = yVal[:,0]\n",
    "\n",
    "xTestIds = xTestData[:,0]\n",
    "\n",
    "#OverSampler\n",
    "sm = SMOTE(random_state = 2)\n",
    "\n",
    "#UnderSampler\n",
    "nr = NearMiss()"
   ]
  },
  {
   "cell_type": "markdown",
   "metadata": {},
   "source": [
    "**Helper method for printing Score for KNN(1-50 neighbors)**"
   ]
  },
  {
   "cell_type": "code",
   "execution_count": 5,
   "metadata": {},
   "outputs": [],
   "source": [
    "def printScores(xTrain, yTrain, xVal):\n",
    "    scale = StandardScaler().fit(xTrain)\n",
    "    xTrainScaled = scale.transform(xTrain)\n",
    "    xValScaled = scale.transform(xVal)\n",
    "\n",
    "    knn = KNeighborsClassifier(n_neighbors=1)\n",
    "\n",
    "    for i in range(0, 55, 5):\n",
    "        if i == 0:\n",
    "            i = 1\n",
    "        knn.n_neighbors = i\n",
    "        knn.fit(xTrainScaled, yTrain.ravel())\n",
    "        perc = \"{:.2%}\".format(knn.score(xValScaled, yValDist))\n",
    "        print( str(i) + \" neighbor(s) score: \" + str(perc))"
   ]
  },
  {
   "cell_type": "markdown",
   "metadata": {},
   "source": [
    "# All Features"
   ]
  },
  {
   "cell_type": "markdown",
   "metadata": {},
   "source": [
    "**Features**"
   ]
  },
  {
   "cell_type": "code",
   "execution_count": 57,
   "metadata": {},
   "outputs": [],
   "source": [
    "xTrainAll = xTrain[:, 1:35]\n",
    "xValAll = xVal[:, 1:35]\n",
    "xTestAll = xTestData[:, 1:35]"
   ]
  },
  {
   "cell_type": "markdown",
   "metadata": {},
   "source": [
    "**Unbalanced**"
   ]
  },
  {
   "cell_type": "code",
   "execution_count": 54,
   "metadata": {},
   "outputs": [
    {
     "name": "stdout",
     "output_type": "stream",
     "text": [
      "1 neighbor(s) score: 96.06%\n",
      "5 neighbor(s) score: 96.48%\n",
      "10 neighbor(s) score: 96.15%\n",
      "15 neighbor(s) score: 96.06%\n",
      "20 neighbor(s) score: 95.90%\n",
      "25 neighbor(s) score: 95.90%\n",
      "30 neighbor(s) score: 95.64%\n",
      "35 neighbor(s) score: 95.73%\n",
      "40 neighbor(s) score: 95.48%\n",
      "45 neighbor(s) score: 95.39%\n",
      "50 neighbor(s) score: 95.48%\n"
     ]
    }
   ],
   "source": [
    "printScores(xTrainAll, yTrainDist, xValAll)"
   ]
  },
  {
   "cell_type": "markdown",
   "metadata": {},
   "source": [
    "**OverSampling**"
   ]
  },
  {
   "cell_type": "code",
   "execution_count": 55,
   "metadata": {},
   "outputs": [
    {
     "name": "stdout",
     "output_type": "stream",
     "text": [
      "1 neighbor(s) score: 94.56%\n",
      "5 neighbor(s) score: 93.97%\n",
      "10 neighbor(s) score: 93.13%\n",
      "15 neighbor(s) score: 91.46%\n",
      "20 neighbor(s) score: 90.87%\n",
      "25 neighbor(s) score: 90.87%\n",
      "30 neighbor(s) score: 90.54%\n",
      "35 neighbor(s) score: 90.28%\n",
      "40 neighbor(s) score: 90.45%\n",
      "45 neighbor(s) score: 89.70%\n",
      "50 neighbor(s) score: 89.95%\n"
     ]
    }
   ],
   "source": [
    "xTrainBal, yTrainBal = sm.fit_sample(xTrainAll, yTrainDist.ravel())\n",
    "\n",
    "printScores(xTrainBal, yTrainBal, xValAll)"
   ]
  },
  {
   "cell_type": "markdown",
   "metadata": {},
   "source": [
    "**UnderSampling**"
   ]
  },
  {
   "cell_type": "code",
   "execution_count": 56,
   "metadata": {},
   "outputs": [
    {
     "name": "stdout",
     "output_type": "stream",
     "text": [
      "1 neighbor(s) score: 68.17%\n",
      "5 neighbor(s) score: 71.44%\n",
      "10 neighbor(s) score: 77.05%\n",
      "15 neighbor(s) score: 76.13%\n",
      "20 neighbor(s) score: 79.90%\n",
      "25 neighbor(s) score: 81.07%\n",
      "30 neighbor(s) score: 88.69%\n",
      "35 neighbor(s) score: 88.61%\n",
      "40 neighbor(s) score: 92.29%\n",
      "45 neighbor(s) score: 91.12%\n",
      "50 neighbor(s) score: 93.38%\n"
     ]
    }
   ],
   "source": [
    "xTrainBal, yTrainBal = nr.fit_sample(xTrainAll, yTrainDist.ravel())\n",
    "\n",
    "printScores(xTrainBal, yTrainBal, xValAll)"
   ]
  },
  {
   "cell_type": "markdown",
   "metadata": {},
   "source": [
    "# All first Features of each Category"
   ]
  },
  {
   "cell_type": "markdown",
   "metadata": {},
   "source": [
    "**Features**"
   ]
  },
  {
   "cell_type": "code",
   "execution_count": 6,
   "metadata": {},
   "outputs": [],
   "source": [
    "xTrainFirsts = xTrain[:,[1,2,3, 4, 10, 20, 23, 27,30]]\n",
    "xValFirsts = xVal[:,[1,2,3, 4, 10, 20, 23, 27,30]]\n",
    "xTestFirsts = xTestData[:,[1,2,3, 4, 10, 20, 23, 27,30]]"
   ]
  },
  {
   "cell_type": "markdown",
   "metadata": {},
   "source": [
    "**Unbalanced Data**"
   ]
  },
  {
   "cell_type": "code",
   "execution_count": 7,
   "metadata": {},
   "outputs": [
    {
     "name": "stdout",
     "output_type": "stream",
     "text": [
      "1 neighbor(s) score: 96.82%\n",
      "5 neighbor(s) score: 96.31%\n",
      "10 neighbor(s) score: 95.90%\n",
      "15 neighbor(s) score: 95.90%\n",
      "20 neighbor(s) score: 95.39%\n",
      "25 neighbor(s) score: 95.23%\n",
      "30 neighbor(s) score: 95.06%\n",
      "35 neighbor(s) score: 95.23%\n",
      "40 neighbor(s) score: 95.23%\n",
      "45 neighbor(s) score: 95.31%\n",
      "50 neighbor(s) score: 95.56%\n"
     ]
    }
   ],
   "source": [
    "printScores(xTrainFirsts, yTrainDist, xValFirsts)"
   ]
  },
  {
   "cell_type": "markdown",
   "metadata": {},
   "source": [
    "**OverSampling**"
   ]
  },
  {
   "cell_type": "code",
   "execution_count": 8,
   "metadata": {},
   "outputs": [
    {
     "name": "stdout",
     "output_type": "stream",
     "text": [
      "1 neighbor(s) score: 95.64%\n",
      "5 neighbor(s) score: 93.55%\n",
      "10 neighbor(s) score: 92.29%\n",
      "15 neighbor(s) score: 90.62%\n",
      "20 neighbor(s) score: 90.12%\n",
      "25 neighbor(s) score: 88.86%\n",
      "30 neighbor(s) score: 88.94%\n",
      "35 neighbor(s) score: 88.02%\n",
      "40 neighbor(s) score: 88.11%\n",
      "45 neighbor(s) score: 87.27%\n",
      "50 neighbor(s) score: 87.52%\n"
     ]
    }
   ],
   "source": [
    "xTrainBal, yTrainBal = sm.fit_sample(xTrainFirsts, yTrainDist.ravel())\n",
    "\n",
    "printScores(xTrainBal, yTrainBal, xValFirsts)"
   ]
  },
  {
   "cell_type": "markdown",
   "metadata": {},
   "source": [
    "**UnderSampling**"
   ]
  },
  {
   "cell_type": "code",
   "execution_count": 9,
   "metadata": {},
   "outputs": [
    {
     "name": "stdout",
     "output_type": "stream",
     "text": [
      "1 neighbor(s) score: 84.25%\n",
      "5 neighbor(s) score: 92.04%\n",
      "10 neighbor(s) score: 95.06%\n",
      "15 neighbor(s) score: 94.14%\n",
      "20 neighbor(s) score: 94.89%\n",
      "25 neighbor(s) score: 94.89%\n",
      "30 neighbor(s) score: 95.14%\n",
      "35 neighbor(s) score: 95.23%\n",
      "40 neighbor(s) score: 95.64%\n",
      "45 neighbor(s) score: 95.14%\n",
      "50 neighbor(s) score: 94.72%\n"
     ]
    }
   ],
   "source": [
    "xTrainBal, yTrainBal = nr.fit_sample(xTrainFirsts, yTrainDist.ravel())\n",
    "\n",
    "printScores(xTrainBal, yTrainBal, xValFirsts)"
   ]
  },
  {
   "cell_type": "markdown",
   "metadata": {},
   "source": [
    "# All second Features of each Category"
   ]
  },
  {
   "cell_type": "markdown",
   "metadata": {},
   "source": [
    "**Features**"
   ]
  },
  {
   "cell_type": "code",
   "execution_count": 10,
   "metadata": {},
   "outputs": [],
   "source": [
    "xTrainSeconds = xTrain[:,[1,2,3, 5, 11, 21, 24, 28,31]]\n",
    "xValSeconds = xVal[:,[1,2,3, 5, 11, 21, 24, 28,31]]"
   ]
  },
  {
   "cell_type": "markdown",
   "metadata": {},
   "source": [
    "**Unbalanced**"
   ]
  },
  {
   "cell_type": "code",
   "execution_count": 11,
   "metadata": {},
   "outputs": [
    {
     "name": "stdout",
     "output_type": "stream",
     "text": [
      "1 neighbor(s) score: 95.98%\n",
      "5 neighbor(s) score: 97.24%\n",
      "10 neighbor(s) score: 96.15%\n",
      "15 neighbor(s) score: 96.57%\n",
      "20 neighbor(s) score: 96.23%\n",
      "25 neighbor(s) score: 96.40%\n",
      "30 neighbor(s) score: 96.31%\n",
      "35 neighbor(s) score: 96.06%\n",
      "40 neighbor(s) score: 96.06%\n",
      "45 neighbor(s) score: 95.98%\n",
      "50 neighbor(s) score: 95.98%\n"
     ]
    }
   ],
   "source": [
    "printScores(xTrainSeconds, yTrainDist, xValSeconds)"
   ]
  },
  {
   "cell_type": "markdown",
   "metadata": {},
   "source": [
    "**OverSampling**"
   ]
  },
  {
   "cell_type": "code",
   "execution_count": 12,
   "metadata": {},
   "outputs": [
    {
     "name": "stdout",
     "output_type": "stream",
     "text": [
      "1 neighbor(s) score: 95.39%\n",
      "5 neighbor(s) score: 92.88%\n",
      "10 neighbor(s) score: 92.55%\n",
      "15 neighbor(s) score: 91.71%\n",
      "20 neighbor(s) score: 92.13%\n",
      "25 neighbor(s) score: 91.29%\n",
      "30 neighbor(s) score: 91.71%\n",
      "35 neighbor(s) score: 91.37%\n",
      "40 neighbor(s) score: 91.29%\n",
      "45 neighbor(s) score: 91.04%\n",
      "50 neighbor(s) score: 90.70%\n"
     ]
    }
   ],
   "source": [
    "xTrainBal, yTrainBal = sm.fit_sample(xTrainSeconds, yTrainDist.ravel())\n",
    "\n",
    "printScores(xTrainBal, yTrainBal, xValSeconds)"
   ]
  },
  {
   "cell_type": "markdown",
   "metadata": {},
   "source": [
    "**UnderSampling**"
   ]
  },
  {
   "cell_type": "code",
   "execution_count": 13,
   "metadata": {},
   "outputs": [
    {
     "name": "stdout",
     "output_type": "stream",
     "text": [
      "1 neighbor(s) score: 68.51%\n",
      "5 neighbor(s) score: 75.96%\n",
      "10 neighbor(s) score: 83.50%\n",
      "15 neighbor(s) score: 82.66%\n",
      "20 neighbor(s) score: 85.93%\n",
      "25 neighbor(s) score: 84.09%\n",
      "30 neighbor(s) score: 86.43%\n",
      "35 neighbor(s) score: 86.60%\n",
      "40 neighbor(s) score: 90.37%\n",
      "45 neighbor(s) score: 90.79%\n",
      "50 neighbor(s) score: 92.80%\n"
     ]
    }
   ],
   "source": [
    "xTrainBal, yTrainBal = nr.fit_sample(xTrainSeconds, yTrainDist.ravel())\n",
    "\n",
    "printScores(xTrainBal, yTrainBal, xValSeconds)"
   ]
  },
  {
   "cell_type": "markdown",
   "metadata": {},
   "source": [
    "# All third features of each Category"
   ]
  },
  {
   "cell_type": "markdown",
   "metadata": {},
   "source": [
    "**Features**"
   ]
  },
  {
   "cell_type": "code",
   "execution_count": 14,
   "metadata": {},
   "outputs": [],
   "source": [
    "xTrainThirds = xTrain[:,[1,2,3, 6, 12, 22, 25, 29,32]]\n",
    "xValThirds = xVal[:,[1,2,3, 6, 12, 22, 25, 29,32]]"
   ]
  },
  {
   "cell_type": "markdown",
   "metadata": {},
   "source": [
    "**Unbalanced**"
   ]
  },
  {
   "cell_type": "code",
   "execution_count": 15,
   "metadata": {},
   "outputs": [
    {
     "name": "stdout",
     "output_type": "stream",
     "text": [
      "1 neighbor(s) score: 95.31%\n",
      "5 neighbor(s) score: 96.57%\n",
      "10 neighbor(s) score: 96.15%\n",
      "15 neighbor(s) score: 95.73%\n",
      "20 neighbor(s) score: 95.31%\n",
      "25 neighbor(s) score: 95.31%\n",
      "30 neighbor(s) score: 95.23%\n",
      "35 neighbor(s) score: 95.14%\n",
      "40 neighbor(s) score: 95.06%\n",
      "45 neighbor(s) score: 94.97%\n",
      "50 neighbor(s) score: 95.06%\n"
     ]
    }
   ],
   "source": [
    "printScores(xTrainThirds, yTrainDist, xValThirds)"
   ]
  },
  {
   "cell_type": "markdown",
   "metadata": {},
   "source": [
    "**OverSampling**"
   ]
  },
  {
   "cell_type": "code",
   "execution_count": 16,
   "metadata": {},
   "outputs": [
    {
     "name": "stdout",
     "output_type": "stream",
     "text": [
      "1 neighbor(s) score: 93.05%\n",
      "5 neighbor(s) score: 89.78%\n",
      "10 neighbor(s) score: 90.20%\n",
      "15 neighbor(s) score: 88.61%\n",
      "20 neighbor(s) score: 89.45%\n",
      "25 neighbor(s) score: 88.19%\n",
      "30 neighbor(s) score: 88.53%\n",
      "35 neighbor(s) score: 87.52%\n",
      "40 neighbor(s) score: 87.44%\n",
      "45 neighbor(s) score: 87.02%\n",
      "50 neighbor(s) score: 87.77%\n"
     ]
    }
   ],
   "source": [
    "xTrainBal, yTrainBal = sm.fit_sample(xTrainThirds, yTrainDist.ravel())\n",
    "\n",
    "printScores(xTrainBal, yTrainBal, xValThirds)"
   ]
  },
  {
   "cell_type": "markdown",
   "metadata": {},
   "source": [
    "**UnderSampling**"
   ]
  },
  {
   "cell_type": "code",
   "execution_count": 17,
   "metadata": {},
   "outputs": [
    {
     "name": "stdout",
     "output_type": "stream",
     "text": [
      "1 neighbor(s) score: 67.50%\n",
      "5 neighbor(s) score: 74.37%\n",
      "10 neighbor(s) score: 80.49%\n",
      "15 neighbor(s) score: 80.32%\n",
      "20 neighbor(s) score: 83.58%\n",
      "25 neighbor(s) score: 83.75%\n",
      "30 neighbor(s) score: 85.26%\n",
      "35 neighbor(s) score: 85.68%\n",
      "40 neighbor(s) score: 86.60%\n",
      "45 neighbor(s) score: 86.52%\n",
      "50 neighbor(s) score: 86.77%\n"
     ]
    }
   ],
   "source": [
    "xTrainBal, yTrainBal = nr.fit_sample(xTrainThirds, yTrainDist.ravel())\n",
    "\n",
    "printScores(xTrainBal, yTrainBal, xValThirds)"
   ]
  },
  {
   "cell_type": "markdown",
   "metadata": {},
   "source": [
    "# Controls and Liquidity Ratios"
   ]
  },
  {
   "cell_type": "markdown",
   "metadata": {},
   "source": [
    "**Features**"
   ]
  },
  {
   "cell_type": "code",
   "execution_count": 18,
   "metadata": {},
   "outputs": [],
   "source": [
    "xTrainLR = xTrain[:,[1,2,3, 4, 5, 6, 7, 8,9]]\n",
    "xValLR = xVal[:,[1,2,3, 4, 5, 6, 7, 8,9]]"
   ]
  },
  {
   "cell_type": "markdown",
   "metadata": {},
   "source": [
    "**Unbalanced**"
   ]
  },
  {
   "cell_type": "code",
   "execution_count": 19,
   "metadata": {},
   "outputs": [
    {
     "name": "stdout",
     "output_type": "stream",
     "text": [
      "1 neighbor(s) score: 95.14%\n",
      "5 neighbor(s) score: 95.39%\n",
      "10 neighbor(s) score: 95.98%\n",
      "15 neighbor(s) score: 95.81%\n",
      "20 neighbor(s) score: 95.56%\n",
      "25 neighbor(s) score: 95.90%\n",
      "30 neighbor(s) score: 95.64%\n",
      "35 neighbor(s) score: 95.64%\n",
      "40 neighbor(s) score: 95.90%\n",
      "45 neighbor(s) score: 95.98%\n",
      "50 neighbor(s) score: 96.15%\n"
     ]
    }
   ],
   "source": [
    "printScores(xTrainLR, yTrainDist, xValLR)"
   ]
  },
  {
   "cell_type": "markdown",
   "metadata": {},
   "source": [
    "**OverSampling**"
   ]
  },
  {
   "cell_type": "code",
   "execution_count": 20,
   "metadata": {},
   "outputs": [
    {
     "name": "stdout",
     "output_type": "stream",
     "text": [
      "1 neighbor(s) score: 93.22%\n",
      "5 neighbor(s) score: 91.04%\n",
      "10 neighbor(s) score: 90.20%\n",
      "15 neighbor(s) score: 88.02%\n",
      "20 neighbor(s) score: 87.52%\n",
      "25 neighbor(s) score: 86.85%\n",
      "30 neighbor(s) score: 86.01%\n",
      "35 neighbor(s) score: 85.59%\n",
      "40 neighbor(s) score: 85.68%\n",
      "45 neighbor(s) score: 85.43%\n",
      "50 neighbor(s) score: 85.68%\n"
     ]
    }
   ],
   "source": [
    "xTrainBal, yTrainBal = sm.fit_sample(xTrainLR, yTrainDist.ravel())\n",
    "\n",
    "printScores(xTrainBal, yTrainBal, xValLR)"
   ]
  },
  {
   "cell_type": "markdown",
   "metadata": {},
   "source": [
    "**UnderSampling**"
   ]
  },
  {
   "cell_type": "code",
   "execution_count": 21,
   "metadata": {},
   "outputs": [
    {
     "name": "stdout",
     "output_type": "stream",
     "text": [
      "1 neighbor(s) score: 36.68%\n",
      "5 neighbor(s) score: 37.35%\n",
      "10 neighbor(s) score: 40.62%\n",
      "15 neighbor(s) score: 39.45%\n",
      "20 neighbor(s) score: 41.12%\n",
      "25 neighbor(s) score: 42.13%\n",
      "30 neighbor(s) score: 45.31%\n",
      "35 neighbor(s) score: 46.82%\n",
      "40 neighbor(s) score: 50.50%\n",
      "45 neighbor(s) score: 51.76%\n",
      "50 neighbor(s) score: 54.52%\n"
     ]
    }
   ],
   "source": [
    "xTrainBal, yTrainBal = nr.fit_sample(xTrainLR, yTrainDist.ravel())\n",
    "\n",
    "printScores(xTrainBal, yTrainBal, xValLR)"
   ]
  },
  {
   "cell_type": "markdown",
   "metadata": {},
   "source": [
    "# Controls and Profitability Ratios"
   ]
  },
  {
   "cell_type": "markdown",
   "metadata": {},
   "source": [
    "**Features**"
   ]
  },
  {
   "cell_type": "code",
   "execution_count": 22,
   "metadata": {},
   "outputs": [],
   "source": [
    "xTrainPR = xTrain[:,[1, 2, 3, 10, 11, 12, 13, 14, 15, 16, 17, 18, 19]]\n",
    "xValPR = xVal[:,[1, 2, 3, 10, 11, 12, 13, 14, 15, 16, 17, 18, 19]]"
   ]
  },
  {
   "cell_type": "markdown",
   "metadata": {},
   "source": [
    "**Unbalanced**"
   ]
  },
  {
   "cell_type": "code",
   "execution_count": 23,
   "metadata": {},
   "outputs": [
    {
     "name": "stdout",
     "output_type": "stream",
     "text": [
      "1 neighbor(s) score: 94.64%\n",
      "5 neighbor(s) score: 95.39%\n",
      "10 neighbor(s) score: 95.48%\n",
      "15 neighbor(s) score: 95.48%\n",
      "20 neighbor(s) score: 95.56%\n",
      "25 neighbor(s) score: 95.56%\n",
      "30 neighbor(s) score: 95.39%\n",
      "35 neighbor(s) score: 95.48%\n",
      "40 neighbor(s) score: 95.48%\n",
      "45 neighbor(s) score: 95.48%\n",
      "50 neighbor(s) score: 95.31%\n"
     ]
    }
   ],
   "source": [
    "printScores(xTrainPR, yTrainDist, xValPR)"
   ]
  },
  {
   "cell_type": "markdown",
   "metadata": {},
   "source": [
    "**OverSampling**"
   ]
  },
  {
   "cell_type": "code",
   "execution_count": 24,
   "metadata": {},
   "outputs": [
    {
     "name": "stdout",
     "output_type": "stream",
     "text": [
      "1 neighbor(s) score: 91.46%\n",
      "5 neighbor(s) score: 88.86%\n",
      "10 neighbor(s) score: 87.86%\n",
      "15 neighbor(s) score: 85.43%\n",
      "20 neighbor(s) score: 86.01%\n",
      "25 neighbor(s) score: 85.18%\n",
      "30 neighbor(s) score: 85.09%\n",
      "35 neighbor(s) score: 84.25%\n",
      "40 neighbor(s) score: 85.43%\n",
      "45 neighbor(s) score: 84.76%\n",
      "50 neighbor(s) score: 84.84%\n"
     ]
    }
   ],
   "source": [
    "xTrainBal, yTrainBal = sm.fit_sample(xTrainPR, yTrainDist.ravel())\n",
    "\n",
    "printScores(xTrainBal, yTrainBal, xValPR)"
   ]
  },
  {
   "cell_type": "markdown",
   "metadata": {},
   "source": [
    "**UnderSampling**"
   ]
  },
  {
   "cell_type": "code",
   "execution_count": 25,
   "metadata": {},
   "outputs": [
    {
     "name": "stdout",
     "output_type": "stream",
     "text": [
      "1 neighbor(s) score: 33.42%\n",
      "5 neighbor(s) score: 35.26%\n",
      "10 neighbor(s) score: 39.87%\n",
      "15 neighbor(s) score: 36.35%\n",
      "20 neighbor(s) score: 39.36%\n",
      "25 neighbor(s) score: 38.94%\n",
      "30 neighbor(s) score: 43.38%\n",
      "35 neighbor(s) score: 41.62%\n",
      "40 neighbor(s) score: 46.06%\n",
      "45 neighbor(s) score: 47.40%\n",
      "50 neighbor(s) score: 50.84%\n"
     ]
    }
   ],
   "source": [
    "xTrainBal, yTrainBal = nr.fit_sample(xTrainPR, yTrainDist.ravel())\n",
    "\n",
    "printScores(xTrainBal, yTrainBal, xValPR)"
   ]
  },
  {
   "cell_type": "markdown",
   "metadata": {},
   "source": [
    "# Controls and Profitability Ratios Booleans"
   ]
  },
  {
   "cell_type": "code",
   "execution_count": 26,
   "metadata": {},
   "outputs": [],
   "source": [
    "xTrainPRB = xTrain[:,[1, 2, 3, 13, 14, 15, 16, 19]]\n",
    "xValPRB = xVal[:,[1, 2, 3, 13, 14, 15, 16, 19]]"
   ]
  },
  {
   "cell_type": "markdown",
   "metadata": {},
   "source": [
    "**Unbalanced**"
   ]
  },
  {
   "cell_type": "code",
   "execution_count": 27,
   "metadata": {},
   "outputs": [
    {
     "name": "stdout",
     "output_type": "stream",
     "text": [
      "1 neighbor(s) score: 94.97%\n",
      "5 neighbor(s) score: 96.06%\n",
      "10 neighbor(s) score: 95.39%\n",
      "15 neighbor(s) score: 95.39%\n",
      "20 neighbor(s) score: 95.14%\n",
      "25 neighbor(s) score: 95.23%\n",
      "30 neighbor(s) score: 95.06%\n",
      "35 neighbor(s) score: 95.06%\n",
      "40 neighbor(s) score: 94.97%\n",
      "45 neighbor(s) score: 95.06%\n",
      "50 neighbor(s) score: 94.97%\n"
     ]
    }
   ],
   "source": [
    "printScores(xTrainPRB, yTrainDist, xValPRB)"
   ]
  },
  {
   "cell_type": "markdown",
   "metadata": {},
   "source": [
    "**OverSampling**"
   ]
  },
  {
   "cell_type": "code",
   "execution_count": 28,
   "metadata": {},
   "outputs": [
    {
     "name": "stdout",
     "output_type": "stream",
     "text": [
      "1 neighbor(s) score: 90.87%\n",
      "5 neighbor(s) score: 90.62%\n",
      "10 neighbor(s) score: 90.62%\n",
      "15 neighbor(s) score: 88.19%\n",
      "20 neighbor(s) score: 88.44%\n",
      "25 neighbor(s) score: 87.86%\n",
      "30 neighbor(s) score: 88.53%\n",
      "35 neighbor(s) score: 88.02%\n",
      "40 neighbor(s) score: 88.78%\n",
      "45 neighbor(s) score: 88.27%\n",
      "50 neighbor(s) score: 88.27%\n"
     ]
    }
   ],
   "source": [
    "xTrainBal, yTrainBal = sm.fit_sample(xTrainPRB, yTrainDist.ravel())\n",
    "\n",
    "printScores(xTrainBal, yTrainBal, xValPRB)"
   ]
  },
  {
   "cell_type": "markdown",
   "metadata": {},
   "source": [
    "**UnderSampling**"
   ]
  },
  {
   "cell_type": "code",
   "execution_count": 29,
   "metadata": {},
   "outputs": [
    {
     "name": "stdout",
     "output_type": "stream",
     "text": [
      "1 neighbor(s) score: 25.04%\n",
      "5 neighbor(s) score: 27.72%\n",
      "10 neighbor(s) score: 28.56%\n",
      "15 neighbor(s) score: 24.62%\n",
      "20 neighbor(s) score: 26.21%\n",
      "25 neighbor(s) score: 24.96%\n",
      "30 neighbor(s) score: 26.05%\n",
      "35 neighbor(s) score: 26.13%\n",
      "40 neighbor(s) score: 28.48%\n",
      "45 neighbor(s) score: 28.81%\n",
      "50 neighbor(s) score: 34.00%\n"
     ]
    }
   ],
   "source": [
    "xTrainBal, yTrainBal = nr.fit_sample(xTrainPRB, yTrainDist.ravel())\n",
    "\n",
    "printScores(xTrainBal, yTrainBal, xValPRB)"
   ]
  },
  {
   "cell_type": "markdown",
   "metadata": {},
   "source": [
    "# Controls and Profitability Ratios Non-Boolean"
   ]
  },
  {
   "cell_type": "code",
   "execution_count": 30,
   "metadata": {},
   "outputs": [],
   "source": [
    "xTrainPRNB = xTrain[:,[1, 2, 3, 10, 11, 12, 17, 18]]\n",
    "xValPRNB = xVal[:,[1, 2, 3, 10, 11, 12, 17, 18]]"
   ]
  },
  {
   "cell_type": "markdown",
   "metadata": {},
   "source": [
    "**Unbalanced**"
   ]
  },
  {
   "cell_type": "code",
   "execution_count": 31,
   "metadata": {},
   "outputs": [
    {
     "name": "stdout",
     "output_type": "stream",
     "text": [
      "1 neighbor(s) score: 94.97%\n",
      "5 neighbor(s) score: 96.06%\n",
      "10 neighbor(s) score: 95.39%\n",
      "15 neighbor(s) score: 95.39%\n",
      "20 neighbor(s) score: 95.14%\n",
      "25 neighbor(s) score: 95.23%\n",
      "30 neighbor(s) score: 95.06%\n",
      "35 neighbor(s) score: 95.06%\n",
      "40 neighbor(s) score: 94.97%\n",
      "45 neighbor(s) score: 95.06%\n",
      "50 neighbor(s) score: 94.97%\n"
     ]
    }
   ],
   "source": [
    "printScores(xTrainPRB, yTrainDist, xValPRB)"
   ]
  },
  {
   "cell_type": "markdown",
   "metadata": {},
   "source": [
    "**OverSampling**"
   ]
  },
  {
   "cell_type": "code",
   "execution_count": 32,
   "metadata": {},
   "outputs": [
    {
     "name": "stdout",
     "output_type": "stream",
     "text": [
      "1 neighbor(s) score: 90.03%\n",
      "5 neighbor(s) score: 86.68%\n",
      "10 neighbor(s) score: 85.18%\n",
      "15 neighbor(s) score: 82.08%\n",
      "20 neighbor(s) score: 82.16%\n",
      "25 neighbor(s) score: 80.49%\n",
      "30 neighbor(s) score: 81.24%\n",
      "35 neighbor(s) score: 80.49%\n",
      "40 neighbor(s) score: 80.40%\n",
      "45 neighbor(s) score: 79.06%\n",
      "50 neighbor(s) score: 79.31%\n"
     ]
    }
   ],
   "source": [
    "xTrainBal, yTrainBal = sm.fit_sample(xTrainPRNB, yTrainDist.ravel())\n",
    "\n",
    "printScores(xTrainBal, yTrainBal, xValPRNB)"
   ]
  },
  {
   "cell_type": "markdown",
   "metadata": {},
   "source": [
    "**UnderSampling**"
   ]
  },
  {
   "cell_type": "code",
   "execution_count": 33,
   "metadata": {},
   "outputs": [
    {
     "name": "stdout",
     "output_type": "stream",
     "text": [
      "1 neighbor(s) score: 56.53%\n",
      "5 neighbor(s) score: 68.84%\n",
      "10 neighbor(s) score: 79.31%\n",
      "15 neighbor(s) score: 79.31%\n",
      "20 neighbor(s) score: 82.75%\n",
      "25 neighbor(s) score: 82.41%\n",
      "30 neighbor(s) score: 85.01%\n",
      "35 neighbor(s) score: 84.92%\n",
      "40 neighbor(s) score: 85.18%\n",
      "45 neighbor(s) score: 84.92%\n",
      "50 neighbor(s) score: 86.01%\n"
     ]
    }
   ],
   "source": [
    "xTrainBal, yTrainBal = nr.fit_sample(xTrainPRNB, yTrainDist.ravel())\n",
    "\n",
    "printScores(xTrainBal, yTrainBal, xValPRNB)"
   ]
  },
  {
   "cell_type": "markdown",
   "metadata": {},
   "source": [
    "# Constants and Capital Structure"
   ]
  },
  {
   "cell_type": "markdown",
   "metadata": {},
   "source": [
    "**Features**"
   ]
  },
  {
   "cell_type": "code",
   "execution_count": 34,
   "metadata": {},
   "outputs": [],
   "source": [
    "xTrainCS = xTrain[:,[1, 2, 3, 20, 21, 22]]\n",
    "xValCS = xVal[:,[1, 2, 3, 20, 21, 22]]"
   ]
  },
  {
   "cell_type": "markdown",
   "metadata": {},
   "source": [
    "**Unbalanced**"
   ]
  },
  {
   "cell_type": "code",
   "execution_count": 35,
   "metadata": {},
   "outputs": [
    {
     "name": "stdout",
     "output_type": "stream",
     "text": [
      "1 neighbor(s) score: 96.65%\n",
      "5 neighbor(s) score: 96.90%\n",
      "10 neighbor(s) score: 96.57%\n",
      "15 neighbor(s) score: 96.23%\n",
      "20 neighbor(s) score: 95.64%\n",
      "25 neighbor(s) score: 95.64%\n",
      "30 neighbor(s) score: 95.73%\n",
      "35 neighbor(s) score: 95.64%\n",
      "40 neighbor(s) score: 95.31%\n",
      "45 neighbor(s) score: 95.39%\n",
      "50 neighbor(s) score: 95.23%\n"
     ]
    }
   ],
   "source": [
    "printScores(xTrainCS, yTrainDist, xValCS)"
   ]
  },
  {
   "cell_type": "markdown",
   "metadata": {},
   "source": [
    "**OverSampling**"
   ]
  },
  {
   "cell_type": "code",
   "execution_count": 36,
   "metadata": {},
   "outputs": [
    {
     "name": "stdout",
     "output_type": "stream",
     "text": [
      "1 neighbor(s) score: 95.06%\n",
      "5 neighbor(s) score: 92.71%\n",
      "10 neighbor(s) score: 93.13%\n",
      "15 neighbor(s) score: 91.88%\n",
      "20 neighbor(s) score: 91.96%\n",
      "25 neighbor(s) score: 91.54%\n",
      "30 neighbor(s) score: 90.87%\n",
      "35 neighbor(s) score: 90.28%\n",
      "40 neighbor(s) score: 90.62%\n",
      "45 neighbor(s) score: 90.20%\n",
      "50 neighbor(s) score: 90.70%\n"
     ]
    }
   ],
   "source": [
    "xTrainBal, yTrainBal = sm.fit_sample(xTrainCS, yTrainDist.ravel())\n",
    "\n",
    "printScores(xTrainBal, yTrainBal, xValCS)"
   ]
  },
  {
   "cell_type": "markdown",
   "metadata": {},
   "source": [
    "**UnderSampling**"
   ]
  },
  {
   "cell_type": "code",
   "execution_count": 37,
   "metadata": {},
   "outputs": [
    {
     "name": "stdout",
     "output_type": "stream",
     "text": [
      "1 neighbor(s) score: 43.55%\n",
      "5 neighbor(s) score: 54.27%\n",
      "10 neighbor(s) score: 67.42%\n",
      "15 neighbor(s) score: 73.20%\n",
      "20 neighbor(s) score: 63.23%\n",
      "25 neighbor(s) score: 64.41%\n",
      "30 neighbor(s) score: 70.02%\n",
      "35 neighbor(s) score: 68.17%\n",
      "40 neighbor(s) score: 66.42%\n",
      "45 neighbor(s) score: 68.26%\n",
      "50 neighbor(s) score: 71.86%\n"
     ]
    }
   ],
   "source": [
    "xTrainBal, yTrainBal = nr.fit_sample(xTrainCS, yTrainDist.ravel())\n",
    "\n",
    "printScores(xTrainBal, yTrainBal, xValCS)"
   ]
  },
  {
   "cell_type": "markdown",
   "metadata": {},
   "source": [
    "# New Tests 4/20/2020"
   ]
  },
  {
   "cell_type": "markdown",
   "metadata": {},
   "source": [
    "**Features**"
   ]
  },
  {
   "cell_type": "code",
   "execution_count": 38,
   "metadata": {},
   "outputs": [],
   "source": [
    "xTrainNT = xTrain[:,[1,2,3, 4, 5, 6, 7, 8,9,26]]\n",
    "xValNT = xVal[:,[1,2,3, 4, 5, 6, 7, 8,9,26]]"
   ]
  },
  {
   "cell_type": "markdown",
   "metadata": {},
   "source": [
    "**Unbalanced**"
   ]
  },
  {
   "cell_type": "code",
   "execution_count": 39,
   "metadata": {},
   "outputs": [
    {
     "name": "stdout",
     "output_type": "stream",
     "text": [
      "1 neighbor(s) score: 94.97%\n",
      "5 neighbor(s) score: 95.64%\n",
      "10 neighbor(s) score: 95.48%\n",
      "15 neighbor(s) score: 95.64%\n",
      "20 neighbor(s) score: 95.48%\n",
      "25 neighbor(s) score: 95.64%\n",
      "30 neighbor(s) score: 95.56%\n",
      "35 neighbor(s) score: 95.56%\n",
      "40 neighbor(s) score: 95.39%\n",
      "45 neighbor(s) score: 95.39%\n",
      "50 neighbor(s) score: 95.14%\n"
     ]
    }
   ],
   "source": [
    "printScores(xTrainNT, yTrainDist, xValNT)"
   ]
  },
  {
   "cell_type": "markdown",
   "metadata": {},
   "source": [
    "**OverSampling**"
   ]
  },
  {
   "cell_type": "code",
   "execution_count": 40,
   "metadata": {},
   "outputs": [
    {
     "name": "stdout",
     "output_type": "stream",
     "text": [
      "1 neighbor(s) score: 93.72%\n",
      "5 neighbor(s) score: 91.46%\n",
      "10 neighbor(s) score: 90.62%\n",
      "15 neighbor(s) score: 89.78%\n",
      "20 neighbor(s) score: 89.61%\n",
      "25 neighbor(s) score: 89.45%\n",
      "30 neighbor(s) score: 89.36%\n",
      "35 neighbor(s) score: 88.78%\n",
      "40 neighbor(s) score: 89.03%\n",
      "45 neighbor(s) score: 88.53%\n",
      "50 neighbor(s) score: 88.53%\n"
     ]
    }
   ],
   "source": [
    "xTrainBal, yTrainBal = sm.fit_sample(xTrainNT, yTrainDist.ravel())\n",
    "\n",
    "printScores(xTrainBal, yTrainBal, xValNT)"
   ]
  },
  {
   "cell_type": "markdown",
   "metadata": {},
   "source": [
    "**UnderSampling**"
   ]
  },
  {
   "cell_type": "code",
   "execution_count": 41,
   "metadata": {},
   "outputs": [
    {
     "name": "stdout",
     "output_type": "stream",
     "text": [
      "1 neighbor(s) score: 52.51%\n",
      "5 neighbor(s) score: 56.62%\n",
      "10 neighbor(s) score: 63.82%\n",
      "15 neighbor(s) score: 63.15%\n",
      "20 neighbor(s) score: 69.85%\n",
      "25 neighbor(s) score: 70.44%\n",
      "30 neighbor(s) score: 85.93%\n",
      "35 neighbor(s) score: 85.26%\n",
      "40 neighbor(s) score: 90.87%\n",
      "45 neighbor(s) score: 90.95%\n",
      "50 neighbor(s) score: 92.71%\n"
     ]
    }
   ],
   "source": [
    "xTrainBal, yTrainBal = nr.fit_sample(xTrainNT, yTrainDist.ravel())\n",
    "\n",
    "printScores(xTrainBal, yTrainBal, xValNT)"
   ]
  },
  {
   "cell_type": "markdown",
   "metadata": {},
   "source": [
    "# Best Performer Unbalanced"
   ]
  },
  {
   "cell_type": "code",
   "execution_count": 42,
   "metadata": {},
   "outputs": [],
   "source": [
    "# xTrainFirsts = xTrain[:,[1,2,3, 4, 10, 20, 23, 27,30]]\n",
    "# xTestFirsts = xTest[:,[1,2,3, 4, 10, 20, 23, 27,30]]\n",
    "\n",
    "# knn = KNeighborsClassifier(n_neighbors=10)\n",
    "# knn.fit(xTrainFirsts, yTrainDist)\n",
    "# probs = knn.predict_proba(xTestFirsts)\n",
    "# ids = ySampleIds.tolist()\n",
    "# probs = probs.tolist()\n",
    "\n",
    "# f = open(\"knnTesting.txt\", \"w+\")\n",
    "# f.write(\"Unique Id,DIST\\n\")\n",
    "\n",
    "# for i in range(len(ids)):\n",
    "#     f.write(str(int(ids[i])) + \",\" + str(probs[i][1]) + \"\\n\")\n",
    "    \n",
    "# f.close()\n",
    "\n",
    "\n"
   ]
  },
  {
   "cell_type": "code",
   "execution_count": 43,
   "metadata": {},
   "outputs": [],
   "source": [
    "# xTrainLR = xTrain[:,[1,2,3, 4, 5, 6, 7, 8,9]]\n",
    "# xTestLR = xTest[:,[1,2,3, 4, 5, 6, 7, 8,9]]\n",
    "\n",
    "# knn = KNeighborsClassifier(n_neighbors=30)\n",
    "# knn.fit(xTrainLR, yTrainDist)\n",
    "# probs = knn.predict_proba(xTestLR)\n",
    "# ids = ySampleIds.tolist()\n",
    "# probs = probs.tolist()\n",
    "\n",
    "# f = open(\"knnTestingSub2.txt\", \"w+\")\n",
    "# f.write(\"Unique Id,DIST\\n\")\n",
    "\n",
    "# for i in range(len(ids)):\n",
    "#     f.write(str(int(ids[i])) + \",\" + str(probs[i][1]) + \"\\n\")\n",
    "    \n",
    "# f.close()"
   ]
  },
  {
   "cell_type": "code",
   "execution_count": 44,
   "metadata": {},
   "outputs": [],
   "source": [
    "# xTrainLR = xTrain[:,[1, 2, 3, 4, 18]]\n",
    "# xTestLR = xTest[:,[1, 2, 3, 4, 18]]\n",
    "\n",
    "# knn = KNeighborsClassifier(n_neighbors=20)\n",
    "# knn.fit(xTrainLR, yTrainDist)\n",
    "# probs = knn.predict_proba(xTestLR)\n",
    "# ids = ySampleIds.tolist()\n",
    "# probs = probs.tolist()\n",
    "\n",
    "# f = open(\"knnTestingTake4.txt\", \"w+\")\n",
    "# f.write(\"Unique Id,DIST\\n\")\n",
    "\n",
    "# for i in range(len(ids)):\n",
    "#     f.write(str(int(ids[i])) + \",\" + str(probs[i][1]) + \"\\n\")\n",
    "    \n",
    "# f.close()"
   ]
  },
  {
   "cell_type": "code",
   "execution_count": 45,
   "metadata": {},
   "outputs": [],
   "source": [
    "# xTrainLR = xTrain[:,[1,2,3, 4, 5, 6, 7, 8, 9, 26]]\n",
    "# xTestLR = xTest[:,[1,2,3, 4, 5, 6, 7, 8, 9, 26]]\n",
    "\n",
    "# knn = KNeighborsClassifier(n_neighbors=30)\n",
    "# knn.fit(xTrainLR, yTrainDist)\n",
    "# probs = knn.predict_proba(xTestLR)\n",
    "# ids = ySampleIds.tolist()\n",
    "# probs = probs.tolist()\n",
    "\n",
    "# f = open(\"knnTestingTake5.txt\", \"w+\")\n",
    "# f.write(\"Unique Id,DIST\\n\")\n",
    "\n",
    "# for i in range(len(ids)):\n",
    "#     f.write(str(int(ids[i])) + \",\" + str(probs[i][1]) + \"\\n\")\n",
    "    \n",
    "# f.close()"
   ]
  },
  {
   "cell_type": "markdown",
   "metadata": {},
   "source": [
    "# Best OverSampling Performer"
   ]
  },
  {
   "cell_type": "code",
   "execution_count": 46,
   "metadata": {},
   "outputs": [],
   "source": [
    "# xTrainBal, yTrainBal = sm.fit_sample(xTrainFirsts, yTrainDist.ravel())\n",
    "\n",
    "# scale = StandardScaler().fit(xTrainBal)\n",
    "# xTrainScaled = scale.transform(xTrainBal)\n",
    "# xTestScaled = scale.transform(xTestFirsts)\n",
    "\n",
    "# knn = KNeighborsClassifier(n_neighbors=20)\n",
    "# knn.fit(xTrainScaled, yTrainBal)\n",
    "# probs = knn.predict_proba(xTestFirsts)\n",
    "# ids = xTestIds.tolist()\n",
    "# probs = probs.tolist()\n",
    "\n",
    "# f = open(\"knnTestingTake6.txt\", \"w+\")\n",
    "# f.write(\"Unique Id,DIST\\n\")\n",
    "\n",
    "# for i in range(len(ids)):\n",
    "#     f.write(str(int(ids[i])) + \",\" + str(probs[i][1]) + \"\\n\")\n",
    "    \n",
    "# f.close()"
   ]
  },
  {
   "cell_type": "code",
   "execution_count": 62,
   "metadata": {},
   "outputs": [],
   "source": [
    "xTrainBal, yTrainBal = sm.fit_sample(xTrainAll, yTrainDist.ravel())\n",
    "\n",
    "scale = StandardScaler().fit(xTrainBal)\n",
    "xTrainScaled = scale.transform(xTrainBal)\n",
    "xTestScaled = scale.transform(xTestAll)\n",
    "\n",
    "knn = KNeighborsClassifier(n_neighbors=30)\n",
    "knn.fit(xTrainScaled, yTrainBal)\n",
    "probs = knn.predict_proba(xTestScaled)\n",
    "ids = xTestIds.tolist()\n",
    "probs = probs.tolist()\n",
    "\n",
    "f = open(\"knnTestingTake7.txt\", \"w+\")\n",
    "f.write(\"Unique Id,DIST\\n\")\n",
    "\n",
    "for i in range(len(ids)):\n",
    "    f.write(str(int(ids[i])) + \",\" + str(probs[i][1]) + \"\\n\")\n",
    "    \n",
    "f.close()"
   ]
  },
  {
   "cell_type": "code",
   "execution_count": null,
   "metadata": {},
   "outputs": [],
   "source": []
  }
 ],
 "metadata": {
  "kernelspec": {
   "display_name": "Python 3",
   "language": "python",
   "name": "python3"
  },
  "language_info": {
   "codemirror_mode": {
    "name": "ipython",
    "version": 3
   },
   "file_extension": ".py",
   "mimetype": "text/x-python",
   "name": "python",
   "nbconvert_exporter": "python",
   "pygments_lexer": "ipython3",
   "version": "3.7.4"
  }
 },
 "nbformat": 4,
 "nbformat_minor": 2
}
