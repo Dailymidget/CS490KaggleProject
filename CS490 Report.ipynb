{
 "cells": [
  {
   "cell_type": "markdown",
   "metadata": {},
   "source": [
    "# CS490 Report"
   ]
  },
  {
   "cell_type": "markdown",
   "metadata": {},
   "source": [
    "| Classifiers                | Score on Training | Score on Validation | Score on Leaderboard |\n",
    "|----------------------------|-------------------|---------------------|----------------------|\n",
    "| KNN (20)                   | 94.8%             | 89.8%               | 62.8%                |\n",
    "| SVM (sigmoid)              | 82.04%            | 84.6%               | 82.6%                |\n",
    "| Neural Network(15 neurons) | 72.4%             | 91.8%               | 81.2%                |"
   ]
  },
  {
   "cell_type": "code",
   "execution_count": null,
   "metadata": {},
   "outputs": [],
   "source": []
  }
 ],
 "metadata": {
  "kernelspec": {
   "display_name": "Python 3",
   "language": "python",
   "name": "python3"
  },
  "language_info": {
   "codemirror_mode": {
    "name": "ipython",
    "version": 3
   },
   "file_extension": ".py",
   "mimetype": "text/x-python",
   "name": "python",
   "nbconvert_exporter": "python",
   "pygments_lexer": "ipython3",
   "version": "3.6.10"
  }
 },
 "nbformat": 4,
 "nbformat_minor": 4
}
