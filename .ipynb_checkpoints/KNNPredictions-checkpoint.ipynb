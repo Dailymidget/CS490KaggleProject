{
 "cells": [
  {
   "cell_type": "markdown",
   "metadata": {},
   "source": [
    "**KNN Testing**"
   ]
  },
  {
   "cell_type": "code",
   "execution_count": 82,
   "metadata": {},
   "outputs": [],
   "source": [
    "import numpy as np # linear algebra\n",
    "import pandas as pd # data processing, CSV file I/O (e.g. pd.read_csv)\n",
    "import matplotlib.pyplot as plt\n",
    "from sklearn.model_selection import train_test_split\n",
    "from sklearn.neighbors import KNeighborsClassifier"
   ]
  },
  {
   "cell_type": "code",
   "execution_count": 2,
   "metadata": {},
   "outputs": [],
   "source": [
    "xTestData = np.genfromtxt(\"data/X_test.txt\", delimiter = None, skip_header=1)\n",
    "xTrainData = np.genfromtxt(\"data/X_train.txt\", delimiter = None, skip_header=1, encoding='ISO-8859-1')\n",
    "yTrainData = np.genfromtxt(\"data/Y_train.txt\", delimiter = None, skip_header=1)\n",
    "\n",
    "xTrain, xTest, yTrain, yTest = train_test_split(xTrainData, yTrainData, test_size=0.25, shuffle = True)"
   ]
  },
  {
   "cell_type": "code",
   "execution_count": 70,
   "metadata": {},
   "outputs": [],
   "source": [
    "yTrainDist = yTrain[:, 1]\n",
    "yTrainZ = yTrain[:, 0]\n",
    "yTestDist = yTest[:,1]\n",
    "yTestZ = yTest[:,0]\n",
    "\n",
    "xTestIds = xTestData[:,0]"
   ]
  },
  {
   "cell_type": "markdown",
   "metadata": {},
   "source": [
    "**All first Features of each Category**"
   ]
  },
  {
   "cell_type": "code",
   "execution_count": 4,
   "metadata": {},
   "outputs": [
    {
     "name": "stdout",
     "output_type": "stream",
     "text": [
      "1 neighbor(s) score: 0.9731993299832495\n",
      "5 neighbor(s) score: 0.9773869346733668\n",
      "10 neighbor(s) score: 0.974036850921273\n",
      "15 neighbor(s) score: 0.9706867671691792\n",
      "20 neighbor(s) score: 0.9673366834170855\n",
      "25 neighbor(s) score: 0.9656616415410385\n",
      "30 neighbor(s) score: 0.964824120603015\n",
      "35 neighbor(s) score: 0.9639865996649917\n",
      "40 neighbor(s) score: 0.958961474036851\n",
      "45 neighbor(s) score: 0.9606365159128978\n",
      "50 neighbor(s) score: 0.9614740368509213\n"
     ]
    }
   ],
   "source": [
    "xTrainFirsts = xTrain[:,[1,2,3, 4, 10, 20, 23, 27,30]]\n",
    "xTestFirsts = xTest[:,[1,2,3, 4, 10, 20, 23, 27,30]]\n",
    "\n",
    "knn = KNeighborsClassifier(n_neighbors=1)\n",
    "\n",
    "for i in range(0, 55, 5):\n",
    "    if i == 0:\n",
    "        i = 1\n",
    "    knn.n_neighbors = i\n",
    "    knn.fit(xTrainFirsts, yTrainDist)\n",
    "    print( str(i) + \" neighbor(s) score: \" + str(knn.score(xTestFirsts, yTestDist)))"
   ]
  },
  {
   "cell_type": "markdown",
   "metadata": {},
   "source": [
    "**All second Features of each Category**"
   ]
  },
  {
   "cell_type": "code",
   "execution_count": 5,
   "metadata": {},
   "outputs": [
    {
     "name": "stdout",
     "output_type": "stream",
     "text": [
      "1 neighbor(s) score: 0.9505862646566164\n",
      "5 neighbor(s) score: 0.958961474036851\n",
      "10 neighbor(s) score: 0.9606365159128978\n",
      "15 neighbor(s) score: 0.957286432160804\n",
      "20 neighbor(s) score: 0.9564489112227805\n",
      "25 neighbor(s) score: 0.958961474036851\n",
      "30 neighbor(s) score: 0.9556113902847572\n",
      "35 neighbor(s) score: 0.9581239530988275\n",
      "40 neighbor(s) score: 0.9581239530988275\n",
      "45 neighbor(s) score: 0.957286432160804\n",
      "50 neighbor(s) score: 0.957286432160804\n"
     ]
    }
   ],
   "source": [
    "xTrainSeconds = xTrain[:,[1,2,3, 5, 11, 21, 24, 28,31]]\n",
    "xTestSeconds = xTest[:,[1,2,3, 5, 11, 21, 24, 28,31]]\n",
    "\n",
    "knn = KNeighborsClassifier(n_neighbors=1)\n",
    "\n",
    "for i in range(0, 55, 5):\n",
    "    if i == 0:\n",
    "        i = 1\n",
    "    knn.n_neighbors = i\n",
    "    knn.fit(xTrainSeconds, yTrainDist)\n",
    "    print( str(i) + \" neighbor(s) score: \" + str(knn.score(xTestSeconds, yTestDist)))"
   ]
  },
  {
   "cell_type": "markdown",
   "metadata": {},
   "source": [
    "**all third features of each Category**"
   ]
  },
  {
   "cell_type": "code",
   "execution_count": 6,
   "metadata": {},
   "outputs": [
    {
     "name": "stdout",
     "output_type": "stream",
     "text": [
      "1 neighbor(s) score: 0.9547738693467337\n",
      "5 neighbor(s) score: 0.9597989949748744\n",
      "10 neighbor(s) score: 0.9597989949748744\n",
      "15 neighbor(s) score: 0.9597989949748744\n",
      "20 neighbor(s) score: 0.958961474036851\n",
      "25 neighbor(s) score: 0.958961474036851\n",
      "30 neighbor(s) score: 0.9581239530988275\n",
      "35 neighbor(s) score: 0.958961474036851\n",
      "40 neighbor(s) score: 0.957286432160804\n",
      "45 neighbor(s) score: 0.9564489112227805\n",
      "50 neighbor(s) score: 0.9564489112227805\n"
     ]
    }
   ],
   "source": [
    "xTrainThirds = xTrain[:,[1,2,3, 6, 12, 22, 25, 29,32]]\n",
    "xTestThirds = xTest[:,[1,2,3, 6, 12, 22, 25, 29,32]]\n",
    "\n",
    "knn = KNeighborsClassifier(n_neighbors=1)\n",
    "\n",
    "for i in range(0, 55, 5):\n",
    "    if i == 0:\n",
    "        i = 1\n",
    "    knn.n_neighbors = i\n",
    "    knn.fit(xTrainThirds, yTrainDist)\n",
    "    print( str(i) + \" neighbor(s) score: \" + str(knn.score(xTestThirds, yTestDist)))"
   ]
  },
  {
   "cell_type": "markdown",
   "metadata": {},
   "source": [
    "**Controls and Liquidity Ratios**"
   ]
  },
  {
   "cell_type": "code",
   "execution_count": 7,
   "metadata": {},
   "outputs": [
    {
     "name": "stdout",
     "output_type": "stream",
     "text": [
      "1 neighbor(s) score: 0.9690117252931323\n",
      "5 neighbor(s) score: 0.9690117252931323\n",
      "10 neighbor(s) score: 0.9715242881072027\n",
      "15 neighbor(s) score: 0.9698492462311558\n",
      "20 neighbor(s) score: 0.9681742043551089\n",
      "25 neighbor(s) score: 0.9673366834170855\n",
      "30 neighbor(s) score: 0.9681742043551089\n",
      "35 neighbor(s) score: 0.9681742043551089\n",
      "40 neighbor(s) score: 0.966499162479062\n",
      "45 neighbor(s) score: 0.964824120603015\n",
      "50 neighbor(s) score: 0.9656616415410385\n"
     ]
    }
   ],
   "source": [
    "xTrainLR = xTrain[:,[1,2,3, 4, 5, 6, 7, 8,9]]\n",
    "xTestLR = xTest[:,[1,2,3, 4, 5, 6, 7, 8,9]]\n",
    "\n",
    "knn = KNeighborsClassifier(n_neighbors=1)\n",
    "\n",
    "for i in range(0, 55, 5):\n",
    "    if i == 0:\n",
    "        i = 1\n",
    "    knn.n_neighbors = i\n",
    "    knn.fit(xTrainLR, yTrainDist)\n",
    "    print( str(i) + \" neighbor(s) score: \" + str(knn.score(xTestLR, yTestDist)))"
   ]
  },
  {
   "cell_type": "code",
   "execution_count": 8,
   "metadata": {},
   "outputs": [
    {
     "name": "stdout",
     "output_type": "stream",
     "text": [
      "1 neighbor(s) score: 0.9639865996649917\n",
      "5 neighbor(s) score: 0.966499162479062\n",
      "10 neighbor(s) score: 0.9690117252931323\n",
      "15 neighbor(s) score: 0.966499162479062\n",
      "20 neighbor(s) score: 0.964824120603015\n",
      "25 neighbor(s) score: 0.966499162479062\n",
      "30 neighbor(s) score: 0.966499162479062\n",
      "35 neighbor(s) score: 0.9656616415410385\n",
      "40 neighbor(s) score: 0.966499162479062\n",
      "45 neighbor(s) score: 0.9639865996649917\n",
      "50 neighbor(s) score: 0.9639865996649917\n"
     ]
    }
   ],
   "source": [
    "xTrainLR = xTrain[:,[1,2,3, 4, 5, 6, 7, 8]]\n",
    "xTestLR = xTest[:,[1,2,3, 4, 5, 6, 7, 8]]\n",
    "\n",
    "knn = KNeighborsClassifier(n_neighbors=1)\n",
    "\n",
    "for i in range(0, 55, 5):\n",
    "    if i == 0:\n",
    "        i = 1\n",
    "    knn.n_neighbors = i\n",
    "    knn.fit(xTrainLR, yTrainDist)\n",
    "    print( str(i) + \" neighbor(s) score: \" + str(knn.score(xTestLR, yTestDist)))"
   ]
  },
  {
   "cell_type": "markdown",
   "metadata": {},
   "source": [
    "**Controls and Profitability Ratios**"
   ]
  },
  {
   "cell_type": "code",
   "execution_count": 9,
   "metadata": {},
   "outputs": [
    {
     "name": "stdout",
     "output_type": "stream",
     "text": [
      "1 neighbor(s) score: 0.9472361809045227\n",
      "5 neighbor(s) score: 0.9606365159128978\n",
      "10 neighbor(s) score: 0.9547738693467337\n",
      "15 neighbor(s) score: 0.9564489112227805\n",
      "20 neighbor(s) score: 0.9556113902847572\n",
      "25 neighbor(s) score: 0.958961474036851\n",
      "30 neighbor(s) score: 0.9581239530988275\n",
      "35 neighbor(s) score: 0.9581239530988275\n",
      "40 neighbor(s) score: 0.9581239530988275\n",
      "45 neighbor(s) score: 0.9581239530988275\n",
      "50 neighbor(s) score: 0.9581239530988275\n"
     ]
    }
   ],
   "source": [
    "xTrainPR = xTrain[:,[1, 2, 3, 10, 11, 12, 13, 14, 15, 16, 17, 18, 19]]\n",
    "xTestPR = xTest[:,[1, 2, 3, 10, 11, 12, 13, 14, 15, 16, 17, 18, 19]]\n",
    "\n",
    "knn = KNeighborsClassifier(n_neighbors=1)\n",
    "\n",
    "for i in range(0, 55, 5):\n",
    "    if i == 0:\n",
    "        i = 1\n",
    "    knn.n_neighbors = i\n",
    "    knn.fit(xTrainPR, yTrainDist)\n",
    "    print( str(i) + \" neighbor(s) score: \" + str(knn.score(xTestPR, yTestDist)))"
   ]
  },
  {
   "cell_type": "code",
   "execution_count": 10,
   "metadata": {},
   "outputs": [
    {
     "name": "stdout",
     "output_type": "stream",
     "text": [
      "1 neighbor(s) score: 0.9438860971524288\n",
      "5 neighbor(s) score: 0.957286432160804\n",
      "10 neighbor(s) score: 0.9564489112227805\n",
      "15 neighbor(s) score: 0.9564489112227805\n",
      "20 neighbor(s) score: 0.9556113902847572\n",
      "25 neighbor(s) score: 0.958961474036851\n",
      "30 neighbor(s) score: 0.9581239530988275\n",
      "35 neighbor(s) score: 0.9581239530988275\n",
      "40 neighbor(s) score: 0.957286432160804\n",
      "45 neighbor(s) score: 0.9581239530988275\n",
      "50 neighbor(s) score: 0.9581239530988275\n"
     ]
    }
   ],
   "source": [
    "#Just boolean values\n",
    "xTrainPR = xTrain[:,[1, 2, 3, 13, 14, 15, 16, 19]]\n",
    "xTestPR = xTest[:,[1, 2, 3, 13, 14, 15, 16, 19]]\n",
    "\n",
    "knn = KNeighborsClassifier(n_neighbors=1)\n",
    "\n",
    "for i in range(0, 55, 5):\n",
    "    if i == 0:\n",
    "        i = 1\n",
    "    knn.n_neighbors = i\n",
    "    knn.fit(xTrainPR, yTrainDist)\n",
    "    print( str(i) + \" neighbor(s) score: \" + str(knn.score(xTestPR, yTestDist)))"
   ]
  },
  {
   "cell_type": "code",
   "execution_count": 11,
   "metadata": {},
   "outputs": [
    {
     "name": "stdout",
     "output_type": "stream",
     "text": [
      "1 neighbor(s) score: 0.9514237855946399\n",
      "5 neighbor(s) score: 0.9623115577889447\n",
      "10 neighbor(s) score: 0.9606365159128978\n",
      "15 neighbor(s) score: 0.9597989949748744\n",
      "20 neighbor(s) score: 0.957286432160804\n",
      "25 neighbor(s) score: 0.957286432160804\n",
      "30 neighbor(s) score: 0.9556113902847572\n",
      "35 neighbor(s) score: 0.9564489112227805\n",
      "40 neighbor(s) score: 0.9564489112227805\n",
      "45 neighbor(s) score: 0.9564489112227805\n",
      "50 neighbor(s) score: 0.9556113902847572\n"
     ]
    }
   ],
   "source": [
    "#Non-boolean values\n",
    "xTrainPR = xTrain[:,[1, 2, 3, 10, 11, 12, 17, 18]]\n",
    "xTestPR = xTest[:,[1, 2, 3, 10, 11, 12, 17, 18]]\n",
    "\n",
    "knn = KNeighborsClassifier(n_neighbors=1)\n",
    "\n",
    "for i in range(0, 55, 5):\n",
    "    if i == 0:\n",
    "        i = 1\n",
    "    knn.n_neighbors = i\n",
    "    knn.fit(xTrainPR, yTrainDist)\n",
    "    print( str(i) + \" neighbor(s) score: \" + str(knn.score(xTestPR, yTestDist)))"
   ]
  },
  {
   "cell_type": "markdown",
   "metadata": {},
   "source": [
    "**Constants and Capital Structure**"
   ]
  },
  {
   "cell_type": "code",
   "execution_count": 12,
   "metadata": {},
   "outputs": [
    {
     "name": "stdout",
     "output_type": "stream",
     "text": [
      "1 neighbor(s) score: 0.958961474036851\n",
      "5 neighbor(s) score: 0.966499162479062\n",
      "10 neighbor(s) score: 0.9631490787269682\n",
      "15 neighbor(s) score: 0.9623115577889447\n",
      "20 neighbor(s) score: 0.9614740368509213\n",
      "25 neighbor(s) score: 0.9606365159128978\n",
      "30 neighbor(s) score: 0.958961474036851\n",
      "35 neighbor(s) score: 0.9614740368509213\n",
      "40 neighbor(s) score: 0.964824120603015\n",
      "45 neighbor(s) score: 0.9639865996649917\n",
      "50 neighbor(s) score: 0.9614740368509213\n"
     ]
    }
   ],
   "source": [
    "xTrainCS = xTrain[:,[1, 2, 3, 20, 21, 22]]\n",
    "xTestCS = xTest[:,[1, 2, 3, 20, 21, 22]]\n",
    "\n",
    "knn = KNeighborsClassifier(n_neighbors=1)\n",
    "\n",
    "for i in range(0, 55, 5):\n",
    "    if i == 0:\n",
    "        i = 1\n",
    "    knn.n_neighbors = i\n",
    "    knn.fit(xTrainCS, yTrainDist)\n",
    "    print( str(i) + \" neighbor(s) score: \" + str(knn.score(xTestCS, yTestDist)))"
   ]
  },
  {
   "cell_type": "code",
   "execution_count": 45,
   "metadata": {},
   "outputs": [],
   "source": [
    "def writeFile(fileName, data):\n",
    "    f = open(fileName, \"w+\")\n",
    "    f.write(\"Unique Id,DIST\")\n",
    "    f.write(data)\n",
    "    f.close"
   ]
  },
  {
   "cell_type": "markdown",
   "metadata": {},
   "source": [
    "**Best Performer**"
   ]
  },
  {
   "cell_type": "code",
   "execution_count": 83,
   "metadata": {},
   "outputs": [],
   "source": [
    "xTrainFirsts = xTrain[:,[1,2,3, 4, 10, 20, 23, 27,30]]\n",
    "xTestFirsts = xTest[:,[1,2,3, 4, 10, 20, 23, 27,30]]\n",
    "\n",
    "knn = KNeighborsClassifier(n_neighbors=10)\n",
    "knn.fit(xTrainFirsts, yTrainDist)\n",
    "probs = knn.predict_proba(xTestFirsts)\n",
    "ids = xTestIds.tolist()\n",
    "probs = probs.tolist()\n",
    "\n",
    "f = open(\"knnTesting.txt\", \"w+\")\n",
    "f.write(\"Unique Id,DIST\\n\")\n",
    "\n",
    "for i in range(len(ids)):\n",
    "    f.write(str(int(ids[i])) + \",\" + str(probs[i][1]) + \"\\n\")\n",
    "    \n",
    "f.close()\n",
    "\n",
    "\n"
   ]
  },
  {
   "cell_type": "code",
   "execution_count": null,
   "metadata": {},
   "outputs": [],
   "source": []
  }
 ],
 "metadata": {
  "kernelspec": {
   "display_name": "Python 3",
   "language": "python",
   "name": "python3"
  },
  "language_info": {
   "codemirror_mode": {
    "name": "ipython",
    "version": 3
   },
   "file_extension": ".py",
   "mimetype": "text/x-python",
   "name": "python",
   "nbconvert_exporter": "python",
   "pygments_lexer": "ipython3",
   "version": "3.7.4"
  }
 },
 "nbformat": 4,
 "nbformat_minor": 2
}
