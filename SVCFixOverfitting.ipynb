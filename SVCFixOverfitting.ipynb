{
 "cells": [
  {
   "cell_type": "code",
   "execution_count": 1,
   "metadata": {},
   "outputs": [],
   "source": [
    "import numpy as np # linear algebra\n",
    "import pandas as pd # data processing, CSV file I/O (e.g. pd.read_csv)\n",
    "import matplotlib.pyplot as plt\n",
    "from sklearn.model_selection import train_test_split\n",
    "from sklearn import svm\n",
    "from imblearn.over_sampling import SMOTE \n",
    "from imblearn.under_sampling import NearMiss \n",
    "from sklearn.preprocessing import StandardScaler\n",
    "from sklearn.metrics import confusion_matrix, classification_report"
   ]
  },
  {
   "cell_type": "code",
   "execution_count": 2,
   "metadata": {},
   "outputs": [],
   "source": [
    "xTestData = np.genfromtxt(\"data/X_test.txt\", delimiter = None, skip_header=1)\n",
    "xTrainData = np.genfromtxt(\"data/X_train.txt\", delimiter = None, skip_header=1)\n",
    "yTrainData = np.genfromtxt(\"data/Y_train.txt\", delimiter = None, skip_header=1)"
   ]
  },
  {
   "cell_type": "code",
   "execution_count": 3,
   "metadata": {},
   "outputs": [],
   "source": [
    "xTrain, xVal, yTrain, yVal = train_test_split(xTrainData, yTrainData, test_size=0.25, shuffle = True)"
   ]
  },
  {
   "cell_type": "code",
   "execution_count": 4,
   "metadata": {},
   "outputs": [],
   "source": [
    "yTrainDist = yTrain[:, 1]\n",
    "yTrainZ = yTrain[:, 0]\n",
    "yValDist = yVal[:,1]\n",
    "yValZ = yVal[:,0]\n",
    "\n",
    "xTestIds = xTestData[:,0]\n",
    "\n",
    "#OverSampler\n",
    "sm = SMOTE(random_state = 2)\n",
    "\n",
    "#UnderSampler\n",
    "nr = NearMiss()"
   ]
  },
  {
   "cell_type": "code",
   "execution_count": 5,
   "metadata": {},
   "outputs": [],
   "source": [
    "def printScores(xTrain, yTrain, xVal):\n",
    "    scale = StandardScaler().fit(xTrain)\n",
    "    xTrainScaled = scale.transform(xTrain)\n",
    "    xValScaled = scale.transform(xVal)\n",
    "\n",
    "    kernelTypes = [\"rbf\", \"linear\", \"poly\", \"sigmoid\"]\n",
    "    \n",
    "    for kType in kernelTypes:\n",
    "        svc = svm.SVC(kernel=kType, probability=True)\n",
    "        svc.fit(xTrainScaled, yTrain.ravel())\n",
    "        perc = \"{:.2%}\".format(svc.score(xValScaled, yValDist))\n",
    "        yPred = svc.predict(xValScaled)\n",
    "        print(kType + \": \" + str(perc) + \"\\n\" + str(classification_report(yValDist, yPred)) + \"\\n\" + str(confusion_matrix(yValDist, yPred)) + \"\\n\")"
   ]
  },
  {
   "cell_type": "code",
   "execution_count": null,
   "metadata": {},
   "outputs": [],
   "source": []
  },
  {
   "cell_type": "code",
   "execution_count": 6,
   "metadata": {},
   "outputs": [],
   "source": [
    "xTrainFirsts = xTrain[:,[1,2,3,4,11,18,22,29]]\n",
    "xValFirsts = xVal[:,[1,2,3,4,11,18,22,29]]\n",
    "xTestFirsts = xTestData[:,[1,2,3,4,11,18,22,29]]"
   ]
  },
  {
   "cell_type": "code",
   "execution_count": 7,
   "metadata": {},
   "outputs": [],
   "source": [
    "# xTrainBal, yTrainBal = sm.fit_sample(xTrainFirsts, yTrainDist.ravel())\n",
    "\n",
    "# printScores(xTrainBal, yTrainBal, xValFirsts)"
   ]
  },
  {
   "cell_type": "code",
   "execution_count": null,
   "metadata": {},
   "outputs": [],
   "source": []
  },
  {
   "cell_type": "code",
   "execution_count": 22,
   "metadata": {},
   "outputs": [],
   "source": [
    "xTrainFirstsP = xTrain[:,[1,2,3,11,22,26,32]]\n",
    "xValFirstsP = xVal[:,[1,2,3,11,22,26,32]]\n",
    "xTestFirstsP = xTestData[:,[1,2,3,11,22,26,32]]"
   ]
  },
  {
   "cell_type": "code",
   "execution_count": 23,
   "metadata": {},
   "outputs": [
    {
     "name": "stdout",
     "output_type": "stream",
     "text": [
      "rbf: 90.62%\n",
      "              precision    recall  f1-score   support\n",
      "\n",
      "         0.0       0.98      0.92      0.95      1126\n",
      "         1.0       0.35      0.72      0.47        68\n",
      "\n",
      "    accuracy                           0.91      1194\n",
      "   macro avg       0.66      0.82      0.71      1194\n",
      "weighted avg       0.95      0.91      0.92      1194\n",
      "\n",
      "[[1033   93]\n",
      " [  19   49]]\n",
      "\n",
      "linear: 83.08%\n",
      "              precision    recall  f1-score   support\n",
      "\n",
      "         0.0       0.98      0.84      0.90      1126\n",
      "         1.0       0.21      0.72      0.33        68\n",
      "\n",
      "    accuracy                           0.83      1194\n",
      "   macro avg       0.60      0.78      0.61      1194\n",
      "weighted avg       0.94      0.83      0.87      1194\n",
      "\n",
      "[[943 183]\n",
      " [ 19  49]]\n",
      "\n",
      "poly: 85.59%\n",
      "              precision    recall  f1-score   support\n",
      "\n",
      "         0.0       0.98      0.86      0.92      1126\n",
      "         1.0       0.25      0.76      0.38        68\n",
      "\n",
      "    accuracy                           0.86      1194\n",
      "   macro avg       0.62      0.81      0.65      1194\n",
      "weighted avg       0.94      0.86      0.89      1194\n",
      "\n",
      "[[970 156]\n",
      " [ 16  52]]\n",
      "\n",
      "sigmoid: 78.39%\n",
      "              precision    recall  f1-score   support\n",
      "\n",
      "         0.0       0.98      0.79      0.87      1126\n",
      "         1.0       0.16      0.68      0.26        68\n",
      "\n",
      "    accuracy                           0.78      1194\n",
      "   macro avg       0.57      0.73      0.57      1194\n",
      "weighted avg       0.93      0.78      0.84      1194\n",
      "\n",
      "[[890 236]\n",
      " [ 22  46]]\n",
      "\n"
     ]
    }
   ],
   "source": [
    "xTrainBal, yTrainBal = sm.fit_sample(xTrainFirstsP, yTrainDist.ravel())\n",
    "\n",
    "printScores(xTrainBal, yTrainBal, xValFirstsP)"
   ]
  },
  {
   "cell_type": "code",
   "execution_count": 51,
   "metadata": {},
   "outputs": [],
   "source": [
    "xTrainImp = xTrain[:,[1,4,5,11,13,8,14,22,20,27]]\n",
    "xValImp = xVal[:,[1,4,5,11,13,8,14,22,20,27]]\n",
    "xTestImp = xTestData[:,[1,4,5,11,13,8,14,22,20,27]]"
   ]
  },
  {
   "cell_type": "code",
   "execution_count": 52,
   "metadata": {},
   "outputs": [
    {
     "name": "stdout",
     "output_type": "stream",
     "text": [
      "rbf: 93.97%\n",
      "              precision    recall  f1-score   support\n",
      "\n",
      "         0.0       1.00      0.94      0.97      1126\n",
      "         1.0       0.48      0.93      0.64        68\n",
      "\n",
      "    accuracy                           0.94      1194\n",
      "   macro avg       0.74      0.93      0.80      1194\n",
      "weighted avg       0.97      0.94      0.95      1194\n",
      "\n",
      "[[1059   67]\n",
      " [   5   63]]\n",
      "\n",
      "linear: 94.30%\n",
      "              precision    recall  f1-score   support\n",
      "\n",
      "         0.0       1.00      0.94      0.97      1126\n",
      "         1.0       0.50      0.97      0.66        68\n",
      "\n",
      "    accuracy                           0.94      1194\n",
      "   macro avg       0.75      0.96      0.81      1194\n",
      "weighted avg       0.97      0.94      0.95      1194\n",
      "\n",
      "[[1060   66]\n",
      " [   2   66]]\n",
      "\n",
      "poly: 94.39%\n",
      "              precision    recall  f1-score   support\n",
      "\n",
      "         0.0       0.99      0.95      0.97      1126\n",
      "         1.0       0.50      0.76      0.61        68\n",
      "\n",
      "    accuracy                           0.94      1194\n",
      "   macro avg       0.75      0.86      0.79      1194\n",
      "weighted avg       0.96      0.94      0.95      1194\n",
      "\n",
      "[[1075   51]\n",
      " [  16   52]]\n",
      "\n",
      "sigmoid: 84.59%\n",
      "              precision    recall  f1-score   support\n",
      "\n",
      "         0.0       0.99      0.85      0.91      1126\n",
      "         1.0       0.24      0.81      0.37        68\n",
      "\n",
      "    accuracy                           0.85      1194\n",
      "   macro avg       0.61      0.83      0.64      1194\n",
      "weighted avg       0.94      0.85      0.88      1194\n",
      "\n",
      "[[955 171]\n",
      " [ 13  55]]\n",
      "\n"
     ]
    }
   ],
   "source": [
    "xTrainBal, yTrainBal = sm.fit_sample(xTrainImp, yTrainDist.ravel())\n",
    "\n",
    "printScores(xTrainBal, yTrainBal, xValImp)"
   ]
  },
  {
   "cell_type": "code",
   "execution_count": 57,
   "metadata": {},
   "outputs": [
    {
     "name": "stdout",
     "output_type": "stream",
     "text": [
      "printed!!!\n"
     ]
    }
   ],
   "source": [
    "xTrainBal, yTrainBal = sm.fit_sample(xTrainImp, yTrainDist.ravel())\n",
    "\n",
    "scale = StandardScaler().fit(xTrainBal)\n",
    "xTrainScaled = scale.transform(xTrainBal)\n",
    "xTestScaled = scale.transform(xTestImp)\n",
    "\n",
    "svc = svm.SVC(kernel=\"sigmoid\", probability=True)\n",
    "svc.fit(xTrainScaled, yTrainBal)\n",
    "probs = svc.predict_proba(xTestScaled)\n",
    "ids = xTestIds.tolist()\n",
    "probs = probs.tolist()\n",
    "\n",
    "f = open(\"SVCFixOverfit3.txt\", \"w+\")\n",
    "f.write(\"Unique Id,DIST\\n\")\n",
    "\n",
    "for i in range(len(ids)):\n",
    "    f.write(str(int(ids[i])) + \",\" + str(probs[i][1]) + \"\\n\")\n",
    "    \n",
    "f.close()\n",
    "print(\"printed!!!\")"
   ]
  },
  {
   "cell_type": "code",
   "execution_count": 50,
   "metadata": {},
   "outputs": [
    {
     "name": "stdout",
     "output_type": "stream",
     "text": [
      "(4776, 34)\n",
      "(4776,)\n",
      "[0.03262446 0.00890592 0.02007327 0.04533448 0.04773892 0.01803306\n",
      " 0.01574445 0.05063358 0.01670701 0.01861799 0.04820141 0.020625\n",
      " 0.04926518 0.05279549 0.02716324 0.0104105  0.01546149 0.01477629\n",
      " 0.01483137 0.08083314 0.02363701 0.06850893 0.01832662 0.01731119\n",
      " 0.01606259 0.02317881 0.08944549 0.03071785 0.01322002 0.01961896\n",
      " 0.01691441 0.01611012 0.01481757 0.02335419]\n"
     ]
    },
    {
     "name": "stderr",
     "output_type": "stream",
     "text": [
      "/home/dan/anaconda3/lib/python3.7/site-packages/sklearn/ensemble/forest.py:245: FutureWarning: The default value of n_estimators will change from 10 in version 0.20 to 100 in 0.22.\n",
      "  \"10 in version 0.20 to 100 in 0.22.\", FutureWarning)\n"
     ]
    },
    {
     "data": {
      "image/png": "[encoded data removed]",
      "text/plain": [
       "<Figure size 432x288 with 1 Axes>"
      ]
     },
     "metadata": {
      "needs_background": "light"
     },
     "output_type": "display_data"
    }
   ],
   "source": [
    "X = xTrainData[:,1:35]  #independent columns\n",
    "print(X.shape)\n",
    "y = yTrainData[:,1]    #target column i.e price range\n",
    "print(y.shape)\n",
    "\n",
    "scale = StandardScaler().fit(X)\n",
    "xTrainScaled = scale.transform(X)\n",
    "\n",
    "from sklearn.ensemble import ExtraTreesClassifier\n",
    "import matplotlib.pyplot as plt\n",
    "model = ExtraTreesClassifier()\n",
    "model.fit(xTrainScaled,y)\n",
    "print(model.feature_importances_) #use inbuilt class feature_importances of tree based classifiers\n",
    "#plot graph of feature importances for better visualization\n",
    "feat_importances = pd.Series(model.feature_importances_)\n",
    "feat_importances.nlargest(10).plot(kind='barh')\n",
    "plt.show()"
   ]
  },
  {
   "cell_type": "code",
   "execution_count": null,
   "metadata": {},
   "outputs": [],
   "source": []
  }
 ],
 "metadata": {
  "kernelspec": {
   "display_name": "Python 3",
   "language": "python",
   "name": "python3"
  },
  "language_info": {
   "codemirror_mode": {
    "name": "ipython",
    "version": 3
   },
   "file_extension": ".py",
   "mimetype": "text/x-python",
   "name": "python",
   "nbconvert_exporter": "python",
   "pygments_lexer": "ipython3",
   "version": "3.7.4"
  }
 },
 "nbformat": 4,
 "nbformat_minor": 2
}
