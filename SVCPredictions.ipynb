{
 "cells": [
  {
   "cell_type": "markdown",
   "metadata": {},
   "source": [
    "# Support Vector Classifier Testing"
   ]
  },
  {
   "cell_type": "code",
   "execution_count": 1,
   "metadata": {},
   "outputs": [],
   "source": [
    "import numpy as np # linear algebra\n",
    "import pandas as pd # data processing, CSV file I/O (e.g. pd.read_csv)\n",
    "import matplotlib.pyplot as plt\n",
    "from sklearn.model_selection import train_test_split\n",
    "from sklearn import svm\n",
    "from imblearn.over_sampling import SMOTE \n",
    "from imblearn.under_sampling import NearMiss \n",
    "from sklearn.preprocessing import StandardScaler\n",
    "from sklearn.metrics import confusion_matrix, classification_report"
   ]
  },
  {
   "cell_type": "code",
   "execution_count": 2,
   "metadata": {},
   "outputs": [],
   "source": [
    "xTestData = np.genfromtxt(\"data/X_test.txt\", delimiter = None, skip_header=1)\n",
    "xTrainData = np.genfromtxt(\"data/X_train.txt\", delimiter = None, skip_header=1)\n",
    "yTrainData = np.genfromtxt(\"data/Y_train.txt\", delimiter = None, skip_header=1)"
   ]
  },
  {
   "cell_type": "code",
   "execution_count": 67,
   "metadata": {},
   "outputs": [],
   "source": [
    "xTrain, xVal, yTrain, yVal = train_test_split(xTrainData, yTrainData, test_size=0.25, shuffle = True)"
   ]
  },
  {
   "cell_type": "code",
   "execution_count": 76,
   "metadata": {},
   "outputs": [
    {
     "name": "stdout",
     "output_type": "stream",
     "text": [
      "(3582,)\n"
     ]
    }
   ],
   "source": [
    "yTrainDist = yTrain[:, 1]\n",
    "yTrainZ = yTrain[:, 0]\n",
    "yValDist = yVal[:,1]\n",
    "yValZ = yVal[:,0]\n",
    "\n",
    "xTestIds = xTestData[:,0]\n",
    "\n",
    "#OverSampler\n",
    "sm = SMOTE(random_state = 2)\n",
    "\n",
    "#UnderSampler\n",
    "nr = NearMiss()"
   ]
  },
  {
   "cell_type": "markdown",
   "metadata": {},
   "source": [
    "**Helper method for printing Score for KNN(1-50 neighbors)**"
   ]
  },
  {
   "cell_type": "code",
   "execution_count": 69,
   "metadata": {},
   "outputs": [],
   "source": [
    "def printScores(xTrain, yTrain, xVal):\n",
    "    scale = StandardScaler().fit(xTrain)\n",
    "    xTrainScaled = scale.transform(xTrain)\n",
    "    xValScaled = scale.transform(xVal)\n",
    "\n",
    "    kernelTypes = [\"rbf\", \"linear\", \"poly\", \"sigmoid\"]\n",
    "    \n",
    "    for kType in kernelTypes:\n",
    "        svc = svm.SVC(kernel=kType, probability=True)\n",
    "        svc.fit(xTrainScaled, yTrain.ravel())\n",
    "        perc = \"{:.2%}\".format(svc.score(xValScaled, yValDist))\n",
    "        yPred = svc.predict(xValScaled)\n",
    "        print(kType + \": \" + str(perc) + \"\\n\" + str(classification_report(yValDist, yPred)) + \"\\n\" + str(confusion_matrix(yValDist, yPred)) + \"\\n\")"
   ]
  },
  {
   "cell_type": "markdown",
   "metadata": {},
   "source": [
    "# All Features"
   ]
  },
  {
   "cell_type": "markdown",
   "metadata": {},
   "source": [
    "**Features**"
   ]
  },
  {
   "cell_type": "code",
   "execution_count": 6,
   "metadata": {},
   "outputs": [],
   "source": [
    "xTrainAll = xTrain[:, 1:35]\n",
    "xValAll = xVal[:, 1:35]\n",
    "xTestAll = xTestData[:, 1:35]"
   ]
  },
  {
   "cell_type": "markdown",
   "metadata": {},
   "source": [
    "**Unbalanced**"
   ]
  },
  {
   "cell_type": "code",
   "execution_count": 7,
   "metadata": {},
   "outputs": [
    {
     "name": "stdout",
     "output_type": "stream",
     "text": [
      "rbf: 96.98%\n",
      "              precision    recall  f1-score   support\n",
      "\n",
      "         0.0       0.97      1.00      0.98      1132\n",
      "         1.0       0.91      0.47      0.62        62\n",
      "\n",
      "    accuracy                           0.97      1194\n",
      "   macro avg       0.94      0.73      0.80      1194\n",
      "weighted avg       0.97      0.97      0.97      1194\n",
      "\n",
      "[[1129    3]\n",
      " [  33   29]]\n",
      "\n",
      "linear: 96.65%\n",
      "              precision    recall  f1-score   support\n",
      "\n",
      "         0.0       0.97      0.99      0.98      1132\n",
      "         1.0       0.81      0.47      0.59        62\n",
      "\n",
      "    accuracy                           0.97      1194\n",
      "   macro avg       0.89      0.73      0.79      1194\n",
      "weighted avg       0.96      0.97      0.96      1194\n",
      "\n",
      "[[1125    7]\n",
      " [  33   29]]\n",
      "\n",
      "poly: 95.98%\n",
      "              precision    recall  f1-score   support\n",
      "\n",
      "         0.0       0.96      0.99      0.98      1132\n",
      "         1.0       0.77      0.32      0.45        62\n",
      "\n",
      "    accuracy                           0.96      1194\n",
      "   macro avg       0.87      0.66      0.72      1194\n",
      "weighted avg       0.95      0.96      0.95      1194\n",
      "\n",
      "[[1126    6]\n",
      " [  42   20]]\n",
      "\n",
      "sigmoid: 92.63%\n",
      "              precision    recall  f1-score   support\n",
      "\n",
      "         0.0       0.96      0.96      0.96      1132\n",
      "         1.0       0.26      0.23      0.24        62\n",
      "\n",
      "    accuracy                           0.93      1194\n",
      "   macro avg       0.61      0.60      0.60      1194\n",
      "weighted avg       0.92      0.93      0.92      1194\n",
      "\n",
      "[[1092   40]\n",
      " [  48   14]]\n",
      "\n"
     ]
    }
   ],
   "source": [
    "printScores(xTrainAll, yTrainDist, xValAll)"
   ]
  },
  {
   "cell_type": "markdown",
   "metadata": {},
   "source": [
    "**OverSampling**"
   ]
  },
  {
   "cell_type": "code",
   "execution_count": 8,
   "metadata": {},
   "outputs": [
    {
     "name": "stdout",
     "output_type": "stream",
     "text": [
      "rbf: 94.81%\n",
      "              precision    recall  f1-score   support\n",
      "\n",
      "         0.0       0.99      0.95      0.97      1132\n",
      "         1.0       0.50      0.87      0.64        62\n",
      "\n",
      "    accuracy                           0.95      1194\n",
      "   macro avg       0.75      0.91      0.80      1194\n",
      "weighted avg       0.97      0.95      0.95      1194\n",
      "\n",
      "[[1078   54]\n",
      " [   8   54]]\n",
      "\n",
      "linear: 94.97%\n",
      "              precision    recall  f1-score   support\n",
      "\n",
      "         0.0       1.00      0.95      0.97      1132\n",
      "         1.0       0.51      0.97      0.67        62\n",
      "\n",
      "    accuracy                           0.95      1194\n",
      "   macro avg       0.75      0.96      0.82      1194\n",
      "weighted avg       0.97      0.95      0.96      1194\n",
      "\n",
      "[[1074   58]\n",
      " [   2   60]]\n",
      "\n",
      "poly: 93.47%\n",
      "              precision    recall  f1-score   support\n",
      "\n",
      "         0.0       0.99      0.94      0.96      1132\n",
      "         1.0       0.43      0.85      0.58        62\n",
      "\n",
      "    accuracy                           0.93      1194\n",
      "   macro avg       0.71      0.90      0.77      1194\n",
      "weighted avg       0.96      0.93      0.94      1194\n",
      "\n",
      "[[1063   69]\n",
      " [   9   53]]\n",
      "\n",
      "sigmoid: 84.42%\n",
      "              precision    recall  f1-score   support\n",
      "\n",
      "         0.0       0.99      0.85      0.91      1132\n",
      "         1.0       0.23      0.82      0.35        62\n",
      "\n",
      "    accuracy                           0.84      1194\n",
      "   macro avg       0.61      0.83      0.63      1194\n",
      "weighted avg       0.95      0.84      0.88      1194\n",
      "\n",
      "[[957 175]\n",
      " [ 11  51]]\n",
      "\n"
     ]
    }
   ],
   "source": [
    "xTrainBal, yTrainBal = sm.fit_sample(xTrainAll, yTrainDist.ravel())\n",
    "\n",
    "printScores(xTrainBal, yTrainBal, xValAll)"
   ]
  },
  {
   "cell_type": "markdown",
   "metadata": {},
   "source": [
    "**UnderSampling**"
   ]
  },
  {
   "cell_type": "code",
   "execution_count": 9,
   "metadata": {},
   "outputs": [
    {
     "name": "stdout",
     "output_type": "stream",
     "text": [
      "rbf: 54.86%\n",
      "              precision    recall  f1-score   support\n",
      "\n",
      "         0.0       1.00      0.52      0.69      1132\n",
      "         1.0       0.10      0.98      0.18        62\n",
      "\n",
      "    accuracy                           0.55      1194\n",
      "   macro avg       0.55      0.75      0.44      1194\n",
      "weighted avg       0.95      0.55      0.66      1194\n",
      "\n",
      "[[594 538]\n",
      " [  1  61]]\n",
      "\n",
      "linear: 93.63%\n",
      "              precision    recall  f1-score   support\n",
      "\n",
      "         0.0       1.00      0.93      0.97      1132\n",
      "         1.0       0.45      0.97      0.61        62\n",
      "\n",
      "    accuracy                           0.94      1194\n",
      "   macro avg       0.72      0.95      0.79      1194\n",
      "weighted avg       0.97      0.94      0.95      1194\n",
      "\n",
      "[[1058   74]\n",
      " [   2   60]]\n",
      "\n",
      "poly: 90.12%\n",
      "              precision    recall  f1-score   support\n",
      "\n",
      "         0.0       0.98      0.91      0.95      1132\n",
      "         1.0       0.31      0.74      0.44        62\n",
      "\n",
      "    accuracy                           0.90      1194\n",
      "   macro avg       0.65      0.83      0.69      1194\n",
      "weighted avg       0.95      0.90      0.92      1194\n",
      "\n",
      "[[1030  102]\n",
      " [  16   46]]\n",
      "\n",
      "sigmoid: 90.37%\n",
      "              precision    recall  f1-score   support\n",
      "\n",
      "         0.0       0.99      0.90      0.95      1132\n",
      "         1.0       0.34      0.89      0.49        62\n",
      "\n",
      "    accuracy                           0.90      1194\n",
      "   macro avg       0.67      0.90      0.72      1194\n",
      "weighted avg       0.96      0.90      0.92      1194\n",
      "\n",
      "[[1024  108]\n",
      " [   7   55]]\n",
      "\n"
     ]
    }
   ],
   "source": [
    "xTrainBal, yTrainBal = nr.fit_sample(xTrainAll, yTrainDist.ravel())\n",
    "\n",
    "printScores(xTrainBal, yTrainBal, xValAll)"
   ]
  },
  {
   "cell_type": "markdown",
   "metadata": {},
   "source": [
    "# All first Features of each Category"
   ]
  },
  {
   "cell_type": "markdown",
   "metadata": {},
   "source": [
    "**Features**"
   ]
  },
  {
   "cell_type": "code",
   "execution_count": 70,
   "metadata": {},
   "outputs": [],
   "source": [
    "xTrainFirsts = xTrain[:,[1,2,3, 4, 10, 20, 23, 27,30]]\n",
    "xValFirsts = xVal[:,[1,2,3, 4, 10, 20, 23, 27,30]]\n",
    "xTestFirsts = xTestData[:,[1,2,3, 4, 10, 20, 23, 27,30]]"
   ]
  },
  {
   "cell_type": "markdown",
   "metadata": {},
   "source": [
    "**Unbalanced Data**"
   ]
  },
  {
   "cell_type": "code",
   "execution_count": 11,
   "metadata": {},
   "outputs": [
    {
     "name": "stdout",
     "output_type": "stream",
     "text": [
      "rbf: 95.23%\n",
      "              precision    recall  f1-score   support\n",
      "\n",
      "         0.0       0.96      1.00      0.98      1132\n",
      "         1.0       0.67      0.16      0.26        62\n",
      "\n",
      "    accuracy                           0.95      1194\n",
      "   macro avg       0.81      0.58      0.62      1194\n",
      "weighted avg       0.94      0.95      0.94      1194\n",
      "\n",
      "[[1127    5]\n",
      " [  52   10]]\n",
      "\n",
      "linear: 94.89%\n",
      "              precision    recall  f1-score   support\n",
      "\n",
      "         0.0       0.95      1.00      0.97      1132\n",
      "         1.0       1.00      0.02      0.03        62\n",
      "\n",
      "    accuracy                           0.95      1194\n",
      "   macro avg       0.97      0.51      0.50      1194\n",
      "weighted avg       0.95      0.95      0.92      1194\n",
      "\n",
      "[[1132    0]\n",
      " [  61    1]]\n",
      "\n",
      "poly: 95.06%\n",
      "              precision    recall  f1-score   support\n",
      "\n",
      "         0.0       0.96      0.99      0.97      1132\n",
      "         1.0       0.59      0.16      0.25        62\n",
      "\n",
      "    accuracy                           0.95      1194\n",
      "   macro avg       0.77      0.58      0.61      1194\n",
      "weighted avg       0.94      0.95      0.94      1194\n",
      "\n",
      "[[1125    7]\n",
      " [  52   10]]\n",
      "\n",
      "sigmoid: 93.55%\n",
      "              precision    recall  f1-score   support\n",
      "\n",
      "         0.0       0.95      0.98      0.97      1132\n",
      "         1.0       0.20      0.08      0.11        62\n",
      "\n",
      "    accuracy                           0.94      1194\n",
      "   macro avg       0.58      0.53      0.54      1194\n",
      "weighted avg       0.91      0.94      0.92      1194\n",
      "\n",
      "[[1112   20]\n",
      " [  57    5]]\n",
      "\n"
     ]
    }
   ],
   "source": [
    "printScores(xTrainFirsts, yTrainDist, xValFirsts)"
   ]
  },
  {
   "cell_type": "markdown",
   "metadata": {},
   "source": [
    "**OverSampling**"
   ]
  },
  {
   "cell_type": "code",
   "execution_count": 71,
   "metadata": {},
   "outputs": [
    {
     "name": "stdout",
     "output_type": "stream",
     "text": [
      "rbf: 91.79%\n",
      "              precision    recall  f1-score   support\n",
      "\n",
      "         0.0       0.99      0.92      0.96      1140\n",
      "         1.0       0.34      0.85      0.48        54\n",
      "\n",
      "    accuracy                           0.92      1194\n",
      "   macro avg       0.67      0.89      0.72      1194\n",
      "weighted avg       0.96      0.92      0.93      1194\n",
      "\n",
      "[[1050   90]\n",
      " [   8   46]]\n",
      "\n",
      "linear: 93.63%\n",
      "              precision    recall  f1-score   support\n",
      "\n",
      "         0.0       1.00      0.94      0.97      1140\n",
      "         1.0       0.41      0.96      0.58        54\n",
      "\n",
      "    accuracy                           0.94      1194\n",
      "   macro avg       0.71      0.95      0.77      1194\n",
      "weighted avg       0.97      0.94      0.95      1194\n",
      "\n",
      "[[1066   74]\n",
      " [   2   52]]\n",
      "\n",
      "poly: 87.35%\n",
      "              precision    recall  f1-score   support\n",
      "\n",
      "         0.0       0.99      0.88      0.93      1140\n",
      "         1.0       0.24      0.83      0.37        54\n",
      "\n",
      "    accuracy                           0.87      1194\n",
      "   macro avg       0.62      0.85      0.65      1194\n",
      "weighted avg       0.96      0.87      0.90      1194\n",
      "\n",
      "[[998 142]\n",
      " [  9  45]]\n",
      "\n",
      "sigmoid: 78.73%\n",
      "              precision    recall  f1-score   support\n",
      "\n",
      "         0.0       0.99      0.79      0.88      1140\n",
      "         1.0       0.15      0.78      0.25        54\n",
      "\n",
      "    accuracy                           0.79      1194\n",
      "   macro avg       0.57      0.78      0.56      1194\n",
      "weighted avg       0.95      0.79      0.85      1194\n",
      "\n",
      "[[898 242]\n",
      " [ 12  42]]\n",
      "\n"
     ]
    }
   ],
   "source": [
    "xTrainBal, yTrainBal = sm.fit_sample(xTrainFirsts, yTrainDist.ravel())\n",
    "\n",
    "printScores(xTrainBal, yTrainBal, xValFirsts)"
   ]
  },
  {
   "cell_type": "markdown",
   "metadata": {},
   "source": [
    "**UnderSampling**"
   ]
  },
  {
   "cell_type": "code",
   "execution_count": 13,
   "metadata": {},
   "outputs": [
    {
     "name": "stdout",
     "output_type": "stream",
     "text": [
      "rbf: 75.04%\n",
      "              precision    recall  f1-score   support\n",
      "\n",
      "         0.0       1.00      0.74      0.85      1132\n",
      "         1.0       0.17      0.95      0.28        62\n",
      "\n",
      "    accuracy                           0.75      1194\n",
      "   macro avg       0.58      0.85      0.57      1194\n",
      "weighted avg       0.95      0.75      0.82      1194\n",
      "\n",
      "[[837 295]\n",
      " [  3  59]]\n",
      "\n",
      "linear: 94.39%\n",
      "              precision    recall  f1-score   support\n",
      "\n",
      "         0.0       0.99      0.95      0.97      1132\n",
      "         1.0       0.48      0.89      0.62        62\n",
      "\n",
      "    accuracy                           0.94      1194\n",
      "   macro avg       0.74      0.92      0.80      1194\n",
      "weighted avg       0.97      0.94      0.95      1194\n",
      "\n",
      "[[1072   60]\n",
      " [   7   55]]\n",
      "\n",
      "poly: 95.48%\n",
      "              precision    recall  f1-score   support\n",
      "\n",
      "         0.0       0.99      0.96      0.98      1132\n",
      "         1.0       0.54      0.84      0.66        62\n",
      "\n",
      "    accuracy                           0.95      1194\n",
      "   macro avg       0.77      0.90      0.82      1194\n",
      "weighted avg       0.97      0.95      0.96      1194\n",
      "\n",
      "[[1088   44]\n",
      " [  10   52]]\n",
      "\n",
      "sigmoid: 92.96%\n",
      "              precision    recall  f1-score   support\n",
      "\n",
      "         0.0       0.99      0.94      0.96      1132\n",
      "         1.0       0.41      0.82      0.55        62\n",
      "\n",
      "    accuracy                           0.93      1194\n",
      "   macro avg       0.70      0.88      0.76      1194\n",
      "weighted avg       0.96      0.93      0.94      1194\n",
      "\n",
      "[[1059   73]\n",
      " [  11   51]]\n",
      "\n"
     ]
    }
   ],
   "source": [
    "xTrainBal, yTrainBal = nr.fit_sample(xTrainFirsts, yTrainDist.ravel())\n",
    "\n",
    "printScores(xTrainBal, yTrainBal, xValFirsts)"
   ]
  },
  {
   "cell_type": "markdown",
   "metadata": {},
   "source": [
    "# All Firsts plus one"
   ]
  },
  {
   "cell_type": "code",
   "execution_count": 72,
   "metadata": {},
   "outputs": [],
   "source": [
    "xTrainFirstsP = xTrain[:,[1,2,3,8,11,18,22,26,27,32]]\n",
    "xValFirstsP = xVal[:,[1,2,3,8,11,18,22,26,27,32]]\n",
    "xTestFirstsP = xTestData[:,[1,2,3,8,11,18,22,26,27,32]]"
   ]
  },
  {
   "cell_type": "markdown",
   "metadata": {},
   "source": [
    "**OverSampling**"
   ]
  },
  {
   "cell_type": "code",
   "execution_count": 73,
   "metadata": {},
   "outputs": [
    {
     "name": "stdout",
     "output_type": "stream",
     "text": [
      "rbf: 94.47%\n",
      "              precision    recall  f1-score   support\n",
      "\n",
      "         0.0       0.99      0.95      0.97      1140\n",
      "         1.0       0.44      0.80      0.57        54\n",
      "\n",
      "    accuracy                           0.94      1194\n",
      "   macro avg       0.71      0.87      0.77      1194\n",
      "weighted avg       0.97      0.94      0.95      1194\n",
      "\n",
      "[[1085   55]\n",
      " [  11   43]]\n",
      "\n",
      "linear: 89.70%\n",
      "              precision    recall  f1-score   support\n",
      "\n",
      "         0.0       0.99      0.90      0.94      1140\n",
      "         1.0       0.29      0.87      0.43        54\n",
      "\n",
      "    accuracy                           0.90      1194\n",
      "   macro avg       0.64      0.88      0.69      1194\n",
      "weighted avg       0.96      0.90      0.92      1194\n",
      "\n",
      "[[1024  116]\n",
      " [   7   47]]\n",
      "\n",
      "poly: 92.55%\n",
      "              precision    recall  f1-score   support\n",
      "\n",
      "         0.0       0.99      0.93      0.96      1140\n",
      "         1.0       0.35      0.76      0.48        54\n",
      "\n",
      "    accuracy                           0.93      1194\n",
      "   macro avg       0.67      0.85      0.72      1194\n",
      "weighted avg       0.96      0.93      0.94      1194\n",
      "\n",
      "[[1064   76]\n",
      " [  13   41]]\n",
      "\n",
      "sigmoid: 80.65%\n",
      "              precision    recall  f1-score   support\n",
      "\n",
      "         0.0       0.99      0.81      0.89      1140\n",
      "         1.0       0.17      0.81      0.28        54\n",
      "\n",
      "    accuracy                           0.81      1194\n",
      "   macro avg       0.58      0.81      0.58      1194\n",
      "weighted avg       0.95      0.81      0.86      1194\n",
      "\n",
      "[[919 221]\n",
      " [ 10  44]]\n",
      "\n"
     ]
    }
   ],
   "source": [
    "xTrainBal, yTrainBal = sm.fit_sample(xTrainFirstsP, yTrainDist.ravel())\n",
    "\n",
    "printScores(xTrainBal, yTrainBal, xValFirstsP)"
   ]
  },
  {
   "cell_type": "markdown",
   "metadata": {},
   "source": [
    "**UnderSampling**"
   ]
  },
  {
   "cell_type": "code",
   "execution_count": 16,
   "metadata": {},
   "outputs": [
    {
     "name": "stdout",
     "output_type": "stream",
     "text": [
      "rbf: 68.76%\n",
      "              precision    recall  f1-score   support\n",
      "\n",
      "         0.0       1.00      0.67      0.80      1132\n",
      "         1.0       0.14      1.00      0.25        62\n",
      "\n",
      "    accuracy                           0.69      1194\n",
      "   macro avg       0.57      0.84      0.53      1194\n",
      "weighted avg       0.96      0.69      0.77      1194\n",
      "\n",
      "[[759 373]\n",
      " [  0  62]]\n",
      "\n",
      "linear: 96.90%\n",
      "              precision    recall  f1-score   support\n",
      "\n",
      "         0.0       1.00      0.97      0.98      1132\n",
      "         1.0       0.63      0.98      0.77        62\n",
      "\n",
      "    accuracy                           0.97      1194\n",
      "   macro avg       0.81      0.98      0.88      1194\n",
      "weighted avg       0.98      0.97      0.97      1194\n",
      "\n",
      "[[1096   36]\n",
      " [   1   61]]\n",
      "\n",
      "poly: 96.23%\n",
      "              precision    recall  f1-score   support\n",
      "\n",
      "         0.0       0.99      0.97      0.98      1132\n",
      "         1.0       0.60      0.82      0.69        62\n",
      "\n",
      "    accuracy                           0.96      1194\n",
      "   macro avg       0.80      0.90      0.84      1194\n",
      "weighted avg       0.97      0.96      0.97      1194\n",
      "\n",
      "[[1098   34]\n",
      " [  11   51]]\n",
      "\n",
      "sigmoid: 92.80%\n",
      "              precision    recall  f1-score   support\n",
      "\n",
      "         0.0       1.00      0.93      0.96      1132\n",
      "         1.0       0.41      0.94      0.57        62\n",
      "\n",
      "    accuracy                           0.93      1194\n",
      "   macro avg       0.71      0.93      0.77      1194\n",
      "weighted avg       0.97      0.93      0.94      1194\n",
      "\n",
      "[[1050   82]\n",
      " [   4   58]]\n",
      "\n"
     ]
    }
   ],
   "source": [
    "xTrainBal, yTrainBal = nr.fit_sample(xTrainFirstsP, yTrainDist.ravel())\n",
    "\n",
    "printScores(xTrainBal, yTrainBal, xValFirstsP)"
   ]
  },
  {
   "cell_type": "code",
   "execution_count": null,
   "metadata": {},
   "outputs": [],
   "source": []
  },
  {
   "cell_type": "markdown",
   "metadata": {},
   "source": [
    "# All second Features of each Category"
   ]
  },
  {
   "cell_type": "markdown",
   "metadata": {},
   "source": [
    "**Features**"
   ]
  },
  {
   "cell_type": "code",
   "execution_count": 17,
   "metadata": {},
   "outputs": [],
   "source": [
    "xTrainSeconds = xTrain[:,[1,2,3, 5, 11, 21, 24, 28,31]]\n",
    "xValSeconds = xVal[:,[1,2,3, 5, 11, 21, 24, 28,31]]"
   ]
  },
  {
   "cell_type": "markdown",
   "metadata": {},
   "source": [
    "**Unbalanced**"
   ]
  },
  {
   "cell_type": "code",
   "execution_count": 18,
   "metadata": {},
   "outputs": [
    {
     "name": "stdout",
     "output_type": "stream",
     "text": [
      "rbf: 95.98%\n",
      "              precision    recall  f1-score   support\n",
      "\n",
      "         0.0       0.96      1.00      0.98      1132\n",
      "         1.0       0.82      0.29      0.43        62\n",
      "\n",
      "    accuracy                           0.96      1194\n",
      "   macro avg       0.89      0.64      0.70      1194\n",
      "weighted avg       0.95      0.96      0.95      1194\n",
      "\n",
      "[[1128    4]\n",
      " [  44   18]]\n",
      "\n",
      "linear: 95.64%\n",
      "              precision    recall  f1-score   support\n",
      "\n",
      "         0.0       0.96      1.00      0.98      1132\n",
      "         1.0       0.78      0.23      0.35        62\n",
      "\n",
      "    accuracy                           0.96      1194\n",
      "   macro avg       0.87      0.61      0.66      1194\n",
      "weighted avg       0.95      0.96      0.94      1194\n",
      "\n",
      "[[1128    4]\n",
      " [  48   14]]\n",
      "\n",
      "poly: 96.23%\n",
      "              precision    recall  f1-score   support\n",
      "\n",
      "         0.0       0.97      0.99      0.98      1132\n",
      "         1.0       0.77      0.39      0.52        62\n",
      "\n",
      "    accuracy                           0.96      1194\n",
      "   macro avg       0.87      0.69      0.75      1194\n",
      "weighted avg       0.96      0.96      0.96      1194\n",
      "\n",
      "[[1125    7]\n",
      " [  38   24]]\n",
      "\n",
      "sigmoid: 92.96%\n",
      "              precision    recall  f1-score   support\n",
      "\n",
      "         0.0       0.96      0.97      0.96      1132\n",
      "         1.0       0.26      0.19      0.22        62\n",
      "\n",
      "    accuracy                           0.93      1194\n",
      "   macro avg       0.61      0.58      0.59      1194\n",
      "weighted avg       0.92      0.93      0.92      1194\n",
      "\n",
      "[[1098   34]\n",
      " [  50   12]]\n",
      "\n"
     ]
    }
   ],
   "source": [
    "printScores(xTrainSeconds, yTrainDist, xValSeconds)"
   ]
  },
  {
   "cell_type": "markdown",
   "metadata": {},
   "source": [
    "**OverSampling**"
   ]
  },
  {
   "cell_type": "code",
   "execution_count": 19,
   "metadata": {},
   "outputs": [
    {
     "name": "stdout",
     "output_type": "stream",
     "text": [
      "rbf: 93.38%\n",
      "              precision    recall  f1-score   support\n",
      "\n",
      "         0.0       0.99      0.94      0.96      1132\n",
      "         1.0       0.43      0.82      0.56        62\n",
      "\n",
      "    accuracy                           0.93      1194\n",
      "   macro avg       0.71      0.88      0.76      1194\n",
      "weighted avg       0.96      0.93      0.94      1194\n",
      "\n",
      "[[1064   68]\n",
      " [  11   51]]\n",
      "\n",
      "linear: 89.87%\n",
      "              precision    recall  f1-score   support\n",
      "\n",
      "         0.0       0.99      0.90      0.94      1132\n",
      "         1.0       0.33      0.89      0.48        62\n",
      "\n",
      "    accuracy                           0.90      1194\n",
      "   macro avg       0.66      0.89      0.71      1194\n",
      "weighted avg       0.96      0.90      0.92      1194\n",
      "\n",
      "[[1018  114]\n",
      " [   7   55]]\n",
      "\n",
      "poly: 88.53%\n",
      "              precision    recall  f1-score   support\n",
      "\n",
      "         0.0       0.99      0.89      0.94      1132\n",
      "         1.0       0.29      0.85      0.44        62\n",
      "\n",
      "    accuracy                           0.89      1194\n",
      "   macro avg       0.64      0.87      0.69      1194\n",
      "weighted avg       0.95      0.89      0.91      1194\n",
      "\n",
      "[[1004  128]\n",
      " [   9   53]]\n",
      "\n",
      "sigmoid: 81.99%\n",
      "              precision    recall  f1-score   support\n",
      "\n",
      "         0.0       0.99      0.82      0.90      1132\n",
      "         1.0       0.20      0.84      0.33        62\n",
      "\n",
      "    accuracy                           0.82      1194\n",
      "   macro avg       0.60      0.83      0.61      1194\n",
      "weighted avg       0.95      0.82      0.87      1194\n",
      "\n",
      "[[927 205]\n",
      " [ 10  52]]\n",
      "\n"
     ]
    }
   ],
   "source": [
    "xTrainBal, yTrainBal = sm.fit_sample(xTrainSeconds, yTrainDist.ravel())\n",
    "\n",
    "printScores(xTrainBal, yTrainBal, xValSeconds)"
   ]
  },
  {
   "cell_type": "markdown",
   "metadata": {},
   "source": [
    "**UnderSampling**"
   ]
  },
  {
   "cell_type": "code",
   "execution_count": 20,
   "metadata": {},
   "outputs": [
    {
     "name": "stdout",
     "output_type": "stream",
     "text": [
      "rbf: 58.12%\n",
      "              precision    recall  f1-score   support\n",
      "\n",
      "         0.0       0.99      0.56      0.72      1132\n",
      "         1.0       0.10      0.92      0.19        62\n",
      "\n",
      "    accuracy                           0.58      1194\n",
      "   macro avg       0.55      0.74      0.45      1194\n",
      "weighted avg       0.95      0.58      0.69      1194\n",
      "\n",
      "[[637 495]\n",
      " [  5  57]]\n",
      "\n",
      "linear: 88.11%\n",
      "              precision    recall  f1-score   support\n",
      "\n",
      "         0.0       0.99      0.88      0.93      1132\n",
      "         1.0       0.29      0.87      0.43        62\n",
      "\n",
      "    accuracy                           0.88      1194\n",
      "   macro avg       0.64      0.88      0.68      1194\n",
      "weighted avg       0.96      0.88      0.91      1194\n",
      "\n",
      "[[998 134]\n",
      " [  8  54]]\n",
      "\n",
      "poly: 83.33%\n",
      "              precision    recall  f1-score   support\n",
      "\n",
      "         0.0       0.98      0.84      0.91      1132\n",
      "         1.0       0.19      0.69      0.30        62\n",
      "\n",
      "    accuracy                           0.83      1194\n",
      "   macro avg       0.59      0.77      0.60      1194\n",
      "weighted avg       0.94      0.83      0.87      1194\n",
      "\n",
      "[[952 180]\n",
      " [ 19  43]]\n",
      "\n",
      "sigmoid: 91.46%\n",
      "              precision    recall  f1-score   support\n",
      "\n",
      "         0.0       0.99      0.92      0.95      1132\n",
      "         1.0       0.36      0.84      0.50        62\n",
      "\n",
      "    accuracy                           0.91      1194\n",
      "   macro avg       0.68      0.88      0.73      1194\n",
      "weighted avg       0.96      0.91      0.93      1194\n",
      "\n",
      "[[1040   92]\n",
      " [  10   52]]\n",
      "\n"
     ]
    }
   ],
   "source": [
    "xTrainBal, yTrainBal = nr.fit_sample(xTrainSeconds, yTrainDist.ravel())\n",
    "\n",
    "printScores(xTrainBal, yTrainBal, xValSeconds)"
   ]
  },
  {
   "cell_type": "markdown",
   "metadata": {},
   "source": [
    "# All third features of each Category"
   ]
  },
  {
   "cell_type": "markdown",
   "metadata": {},
   "source": [
    "**Features**"
   ]
  },
  {
   "cell_type": "code",
   "execution_count": 21,
   "metadata": {},
   "outputs": [],
   "source": [
    "xTrainThirds = xTrain[:,[1,2,3, 6, 12, 22, 25, 29,32]]\n",
    "xValThirds = xVal[:,[1,2,3, 6, 12, 22, 25, 29,32]]"
   ]
  },
  {
   "cell_type": "markdown",
   "metadata": {},
   "source": [
    "**Unbalanced**"
   ]
  },
  {
   "cell_type": "code",
   "execution_count": 22,
   "metadata": {},
   "outputs": [
    {
     "name": "stdout",
     "output_type": "stream",
     "text": [
      "rbf: 95.14%\n",
      "              precision    recall  f1-score   support\n",
      "\n",
      "         0.0       0.95      1.00      0.97      1132\n",
      "         1.0       0.83      0.08      0.15        62\n",
      "\n",
      "    accuracy                           0.95      1194\n",
      "   macro avg       0.89      0.54      0.56      1194\n",
      "weighted avg       0.95      0.95      0.93      1194\n",
      "\n",
      "[[1131    1]\n",
      " [  57    5]]\n",
      "\n",
      "linear: 94.89%\n",
      "              precision    recall  f1-score   support\n",
      "\n",
      "         0.0       0.95      1.00      0.97      1132\n",
      "         1.0       1.00      0.02      0.03        62\n",
      "\n",
      "    accuracy                           0.95      1194\n",
      "   macro avg       0.97      0.51      0.50      1194\n",
      "weighted avg       0.95      0.95      0.92      1194\n",
      "\n",
      "[[1132    0]\n",
      " [  61    1]]\n",
      "\n",
      "poly: 95.06%\n",
      "              precision    recall  f1-score   support\n",
      "\n",
      "         0.0       0.96      0.99      0.97      1132\n",
      "         1.0       0.58      0.18      0.27        62\n",
      "\n",
      "    accuracy                           0.95      1194\n",
      "   macro avg       0.77      0.59      0.62      1194\n",
      "weighted avg       0.94      0.95      0.94      1194\n",
      "\n",
      "[[1124    8]\n",
      " [  51   11]]\n",
      "\n",
      "sigmoid: 92.38%\n",
      "              precision    recall  f1-score   support\n",
      "\n",
      "         0.0       0.95      0.97      0.96      1132\n",
      "         1.0       0.19      0.15      0.17        62\n",
      "\n",
      "    accuracy                           0.92      1194\n",
      "   macro avg       0.57      0.56      0.56      1194\n",
      "weighted avg       0.91      0.92      0.92      1194\n",
      "\n",
      "[[1094   38]\n",
      " [  53    9]]\n",
      "\n"
     ]
    }
   ],
   "source": [
    "printScores(xTrainThirds, yTrainDist, xValThirds)"
   ]
  },
  {
   "cell_type": "markdown",
   "metadata": {},
   "source": [
    "**OverSampling**"
   ]
  },
  {
   "cell_type": "code",
   "execution_count": 23,
   "metadata": {},
   "outputs": [
    {
     "name": "stdout",
     "output_type": "stream",
     "text": [
      "rbf: 93.30%\n",
      "              precision    recall  f1-score   support\n",
      "\n",
      "         0.0       0.99      0.94      0.96      1132\n",
      "         1.0       0.42      0.76      0.54        62\n",
      "\n",
      "    accuracy                           0.93      1194\n",
      "   macro avg       0.70      0.85      0.75      1194\n",
      "weighted avg       0.96      0.93      0.94      1194\n",
      "\n",
      "[[1067   65]\n",
      " [  15   47]]\n",
      "\n",
      "linear: 83.17%\n",
      "              precision    recall  f1-score   support\n",
      "\n",
      "         0.0       0.99      0.83      0.90      1132\n",
      "         1.0       0.22      0.89      0.35        62\n",
      "\n",
      "    accuracy                           0.83      1194\n",
      "   macro avg       0.61      0.86      0.63      1194\n",
      "weighted avg       0.95      0.83      0.87      1194\n",
      "\n",
      "[[938 194]\n",
      " [  7  55]]\n",
      "\n",
      "poly: 88.94%\n",
      "              precision    recall  f1-score   support\n",
      "\n",
      "         0.0       0.99      0.89      0.94      1132\n",
      "         1.0       0.29      0.79      0.43        62\n",
      "\n",
      "    accuracy                           0.89      1194\n",
      "   macro avg       0.64      0.84      0.68      1194\n",
      "weighted avg       0.95      0.89      0.91      1194\n",
      "\n",
      "[[1013  119]\n",
      " [  13   49]]\n",
      "\n",
      "sigmoid: 71.27%\n",
      "              precision    recall  f1-score   support\n",
      "\n",
      "         0.0       0.98      0.71      0.82      1132\n",
      "         1.0       0.13      0.79      0.22        62\n",
      "\n",
      "    accuracy                           0.71      1194\n",
      "   macro avg       0.56      0.75      0.52      1194\n",
      "weighted avg       0.94      0.71      0.79      1194\n",
      "\n",
      "[[802 330]\n",
      " [ 13  49]]\n",
      "\n"
     ]
    }
   ],
   "source": [
    "xTrainBal, yTrainBal = sm.fit_sample(xTrainThirds, yTrainDist.ravel())\n",
    "\n",
    "printScores(xTrainBal, yTrainBal, xValThirds)"
   ]
  },
  {
   "cell_type": "markdown",
   "metadata": {},
   "source": [
    "**UnderSampling**"
   ]
  },
  {
   "cell_type": "code",
   "execution_count": 24,
   "metadata": {},
   "outputs": [
    {
     "name": "stdout",
     "output_type": "stream",
     "text": [
      "rbf: 56.37%\n",
      "              precision    recall  f1-score   support\n",
      "\n",
      "         0.0       0.98      0.55      0.71      1132\n",
      "         1.0       0.09      0.79      0.16        62\n",
      "\n",
      "    accuracy                           0.56      1194\n",
      "   macro avg       0.53      0.67      0.43      1194\n",
      "weighted avg       0.93      0.56      0.68      1194\n",
      "\n",
      "[[624 508]\n",
      " [ 13  49]]\n",
      "\n",
      "linear: 72.61%\n",
      "              precision    recall  f1-score   support\n",
      "\n",
      "         0.0       0.97      0.73      0.84      1132\n",
      "         1.0       0.11      0.61      0.19        62\n",
      "\n",
      "    accuracy                           0.73      1194\n",
      "   macro avg       0.54      0.67      0.51      1194\n",
      "weighted avg       0.93      0.73      0.80      1194\n",
      "\n",
      "[[829 303]\n",
      " [ 24  38]]\n",
      "\n",
      "poly: 71.52%\n",
      "              precision    recall  f1-score   support\n",
      "\n",
      "         0.0       0.97      0.72      0.83      1132\n",
      "         1.0       0.10      0.58      0.17        62\n",
      "\n",
      "    accuracy                           0.72      1194\n",
      "   macro avg       0.54      0.65      0.50      1194\n",
      "weighted avg       0.92      0.72      0.79      1194\n",
      "\n",
      "[[818 314]\n",
      " [ 26  36]]\n",
      "\n",
      "sigmoid: 76.88%\n",
      "              precision    recall  f1-score   support\n",
      "\n",
      "         0.0       0.98      0.78      0.86      1132\n",
      "         1.0       0.14      0.65      0.22        62\n",
      "\n",
      "    accuracy                           0.77      1194\n",
      "   macro avg       0.56      0.71      0.54      1194\n",
      "weighted avg       0.93      0.77      0.83      1194\n",
      "\n",
      "[[878 254]\n",
      " [ 22  40]]\n",
      "\n"
     ]
    }
   ],
   "source": [
    "xTrainBal, yTrainBal = nr.fit_sample(xTrainThirds, yTrainDist.ravel())\n",
    "\n",
    "printScores(xTrainBal, yTrainBal, xValThirds)"
   ]
  },
  {
   "cell_type": "markdown",
   "metadata": {},
   "source": [
    "# Controls and Liquidity Ratios"
   ]
  },
  {
   "cell_type": "markdown",
   "metadata": {},
   "source": [
    "**Features**"
   ]
  },
  {
   "cell_type": "code",
   "execution_count": 25,
   "metadata": {},
   "outputs": [],
   "source": [
    "xTrainLR = xTrain[:,[1,2,3, 4, 5, 6, 7, 8,9]]\n",
    "xValLR = xVal[:,[1,2,3, 4, 5, 6, 7, 8,9]]"
   ]
  },
  {
   "cell_type": "markdown",
   "metadata": {},
   "source": [
    "**Unbalanced**"
   ]
  },
  {
   "cell_type": "code",
   "execution_count": 26,
   "metadata": {},
   "outputs": [
    {
     "name": "stdout",
     "output_type": "stream",
     "text": [
      "rbf: 95.39%\n",
      "              precision    recall  f1-score   support\n",
      "\n",
      "         0.0       0.96      0.99      0.98      1132\n",
      "         1.0       0.62      0.29      0.40        62\n",
      "\n",
      "    accuracy                           0.95      1194\n",
      "   macro avg       0.79      0.64      0.69      1194\n",
      "weighted avg       0.94      0.95      0.95      1194\n",
      "\n",
      "[[1121   11]\n",
      " [  44   18]]\n",
      "\n",
      "linear: 94.81%\n",
      "              precision    recall  f1-score   support\n",
      "\n",
      "         0.0       0.95      1.00      0.97      1132\n",
      "         1.0       0.00      0.00      0.00        62\n",
      "\n",
      "    accuracy                           0.95      1194\n",
      "   macro avg       0.47      0.50      0.49      1194\n",
      "weighted avg       0.90      0.95      0.92      1194\n",
      "\n",
      "[[1132    0]\n",
      " [  62    0]]\n",
      "\n"
     ]
    },
    {
     "name": "stderr",
     "output_type": "stream",
     "text": [
      "/home/dan/anaconda3/lib/python3.7/site-packages/sklearn/metrics/classification.py:1437: UndefinedMetricWarning: Precision and F-score are ill-defined and being set to 0.0 in labels with no predicted samples.\n",
      "  'precision', 'predicted', average, warn_for)\n"
     ]
    },
    {
     "name": "stdout",
     "output_type": "stream",
     "text": [
      "poly: 95.06%\n",
      "              precision    recall  f1-score   support\n",
      "\n",
      "         0.0       0.96      0.99      0.97      1132\n",
      "         1.0       0.56      0.24      0.34        62\n",
      "\n",
      "    accuracy                           0.95      1194\n",
      "   macro avg       0.76      0.62      0.66      1194\n",
      "weighted avg       0.94      0.95      0.94      1194\n",
      "\n",
      "[[1120   12]\n",
      " [  47   15]]\n",
      "\n",
      "sigmoid: 92.63%\n",
      "              precision    recall  f1-score   support\n",
      "\n",
      "         0.0       0.95      0.97      0.96      1132\n",
      "         1.0       0.19      0.13      0.15        62\n",
      "\n",
      "    accuracy                           0.93      1194\n",
      "   macro avg       0.57      0.55      0.56      1194\n",
      "weighted avg       0.91      0.93      0.92      1194\n",
      "\n",
      "[[1098   34]\n",
      " [  54    8]]\n",
      "\n"
     ]
    }
   ],
   "source": [
    "printScores(xTrainLR, yTrainDist, xValLR)"
   ]
  },
  {
   "cell_type": "markdown",
   "metadata": {},
   "source": [
    "**OverSampling**"
   ]
  },
  {
   "cell_type": "code",
   "execution_count": 27,
   "metadata": {},
   "outputs": [
    {
     "name": "stdout",
     "output_type": "stream",
     "text": [
      "rbf: 89.70%\n",
      "              precision    recall  f1-score   support\n",
      "\n",
      "         0.0       0.99      0.90      0.94      1132\n",
      "         1.0       0.32      0.90      0.48        62\n",
      "\n",
      "    accuracy                           0.90      1194\n",
      "   macro avg       0.66      0.90      0.71      1194\n",
      "weighted avg       0.96      0.90      0.92      1194\n",
      "\n",
      "[[1015  117]\n",
      " [   6   56]]\n",
      "\n",
      "linear: 85.93%\n",
      "              precision    recall  f1-score   support\n",
      "\n",
      "         0.0       0.99      0.86      0.92      1132\n",
      "         1.0       0.26      0.90      0.40        62\n",
      "\n",
      "    accuracy                           0.86      1194\n",
      "   macro avg       0.63      0.88      0.66      1194\n",
      "weighted avg       0.96      0.86      0.89      1194\n",
      "\n",
      "[[970 162]\n",
      " [  6  56]]\n",
      "\n",
      "poly: 88.02%\n",
      "              precision    recall  f1-score   support\n",
      "\n",
      "         0.0       0.99      0.88      0.93      1132\n",
      "         1.0       0.29      0.92      0.44        62\n",
      "\n",
      "    accuracy                           0.88      1194\n",
      "   macro avg       0.64      0.90      0.69      1194\n",
      "weighted avg       0.96      0.88      0.91      1194\n",
      "\n",
      "[[994 138]\n",
      " [  5  57]]\n",
      "\n",
      "sigmoid: 79.23%\n",
      "              precision    recall  f1-score   support\n",
      "\n",
      "         0.0       0.99      0.79      0.88      1132\n",
      "         1.0       0.17      0.81      0.29        62\n",
      "\n",
      "    accuracy                           0.79      1194\n",
      "   macro avg       0.58      0.80      0.58      1194\n",
      "weighted avg       0.94      0.79      0.85      1194\n",
      "\n",
      "[[896 236]\n",
      " [ 12  50]]\n",
      "\n"
     ]
    }
   ],
   "source": [
    "xTrainBal, yTrainBal = sm.fit_sample(xTrainLR, yTrainDist.ravel())\n",
    "\n",
    "printScores(xTrainBal, yTrainBal, xValLR)"
   ]
  },
  {
   "cell_type": "markdown",
   "metadata": {},
   "source": [
    "**UnderSampling**"
   ]
  },
  {
   "cell_type": "code",
   "execution_count": 28,
   "metadata": {},
   "outputs": [
    {
     "name": "stdout",
     "output_type": "stream",
     "text": [
      "rbf: 34.51%\n",
      "              precision    recall  f1-score   support\n",
      "\n",
      "         0.0       0.95      0.33      0.48      1132\n",
      "         1.0       0.05      0.71      0.10        62\n",
      "\n",
      "    accuracy                           0.35      1194\n",
      "   macro avg       0.50      0.52      0.29      1194\n",
      "weighted avg       0.91      0.35      0.46      1194\n",
      "\n",
      "[[368 764]\n",
      " [ 18  44]]\n",
      "\n",
      "linear: 72.70%\n",
      "              precision    recall  f1-score   support\n",
      "\n",
      "         0.0       0.97      0.74      0.84      1132\n",
      "         1.0       0.10      0.53      0.17        62\n",
      "\n",
      "    accuracy                           0.73      1194\n",
      "   macro avg       0.53      0.63      0.50      1194\n",
      "weighted avg       0.92      0.73      0.80      1194\n",
      "\n",
      "[[835 297]\n",
      " [ 29  33]]\n",
      "\n",
      "poly: 68.68%\n",
      "              precision    recall  f1-score   support\n",
      "\n",
      "         0.0       0.97      0.69      0.81      1132\n",
      "         1.0       0.09      0.58      0.16        62\n",
      "\n",
      "    accuracy                           0.69      1194\n",
      "   macro avg       0.53      0.64      0.48      1194\n",
      "weighted avg       0.92      0.69      0.77      1194\n",
      "\n",
      "[[784 348]\n",
      " [ 26  36]]\n",
      "\n",
      "sigmoid: 86.35%\n",
      "              precision    recall  f1-score   support\n",
      "\n",
      "         0.0       0.98      0.88      0.92      1132\n",
      "         1.0       0.22      0.65      0.33        62\n",
      "\n",
      "    accuracy                           0.86      1194\n",
      "   macro avg       0.60      0.76      0.63      1194\n",
      "weighted avg       0.94      0.86      0.89      1194\n",
      "\n",
      "[[991 141]\n",
      " [ 22  40]]\n",
      "\n"
     ]
    }
   ],
   "source": [
    "xTrainBal, yTrainBal = nr.fit_sample(xTrainLR, yTrainDist.ravel())\n",
    "\n",
    "printScores(xTrainBal, yTrainBal, xValLR)"
   ]
  },
  {
   "cell_type": "markdown",
   "metadata": {},
   "source": [
    "# Controls and Profitability Ratios"
   ]
  },
  {
   "cell_type": "markdown",
   "metadata": {},
   "source": [
    "**Features**"
   ]
  },
  {
   "cell_type": "code",
   "execution_count": 29,
   "metadata": {},
   "outputs": [],
   "source": [
    "xTrainPR = xTrain[:,[1, 2, 3, 10, 11, 12, 13, 14, 15, 16, 17, 18, 19]]\n",
    "xValPR = xVal[:,[1, 2, 3, 10, 11, 12, 13, 14, 15, 16, 17, 18, 19]]"
   ]
  },
  {
   "cell_type": "markdown",
   "metadata": {},
   "source": [
    "**Unbalanced**"
   ]
  },
  {
   "cell_type": "code",
   "execution_count": 30,
   "metadata": {},
   "outputs": [
    {
     "name": "stdout",
     "output_type": "stream",
     "text": [
      "rbf: 94.89%\n",
      "              precision    recall  f1-score   support\n",
      "\n",
      "         0.0       0.95      1.00      0.97      1132\n",
      "         1.0       0.60      0.05      0.09        62\n",
      "\n",
      "    accuracy                           0.95      1194\n",
      "   macro avg       0.78      0.52      0.53      1194\n",
      "weighted avg       0.93      0.95      0.93      1194\n",
      "\n",
      "[[1130    2]\n",
      " [  59    3]]\n",
      "\n"
     ]
    },
    {
     "name": "stderr",
     "output_type": "stream",
     "text": [
      "/home/dan/anaconda3/lib/python3.7/site-packages/sklearn/metrics/classification.py:1437: UndefinedMetricWarning: Precision and F-score are ill-defined and being set to 0.0 in labels with no predicted samples.\n",
      "  'precision', 'predicted', average, warn_for)\n"
     ]
    },
    {
     "name": "stdout",
     "output_type": "stream",
     "text": [
      "linear: 94.81%\n",
      "              precision    recall  f1-score   support\n",
      "\n",
      "         0.0       0.95      1.00      0.97      1132\n",
      "         1.0       0.00      0.00      0.00        62\n",
      "\n",
      "    accuracy                           0.95      1194\n",
      "   macro avg       0.47      0.50      0.49      1194\n",
      "weighted avg       0.90      0.95      0.92      1194\n",
      "\n",
      "[[1132    0]\n",
      " [  62    0]]\n",
      "\n",
      "poly: 95.06%\n",
      "              precision    recall  f1-score   support\n",
      "\n",
      "         0.0       0.95      1.00      0.97      1132\n",
      "         1.0       0.67      0.10      0.17        62\n",
      "\n",
      "    accuracy                           0.95      1194\n",
      "   macro avg       0.81      0.55      0.57      1194\n",
      "weighted avg       0.94      0.95      0.93      1194\n",
      "\n",
      "[[1129    3]\n",
      " [  56    6]]\n",
      "\n",
      "sigmoid: 91.62%\n",
      "              precision    recall  f1-score   support\n",
      "\n",
      "         0.0       0.95      0.96      0.96      1132\n",
      "         1.0       0.17      0.16      0.17        62\n",
      "\n",
      "    accuracy                           0.92      1194\n",
      "   macro avg       0.56      0.56      0.56      1194\n",
      "weighted avg       0.91      0.92      0.91      1194\n",
      "\n",
      "[[1084   48]\n",
      " [  52   10]]\n",
      "\n"
     ]
    }
   ],
   "source": [
    "printScores(xTrainPR, yTrainDist, xValPR)"
   ]
  },
  {
   "cell_type": "markdown",
   "metadata": {},
   "source": [
    "**OverSampling**"
   ]
  },
  {
   "cell_type": "code",
   "execution_count": 31,
   "metadata": {},
   "outputs": [
    {
     "name": "stdout",
     "output_type": "stream",
     "text": [
      "rbf: 86.52%\n",
      "              precision    recall  f1-score   support\n",
      "\n",
      "         0.0       0.98      0.87      0.92      1132\n",
      "         1.0       0.24      0.71      0.35        62\n",
      "\n",
      "    accuracy                           0.87      1194\n",
      "   macro avg       0.61      0.79      0.64      1194\n",
      "weighted avg       0.94      0.87      0.90      1194\n",
      "\n",
      "[[989 143]\n",
      " [ 18  44]]\n",
      "\n",
      "linear: 84.34%\n",
      "              precision    recall  f1-score   support\n",
      "\n",
      "         0.0       0.99      0.84      0.91      1132\n",
      "         1.0       0.22      0.82      0.35        62\n",
      "\n",
      "    accuracy                           0.84      1194\n",
      "   macro avg       0.61      0.83      0.63      1194\n",
      "weighted avg       0.95      0.84      0.88      1194\n",
      "\n",
      "[[956 176]\n",
      " [ 11  51]]\n",
      "\n",
      "poly: 83.84%\n",
      "              precision    recall  f1-score   support\n",
      "\n",
      "         0.0       0.99      0.84      0.91      1132\n",
      "         1.0       0.21      0.77      0.33        62\n",
      "\n",
      "    accuracy                           0.84      1194\n",
      "   macro avg       0.60      0.81      0.62      1194\n",
      "weighted avg       0.95      0.84      0.88      1194\n",
      "\n",
      "[[953 179]\n",
      " [ 14  48]]\n",
      "\n",
      "sigmoid: 75.71%\n",
      "              precision    recall  f1-score   support\n",
      "\n",
      "         0.0       0.98      0.76      0.86      1132\n",
      "         1.0       0.14      0.74      0.24        62\n",
      "\n",
      "    accuracy                           0.76      1194\n",
      "   macro avg       0.56      0.75      0.55      1194\n",
      "weighted avg       0.94      0.76      0.82      1194\n",
      "\n",
      "[[858 274]\n",
      " [ 16  46]]\n",
      "\n"
     ]
    }
   ],
   "source": [
    "xTrainBal, yTrainBal = sm.fit_sample(xTrainPR, yTrainDist.ravel())\n",
    "\n",
    "printScores(xTrainBal, yTrainBal, xValPR)"
   ]
  },
  {
   "cell_type": "markdown",
   "metadata": {},
   "source": [
    "**UnderSampling**"
   ]
  },
  {
   "cell_type": "code",
   "execution_count": 32,
   "metadata": {},
   "outputs": [
    {
     "name": "stdout",
     "output_type": "stream",
     "text": [
      "rbf: 27.72%\n",
      "              precision    recall  f1-score   support\n",
      "\n",
      "         0.0       0.93      0.26      0.40      1132\n",
      "         1.0       0.05      0.65      0.08        62\n",
      "\n",
      "    accuracy                           0.28      1194\n",
      "   macro avg       0.49      0.45      0.24      1194\n",
      "weighted avg       0.88      0.28      0.39      1194\n",
      "\n",
      "[[291 841]\n",
      " [ 22  40]]\n",
      "\n",
      "linear: 79.73%\n",
      "              precision    recall  f1-score   support\n",
      "\n",
      "         0.0       0.99      0.80      0.88      1132\n",
      "         1.0       0.18      0.81      0.29        62\n",
      "\n",
      "    accuracy                           0.80      1194\n",
      "   macro avg       0.58      0.80      0.59      1194\n",
      "weighted avg       0.94      0.80      0.85      1194\n",
      "\n",
      "[[902 230]\n",
      " [ 12  50]]\n",
      "\n",
      "poly: 67.92%\n",
      "              precision    recall  f1-score   support\n",
      "\n",
      "         0.0       0.95      0.70      0.81      1132\n",
      "         1.0       0.06      0.32      0.09        62\n",
      "\n",
      "    accuracy                           0.68      1194\n",
      "   macro avg       0.50      0.51      0.45      1194\n",
      "weighted avg       0.90      0.68      0.77      1194\n",
      "\n",
      "[[791 341]\n",
      " [ 42  20]]\n",
      "\n",
      "sigmoid: 71.11%\n",
      "              precision    recall  f1-score   support\n",
      "\n",
      "         0.0       0.96      0.73      0.83      1132\n",
      "         1.0       0.08      0.42      0.13        62\n",
      "\n",
      "    accuracy                           0.71      1194\n",
      "   macro avg       0.52      0.57      0.48      1194\n",
      "weighted avg       0.91      0.71      0.79      1194\n",
      "\n",
      "[[823 309]\n",
      " [ 36  26]]\n",
      "\n"
     ]
    }
   ],
   "source": [
    "xTrainBal, yTrainBal = nr.fit_sample(xTrainPR, yTrainDist.ravel())\n",
    "\n",
    "printScores(xTrainBal, yTrainBal, xValPR)"
   ]
  },
  {
   "cell_type": "markdown",
   "metadata": {},
   "source": [
    "# Controls and Profitability Ratios Booleans"
   ]
  },
  {
   "cell_type": "code",
   "execution_count": 33,
   "metadata": {},
   "outputs": [],
   "source": [
    "xTrainPRB = xTrain[:,[1, 2, 3, 13, 14, 15, 16, 19]]\n",
    "xValPRB = xVal[:,[1, 2, 3, 13, 14, 15, 16, 19]]"
   ]
  },
  {
   "cell_type": "markdown",
   "metadata": {},
   "source": [
    "**Unbalanced**"
   ]
  },
  {
   "cell_type": "code",
   "execution_count": 34,
   "metadata": {},
   "outputs": [
    {
     "name": "stderr",
     "output_type": "stream",
     "text": [
      "/home/dan/anaconda3/lib/python3.7/site-packages/sklearn/metrics/classification.py:1437: UndefinedMetricWarning: Precision and F-score are ill-defined and being set to 0.0 in labels with no predicted samples.\n",
      "  'precision', 'predicted', average, warn_for)\n"
     ]
    },
    {
     "name": "stdout",
     "output_type": "stream",
     "text": [
      "rbf: 94.81%\n",
      "              precision    recall  f1-score   support\n",
      "\n",
      "         0.0       0.95      1.00      0.97      1132\n",
      "         1.0       0.00      0.00      0.00        62\n",
      "\n",
      "    accuracy                           0.95      1194\n",
      "   macro avg       0.47      0.50      0.49      1194\n",
      "weighted avg       0.90      0.95      0.92      1194\n",
      "\n",
      "[[1132    0]\n",
      " [  62    0]]\n",
      "\n"
     ]
    },
    {
     "name": "stderr",
     "output_type": "stream",
     "text": [
      "/home/dan/anaconda3/lib/python3.7/site-packages/sklearn/metrics/classification.py:1437: UndefinedMetricWarning: Precision and F-score are ill-defined and being set to 0.0 in labels with no predicted samples.\n",
      "  'precision', 'predicted', average, warn_for)\n"
     ]
    },
    {
     "name": "stdout",
     "output_type": "stream",
     "text": [
      "linear: 94.81%\n",
      "              precision    recall  f1-score   support\n",
      "\n",
      "         0.0       0.95      1.00      0.97      1132\n",
      "         1.0       0.00      0.00      0.00        62\n",
      "\n",
      "    accuracy                           0.95      1194\n",
      "   macro avg       0.47      0.50      0.49      1194\n",
      "weighted avg       0.90      0.95      0.92      1194\n",
      "\n",
      "[[1132    0]\n",
      " [  62    0]]\n",
      "\n",
      "poly: 94.72%\n",
      "              precision    recall  f1-score   support\n",
      "\n",
      "         0.0       0.95      1.00      0.97      1132\n",
      "         1.0       0.00      0.00      0.00        62\n",
      "\n",
      "    accuracy                           0.95      1194\n",
      "   macro avg       0.47      0.50      0.49      1194\n",
      "weighted avg       0.90      0.95      0.92      1194\n",
      "\n",
      "[[1131    1]\n",
      " [  62    0]]\n",
      "\n",
      "sigmoid: 93.89%\n",
      "              precision    recall  f1-score   support\n",
      "\n",
      "         0.0       0.95      0.99      0.97      1132\n",
      "         1.0       0.24      0.08      0.12        62\n",
      "\n",
      "    accuracy                           0.94      1194\n",
      "   macro avg       0.59      0.53      0.54      1194\n",
      "weighted avg       0.91      0.94      0.92      1194\n",
      "\n",
      "[[1116   16]\n",
      " [  57    5]]\n",
      "\n"
     ]
    }
   ],
   "source": [
    "printScores(xTrainPRB, yTrainDist, xValPRB)"
   ]
  },
  {
   "cell_type": "markdown",
   "metadata": {},
   "source": [
    "**OverSampling**"
   ]
  },
  {
   "cell_type": "code",
   "execution_count": 35,
   "metadata": {},
   "outputs": [
    {
     "name": "stdout",
     "output_type": "stream",
     "text": [
      "rbf: 87.35%\n",
      "              precision    recall  f1-score   support\n",
      "\n",
      "         0.0       0.98      0.88      0.93      1132\n",
      "         1.0       0.25      0.69      0.36        62\n",
      "\n",
      "    accuracy                           0.87      1194\n",
      "   macro avg       0.61      0.79      0.65      1194\n",
      "weighted avg       0.94      0.87      0.90      1194\n",
      "\n",
      "[[1000  132]\n",
      " [  19   43]]\n",
      "\n",
      "linear: 83.17%\n",
      "              precision    recall  f1-score   support\n",
      "\n",
      "         0.0       0.98      0.84      0.90      1132\n",
      "         1.0       0.20      0.76      0.32        62\n",
      "\n",
      "    accuracy                           0.83      1194\n",
      "   macro avg       0.59      0.80      0.61      1194\n",
      "weighted avg       0.94      0.83      0.87      1194\n",
      "\n",
      "[[946 186]\n",
      " [ 15  47]]\n",
      "\n",
      "poly: 79.56%\n",
      "              precision    recall  f1-score   support\n",
      "\n",
      "         0.0       0.98      0.80      0.88      1132\n",
      "         1.0       0.16      0.68      0.26        62\n",
      "\n",
      "    accuracy                           0.80      1194\n",
      "   macro avg       0.57      0.74      0.57      1194\n",
      "weighted avg       0.94      0.80      0.85      1194\n",
      "\n",
      "[[908 224]\n",
      " [ 20  42]]\n",
      "\n",
      "sigmoid: 66.67%\n",
      "              precision    recall  f1-score   support\n",
      "\n",
      "         0.0       0.97      0.67      0.79      1132\n",
      "         1.0       0.09      0.58      0.15        62\n",
      "\n",
      "    accuracy                           0.67      1194\n",
      "   macro avg       0.53      0.63      0.47      1194\n",
      "weighted avg       0.92      0.67      0.76      1194\n",
      "\n",
      "[[760 372]\n",
      " [ 26  36]]\n",
      "\n"
     ]
    }
   ],
   "source": [
    "xTrainBal, yTrainBal = sm.fit_sample(xTrainPRB, yTrainDist.ravel())\n",
    "\n",
    "printScores(xTrainBal, yTrainBal, xValPRB)"
   ]
  },
  {
   "cell_type": "markdown",
   "metadata": {},
   "source": [
    "**UnderSampling**"
   ]
  },
  {
   "cell_type": "code",
   "execution_count": 36,
   "metadata": {},
   "outputs": [
    {
     "name": "stdout",
     "output_type": "stream",
     "text": [
      "rbf: 22.61%\n",
      "              precision    recall  f1-score   support\n",
      "\n",
      "         0.0       0.93      0.20      0.33      1132\n",
      "         1.0       0.05      0.71      0.09        62\n",
      "\n",
      "    accuracy                           0.23      1194\n",
      "   macro avg       0.49      0.45      0.21      1194\n",
      "weighted avg       0.88      0.23      0.32      1194\n",
      "\n",
      "[[226 906]\n",
      " [ 18  44]]\n",
      "\n",
      "linear: 32.41%\n",
      "              precision    recall  f1-score   support\n",
      "\n",
      "         0.0       0.97      0.30      0.46      1132\n",
      "         1.0       0.06      0.81      0.11        62\n",
      "\n",
      "    accuracy                           0.32      1194\n",
      "   macro avg       0.51      0.55      0.28      1194\n",
      "weighted avg       0.92      0.32      0.44      1194\n",
      "\n",
      "[[337 795]\n",
      " [ 12  50]]\n",
      "\n",
      "poly: 50.67%\n",
      "              precision    recall  f1-score   support\n",
      "\n",
      "         0.0       0.93      0.52      0.67      1132\n",
      "         1.0       0.03      0.29      0.06        62\n",
      "\n",
      "    accuracy                           0.51      1194\n",
      "   macro avg       0.48      0.40      0.36      1194\n",
      "weighted avg       0.88      0.51      0.63      1194\n",
      "\n",
      "[[587 545]\n",
      " [ 44  18]]\n",
      "\n",
      "sigmoid: 65.83%\n",
      "              precision    recall  f1-score   support\n",
      "\n",
      "         0.0       0.97      0.66      0.79      1132\n",
      "         1.0       0.08      0.56      0.15        62\n",
      "\n",
      "    accuracy                           0.66      1194\n",
      "   macro avg       0.52      0.61      0.47      1194\n",
      "weighted avg       0.92      0.66      0.75      1194\n",
      "\n",
      "[[751 381]\n",
      " [ 27  35]]\n",
      "\n"
     ]
    }
   ],
   "source": [
    "xTrainBal, yTrainBal = nr.fit_sample(xTrainPRB, yTrainDist.ravel())\n",
    "\n",
    "printScores(xTrainBal, yTrainBal, xValPRB)"
   ]
  },
  {
   "cell_type": "markdown",
   "metadata": {},
   "source": [
    "# Controls and Profitability Ratios Non-Boolean"
   ]
  },
  {
   "cell_type": "code",
   "execution_count": 37,
   "metadata": {},
   "outputs": [],
   "source": [
    "xTrainPRNB = xTrain[:,[1, 2, 3, 10, 11, 12, 17, 18]]\n",
    "xValPRNB = xVal[:,[1, 2, 3, 10, 11, 12, 17, 18]]"
   ]
  },
  {
   "cell_type": "markdown",
   "metadata": {},
   "source": [
    "**Unbalanced**"
   ]
  },
  {
   "cell_type": "code",
   "execution_count": 38,
   "metadata": {},
   "outputs": [
    {
     "name": "stderr",
     "output_type": "stream",
     "text": [
      "/home/dan/anaconda3/lib/python3.7/site-packages/sklearn/metrics/classification.py:1437: UndefinedMetricWarning: Precision and F-score are ill-defined and being set to 0.0 in labels with no predicted samples.\n",
      "  'precision', 'predicted', average, warn_for)\n"
     ]
    },
    {
     "name": "stdout",
     "output_type": "stream",
     "text": [
      "rbf: 94.81%\n",
      "              precision    recall  f1-score   support\n",
      "\n",
      "         0.0       0.95      1.00      0.97      1132\n",
      "         1.0       0.00      0.00      0.00        62\n",
      "\n",
      "    accuracy                           0.95      1194\n",
      "   macro avg       0.47      0.50      0.49      1194\n",
      "weighted avg       0.90      0.95      0.92      1194\n",
      "\n",
      "[[1132    0]\n",
      " [  62    0]]\n",
      "\n"
     ]
    },
    {
     "name": "stderr",
     "output_type": "stream",
     "text": [
      "/home/dan/anaconda3/lib/python3.7/site-packages/sklearn/metrics/classification.py:1437: UndefinedMetricWarning: Precision and F-score are ill-defined and being set to 0.0 in labels with no predicted samples.\n",
      "  'precision', 'predicted', average, warn_for)\n"
     ]
    },
    {
     "name": "stdout",
     "output_type": "stream",
     "text": [
      "linear: 94.81%\n",
      "              precision    recall  f1-score   support\n",
      "\n",
      "         0.0       0.95      1.00      0.97      1132\n",
      "         1.0       0.00      0.00      0.00        62\n",
      "\n",
      "    accuracy                           0.95      1194\n",
      "   macro avg       0.47      0.50      0.49      1194\n",
      "weighted avg       0.90      0.95      0.92      1194\n",
      "\n",
      "[[1132    0]\n",
      " [  62    0]]\n",
      "\n",
      "poly: 94.72%\n",
      "              precision    recall  f1-score   support\n",
      "\n",
      "         0.0       0.95      1.00      0.97      1132\n",
      "         1.0       0.00      0.00      0.00        62\n",
      "\n",
      "    accuracy                           0.95      1194\n",
      "   macro avg       0.47      0.50      0.49      1194\n",
      "weighted avg       0.90      0.95      0.92      1194\n",
      "\n",
      "[[1131    1]\n",
      " [  62    0]]\n",
      "\n",
      "sigmoid: 93.89%\n",
      "              precision    recall  f1-score   support\n",
      "\n",
      "         0.0       0.95      0.99      0.97      1132\n",
      "         1.0       0.24      0.08      0.12        62\n",
      "\n",
      "    accuracy                           0.94      1194\n",
      "   macro avg       0.59      0.53      0.54      1194\n",
      "weighted avg       0.91      0.94      0.92      1194\n",
      "\n",
      "[[1116   16]\n",
      " [  57    5]]\n",
      "\n"
     ]
    }
   ],
   "source": [
    "printScores(xTrainPRB, yTrainDist, xValPRB)"
   ]
  },
  {
   "cell_type": "markdown",
   "metadata": {},
   "source": [
    "**OverSampling**"
   ]
  },
  {
   "cell_type": "code",
   "execution_count": 39,
   "metadata": {},
   "outputs": [
    {
     "name": "stdout",
     "output_type": "stream",
     "text": [
      "rbf: 83.17%\n",
      "              precision    recall  f1-score   support\n",
      "\n",
      "         0.0       0.98      0.84      0.90      1132\n",
      "         1.0       0.20      0.74      0.31        62\n",
      "\n",
      "    accuracy                           0.83      1194\n",
      "   macro avg       0.59      0.79      0.61      1194\n",
      "weighted avg       0.94      0.83      0.87      1194\n",
      "\n",
      "[[947 185]\n",
      " [ 16  46]]\n",
      "\n",
      "linear: 83.84%\n",
      "              precision    recall  f1-score   support\n",
      "\n",
      "         0.0       0.99      0.84      0.91      1132\n",
      "         1.0       0.22      0.85      0.35        62\n",
      "\n",
      "    accuracy                           0.84      1194\n",
      "   macro avg       0.61      0.85      0.63      1194\n",
      "weighted avg       0.95      0.84      0.88      1194\n",
      "\n",
      "[[948 184]\n",
      " [  9  53]]\n",
      "\n",
      "poly: 84.76%\n",
      "              precision    recall  f1-score   support\n",
      "\n",
      "         0.0       0.99      0.85      0.91      1132\n",
      "         1.0       0.22      0.79      0.35        62\n",
      "\n",
      "    accuracy                           0.85      1194\n",
      "   macro avg       0.61      0.82      0.63      1194\n",
      "weighted avg       0.95      0.85      0.88      1194\n",
      "\n",
      "[[963 169]\n",
      " [ 13  49]]\n",
      "\n",
      "sigmoid: 73.87%\n",
      "              precision    recall  f1-score   support\n",
      "\n",
      "         0.0       0.98      0.74      0.84      1132\n",
      "         1.0       0.13      0.71      0.22        62\n",
      "\n",
      "    accuracy                           0.74      1194\n",
      "   macro avg       0.55      0.72      0.53      1194\n",
      "weighted avg       0.93      0.74      0.81      1194\n",
      "\n",
      "[[838 294]\n",
      " [ 18  44]]\n",
      "\n"
     ]
    }
   ],
   "source": [
    "xTrainBal, yTrainBal = sm.fit_sample(xTrainPRNB, yTrainDist.ravel())\n",
    "\n",
    "printScores(xTrainBal, yTrainBal, xValPRNB)"
   ]
  },
  {
   "cell_type": "markdown",
   "metadata": {},
   "source": [
    "**UnderSampling**"
   ]
  },
  {
   "cell_type": "code",
   "execution_count": 40,
   "metadata": {},
   "outputs": [
    {
     "name": "stdout",
     "output_type": "stream",
     "text": [
      "rbf: 49.33%\n",
      "              precision    recall  f1-score   support\n",
      "\n",
      "         0.0       0.97      0.48      0.64      1132\n",
      "         1.0       0.07      0.73      0.13        62\n",
      "\n",
      "    accuracy                           0.49      1194\n",
      "   macro avg       0.52      0.60      0.39      1194\n",
      "weighted avg       0.92      0.49      0.62      1194\n",
      "\n",
      "[[544 588]\n",
      " [ 17  45]]\n",
      "\n",
      "linear: 78.98%\n",
      "              precision    recall  f1-score   support\n",
      "\n",
      "         0.0       0.98      0.79      0.88      1132\n",
      "         1.0       0.17      0.77      0.28        62\n",
      "\n",
      "    accuracy                           0.79      1194\n",
      "   macro avg       0.58      0.78      0.58      1194\n",
      "weighted avg       0.94      0.79      0.85      1194\n",
      "\n",
      "[[895 237]\n",
      " [ 14  48]]\n",
      "\n",
      "poly: 83.25%\n",
      "              precision    recall  f1-score   support\n",
      "\n",
      "         0.0       0.97      0.85      0.91      1132\n",
      "         1.0       0.15      0.48      0.23        62\n",
      "\n",
      "    accuracy                           0.83      1194\n",
      "   macro avg       0.56      0.67      0.57      1194\n",
      "weighted avg       0.93      0.83      0.87      1194\n",
      "\n",
      "[[964 168]\n",
      " [ 32  30]]\n",
      "\n",
      "sigmoid: 80.49%\n",
      "              precision    recall  f1-score   support\n",
      "\n",
      "         0.0       0.98      0.81      0.89      1132\n",
      "         1.0       0.16      0.68      0.26        62\n",
      "\n",
      "    accuracy                           0.80      1194\n",
      "   macro avg       0.57      0.74      0.58      1194\n",
      "weighted avg       0.94      0.80      0.86      1194\n",
      "\n",
      "[[919 213]\n",
      " [ 20  42]]\n",
      "\n"
     ]
    }
   ],
   "source": [
    "xTrainBal, yTrainBal = nr.fit_sample(xTrainPRNB, yTrainDist.ravel())\n",
    "\n",
    "printScores(xTrainBal, yTrainBal, xValPRNB)"
   ]
  },
  {
   "cell_type": "markdown",
   "metadata": {},
   "source": [
    "# Constants and Capital Structure"
   ]
  },
  {
   "cell_type": "markdown",
   "metadata": {},
   "source": [
    "**Features**"
   ]
  },
  {
   "cell_type": "code",
   "execution_count": 41,
   "metadata": {},
   "outputs": [],
   "source": [
    "xTrainCS = xTrain[:,[1, 2, 3, 20, 21, 22]]\n",
    "xValCS = xVal[:,[1, 2, 3, 20, 21, 22]]"
   ]
  },
  {
   "cell_type": "markdown",
   "metadata": {},
   "source": [
    "**Unbalanced**"
   ]
  },
  {
   "cell_type": "code",
   "execution_count": 42,
   "metadata": {},
   "outputs": [
    {
     "name": "stdout",
     "output_type": "stream",
     "text": [
      "rbf: 95.39%\n",
      "              precision    recall  f1-score   support\n",
      "\n",
      "         0.0       0.95      1.00      0.98      1132\n",
      "         1.0       0.89      0.13      0.23        62\n",
      "\n",
      "    accuracy                           0.95      1194\n",
      "   macro avg       0.92      0.56      0.60      1194\n",
      "weighted avg       0.95      0.95      0.94      1194\n",
      "\n",
      "[[1131    1]\n",
      " [  54    8]]\n",
      "\n",
      "linear: 94.89%\n",
      "              precision    recall  f1-score   support\n",
      "\n",
      "         0.0       0.95      1.00      0.97      1132\n",
      "         1.0       1.00      0.02      0.03        62\n",
      "\n",
      "    accuracy                           0.95      1194\n",
      "   macro avg       0.97      0.51      0.50      1194\n",
      "weighted avg       0.95      0.95      0.92      1194\n",
      "\n",
      "[[1132    0]\n",
      " [  61    1]]\n",
      "\n",
      "poly: 94.97%\n",
      "              precision    recall  f1-score   support\n",
      "\n",
      "         0.0       0.95      1.00      0.97      1132\n",
      "         1.0       1.00      0.03      0.06        62\n",
      "\n",
      "    accuracy                           0.95      1194\n",
      "   macro avg       0.97      0.52      0.52      1194\n",
      "weighted avg       0.95      0.95      0.93      1194\n",
      "\n",
      "[[1132    0]\n",
      " [  60    2]]\n",
      "\n",
      "sigmoid: 93.47%\n",
      "              precision    recall  f1-score   support\n",
      "\n",
      "         0.0       0.95      0.98      0.97      1132\n",
      "         1.0       0.21      0.10      0.13        62\n",
      "\n",
      "    accuracy                           0.93      1194\n",
      "   macro avg       0.58      0.54      0.55      1194\n",
      "weighted avg       0.91      0.93      0.92      1194\n",
      "\n",
      "[[1110   22]\n",
      " [  56    6]]\n",
      "\n"
     ]
    }
   ],
   "source": [
    "printScores(xTrainCS, yTrainDist, xValCS)"
   ]
  },
  {
   "cell_type": "markdown",
   "metadata": {},
   "source": [
    "**OverSampling**"
   ]
  },
  {
   "cell_type": "code",
   "execution_count": 43,
   "metadata": {},
   "outputs": [
    {
     "name": "stdout",
     "output_type": "stream",
     "text": [
      "rbf: 90.79%\n",
      "              precision    recall  f1-score   support\n",
      "\n",
      "         0.0       0.97      0.93      0.95      1132\n",
      "         1.0       0.29      0.53      0.38        62\n",
      "\n",
      "    accuracy                           0.91      1194\n",
      "   macro avg       0.63      0.73      0.66      1194\n",
      "weighted avg       0.94      0.91      0.92      1194\n",
      "\n",
      "[[1051   81]\n",
      " [  29   33]]\n",
      "\n",
      "linear: 88.61%\n",
      "              precision    recall  f1-score   support\n",
      "\n",
      "         0.0       0.99      0.89      0.94      1132\n",
      "         1.0       0.29      0.84      0.43        62\n",
      "\n",
      "    accuracy                           0.89      1194\n",
      "   macro avg       0.64      0.86      0.69      1194\n",
      "weighted avg       0.95      0.89      0.91      1194\n",
      "\n",
      "[[1006  126]\n",
      " [  10   52]]\n",
      "\n",
      "poly: 82.08%\n",
      "              precision    recall  f1-score   support\n",
      "\n",
      "         0.0       0.97      0.84      0.90      1132\n",
      "         1.0       0.14      0.47      0.21        62\n",
      "\n",
      "    accuracy                           0.82      1194\n",
      "   macro avg       0.55      0.65      0.56      1194\n",
      "weighted avg       0.92      0.82      0.86      1194\n",
      "\n",
      "[[951 181]\n",
      " [ 33  29]]\n",
      "\n",
      "sigmoid: 60.89%\n",
      "              precision    recall  f1-score   support\n",
      "\n",
      "         0.0       0.96      0.61      0.75      1132\n",
      "         1.0       0.07      0.56      0.13        62\n",
      "\n",
      "    accuracy                           0.61      1194\n",
      "   macro avg       0.52      0.59      0.44      1194\n",
      "weighted avg       0.92      0.61      0.72      1194\n",
      "\n",
      "[[692 440]\n",
      " [ 27  35]]\n",
      "\n"
     ]
    }
   ],
   "source": [
    "xTrainBal, yTrainBal = sm.fit_sample(xTrainCS, yTrainDist.ravel())\n",
    "\n",
    "printScores(xTrainBal, yTrainBal, xValCS)"
   ]
  },
  {
   "cell_type": "markdown",
   "metadata": {},
   "source": [
    "**UnderSampling**"
   ]
  },
  {
   "cell_type": "code",
   "execution_count": 44,
   "metadata": {},
   "outputs": [
    {
     "name": "stdout",
     "output_type": "stream",
     "text": [
      "rbf: 39.70%\n",
      "              precision    recall  f1-score   support\n",
      "\n",
      "         0.0       0.99      0.37      0.54      1132\n",
      "         1.0       0.07      0.90      0.13        62\n",
      "\n",
      "    accuracy                           0.40      1194\n",
      "   macro avg       0.53      0.64      0.34      1194\n",
      "weighted avg       0.94      0.40      0.52      1194\n",
      "\n",
      "[[418 714]\n",
      " [  6  56]]\n",
      "\n",
      "linear: 84.34%\n",
      "              precision    recall  f1-score   support\n",
      "\n",
      "         0.0       0.99      0.84      0.91      1132\n",
      "         1.0       0.24      0.90      0.37        62\n",
      "\n",
      "    accuracy                           0.84      1194\n",
      "   macro avg       0.62      0.87      0.64      1194\n",
      "weighted avg       0.95      0.84      0.88      1194\n",
      "\n",
      "[[951 181]\n",
      " [  6  56]]\n",
      "\n",
      "poly: 82.33%\n",
      "              precision    recall  f1-score   support\n",
      "\n",
      "         0.0       0.98      0.83      0.90      1132\n",
      "         1.0       0.19      0.76      0.31        62\n",
      "\n",
      "    accuracy                           0.82      1194\n",
      "   macro avg       0.59      0.79      0.60      1194\n",
      "weighted avg       0.94      0.82      0.87      1194\n",
      "\n",
      "[[936 196]\n",
      " [ 15  47]]\n",
      "\n",
      "sigmoid: 80.82%\n",
      "              precision    recall  f1-score   support\n",
      "\n",
      "         0.0       0.99      0.80      0.89      1132\n",
      "         1.0       0.20      0.90      0.33        62\n",
      "\n",
      "    accuracy                           0.81      1194\n",
      "   macro avg       0.60      0.85      0.61      1194\n",
      "weighted avg       0.95      0.81      0.86      1194\n",
      "\n",
      "[[909 223]\n",
      " [  6  56]]\n",
      "\n"
     ]
    }
   ],
   "source": [
    "xTrainBal, yTrainBal = nr.fit_sample(xTrainCS, yTrainDist.ravel())\n",
    "\n",
    "printScores(xTrainBal, yTrainBal, xValCS)"
   ]
  },
  {
   "cell_type": "markdown",
   "metadata": {},
   "source": [
    "# New Tests 4/20/2020"
   ]
  },
  {
   "cell_type": "markdown",
   "metadata": {},
   "source": [
    "**Features**"
   ]
  },
  {
   "cell_type": "code",
   "execution_count": 45,
   "metadata": {},
   "outputs": [],
   "source": [
    "xTrainNT = xTrain[:,[1,2,3, 4, 5, 6, 7, 8,9,26]]\n",
    "xValNT = xVal[:,[1,2,3, 4, 5, 6, 7, 8,9,26]]\n",
    "xTestNT = xTestData[:,[1,2,3, 4, 5, 6, 7, 8,9,26]]"
   ]
  },
  {
   "cell_type": "markdown",
   "metadata": {},
   "source": [
    "**Unbalanced**"
   ]
  },
  {
   "cell_type": "code",
   "execution_count": 46,
   "metadata": {},
   "outputs": [
    {
     "name": "stdout",
     "output_type": "stream",
     "text": [
      "rbf: 95.31%\n",
      "              precision    recall  f1-score   support\n",
      "\n",
      "         0.0       0.96      0.99      0.98      1132\n",
      "         1.0       0.65      0.21      0.32        62\n",
      "\n",
      "    accuracy                           0.95      1194\n",
      "   macro avg       0.80      0.60      0.65      1194\n",
      "weighted avg       0.94      0.95      0.94      1194\n",
      "\n",
      "[[1125    7]\n",
      " [  49   13]]\n",
      "\n",
      "linear: 94.81%\n",
      "              precision    recall  f1-score   support\n",
      "\n",
      "         0.0       0.95      1.00      0.97      1132\n",
      "         1.0       0.00      0.00      0.00        62\n",
      "\n",
      "    accuracy                           0.95      1194\n",
      "   macro avg       0.47      0.50      0.49      1194\n",
      "weighted avg       0.90      0.95      0.92      1194\n",
      "\n",
      "[[1132    0]\n",
      " [  62    0]]\n",
      "\n"
     ]
    },
    {
     "name": "stderr",
     "output_type": "stream",
     "text": [
      "/home/dan/anaconda3/lib/python3.7/site-packages/sklearn/metrics/classification.py:1437: UndefinedMetricWarning: Precision and F-score are ill-defined and being set to 0.0 in labels with no predicted samples.\n",
      "  'precision', 'predicted', average, warn_for)\n"
     ]
    },
    {
     "name": "stdout",
     "output_type": "stream",
     "text": [
      "poly: 95.06%\n",
      "              precision    recall  f1-score   support\n",
      "\n",
      "         0.0       0.96      0.99      0.97      1132\n",
      "         1.0       0.56      0.24      0.34        62\n",
      "\n",
      "    accuracy                           0.95      1194\n",
      "   macro avg       0.76      0.62      0.66      1194\n",
      "weighted avg       0.94      0.95      0.94      1194\n",
      "\n",
      "[[1120   12]\n",
      " [  47   15]]\n",
      "\n",
      "sigmoid: 92.88%\n",
      "              precision    recall  f1-score   support\n",
      "\n",
      "         0.0       0.96      0.97      0.96      1132\n",
      "         1.0       0.26      0.19      0.22        62\n",
      "\n",
      "    accuracy                           0.93      1194\n",
      "   macro avg       0.61      0.58      0.59      1194\n",
      "weighted avg       0.92      0.93      0.92      1194\n",
      "\n",
      "[[1097   35]\n",
      " [  50   12]]\n",
      "\n"
     ]
    }
   ],
   "source": [
    "printScores(xTrainNT, yTrainDist, xValNT)"
   ]
  },
  {
   "cell_type": "markdown",
   "metadata": {},
   "source": [
    "**OverSampling**"
   ]
  },
  {
   "cell_type": "code",
   "execution_count": 47,
   "metadata": {},
   "outputs": [
    {
     "name": "stdout",
     "output_type": "stream",
     "text": [
      "rbf: 92.21%\n",
      "              precision    recall  f1-score   support\n",
      "\n",
      "         0.0       0.99      0.92      0.96      1132\n",
      "         1.0       0.39      0.87      0.54        62\n",
      "\n",
      "    accuracy                           0.92      1194\n",
      "   macro avg       0.69      0.90      0.75      1194\n",
      "weighted avg       0.96      0.92      0.94      1194\n",
      "\n",
      "[[1047   85]\n",
      " [   8   54]]\n",
      "\n",
      "linear: 86.35%\n",
      "              precision    recall  f1-score   support\n",
      "\n",
      "         0.0       1.00      0.86      0.92      1132\n",
      "         1.0       0.27      0.94      0.42        62\n",
      "\n",
      "    accuracy                           0.86      1194\n",
      "   macro avg       0.63      0.90      0.67      1194\n",
      "weighted avg       0.96      0.86      0.90      1194\n",
      "\n",
      "[[973 159]\n",
      " [  4  58]]\n",
      "\n",
      "poly: 90.87%\n",
      "              precision    recall  f1-score   support\n",
      "\n",
      "         0.0       0.99      0.91      0.95      1132\n",
      "         1.0       0.34      0.84      0.49        62\n",
      "\n",
      "    accuracy                           0.91      1194\n",
      "   macro avg       0.67      0.88      0.72      1194\n",
      "weighted avg       0.96      0.91      0.93      1194\n",
      "\n",
      "[[1033   99]\n",
      " [  10   52]]\n",
      "\n",
      "sigmoid: 80.15%\n",
      "              precision    recall  f1-score   support\n",
      "\n",
      "         0.0       0.99      0.80      0.88      1132\n",
      "         1.0       0.18      0.81      0.30        62\n",
      "\n",
      "    accuracy                           0.80      1194\n",
      "   macro avg       0.58      0.80      0.59      1194\n",
      "weighted avg       0.95      0.80      0.85      1194\n",
      "\n",
      "[[907 225]\n",
      " [ 12  50]]\n",
      "\n"
     ]
    }
   ],
   "source": [
    "xTrainBal, yTrainBal = sm.fit_sample(xTrainNT, yTrainDist.ravel())\n",
    "\n",
    "printScores(xTrainBal, yTrainBal, xValNT)"
   ]
  },
  {
   "cell_type": "markdown",
   "metadata": {},
   "source": [
    "**UnderSampling**"
   ]
  },
  {
   "cell_type": "code",
   "execution_count": 48,
   "metadata": {},
   "outputs": [
    {
     "name": "stdout",
     "output_type": "stream",
     "text": [
      "rbf: 52.93%\n",
      "              precision    recall  f1-score   support\n",
      "\n",
      "         0.0       0.96      0.52      0.68      1132\n",
      "         1.0       0.07      0.65      0.12        62\n",
      "\n",
      "    accuracy                           0.53      1194\n",
      "   macro avg       0.52      0.58      0.40      1194\n",
      "weighted avg       0.92      0.53      0.65      1194\n",
      "\n",
      "[[592 540]\n",
      " [ 22  40]]\n",
      "\n",
      "linear: 81.99%\n",
      "              precision    recall  f1-score   support\n",
      "\n",
      "         0.0       0.98      0.83      0.90      1132\n",
      "         1.0       0.17      0.66      0.28        62\n",
      "\n",
      "    accuracy                           0.82      1194\n",
      "   macro avg       0.58      0.74      0.59      1194\n",
      "weighted avg       0.94      0.82      0.86      1194\n",
      "\n",
      "[[938 194]\n",
      " [ 21  41]]\n",
      "\n",
      "poly: 79.15%\n",
      "              precision    recall  f1-score   support\n",
      "\n",
      "         0.0       0.98      0.80      0.88      1132\n",
      "         1.0       0.15      0.63      0.24        62\n",
      "\n",
      "    accuracy                           0.79      1194\n",
      "   macro avg       0.56      0.71      0.56      1194\n",
      "weighted avg       0.93      0.79      0.85      1194\n",
      "\n",
      "[[906 226]\n",
      " [ 23  39]]\n",
      "\n",
      "sigmoid: 84.92%\n",
      "              precision    recall  f1-score   support\n",
      "\n",
      "         0.0       0.98      0.86      0.92      1132\n",
      "         1.0       0.20      0.63      0.30        62\n",
      "\n",
      "    accuracy                           0.85      1194\n",
      "   macro avg       0.59      0.75      0.61      1194\n",
      "weighted avg       0.94      0.85      0.88      1194\n",
      "\n",
      "[[975 157]\n",
      " [ 23  39]]\n",
      "\n"
     ]
    }
   ],
   "source": [
    "xTrainBal, yTrainBal = nr.fit_sample(xTrainNT, yTrainDist.ravel())\n",
    "\n",
    "printScores(xTrainBal, yTrainBal, xValNT)"
   ]
  },
  {
   "cell_type": "markdown",
   "metadata": {},
   "source": [
    "# Best UnderSampling Performer"
   ]
  },
  {
   "cell_type": "code",
   "execution_count": 49,
   "metadata": {},
   "outputs": [],
   "source": [
    "# xTrainBal, yTrainBal = nr.fit_sample(xTrainNT, yTrainDist.ravel())\n",
    "\n",
    "# scale = StandardScaler().fit(xTrainBal)\n",
    "# xTrainScaled = scale.transform(xTrainBal)\n",
    "# xTestScaled = scale.transform(xTestNT)\n",
    "\n",
    "# svc = svm.SVC(kernel=\"poly\", probability=True)\n",
    "# svc.fit(xTrainScaled, yTrainBal)\n",
    "# probs = svc.predict_proba(xTestScaled)\n",
    "# ids = xTestIds.tolist()\n",
    "# probs = probs.tolist()\n",
    "\n",
    "# f = open(\"SVCTake1.txt\", \"w+\")\n",
    "# f.write(\"Unique Id,DIST\\n\")\n",
    "\n",
    "# for i in range(len(ids)):\n",
    "#     f.write(str(int(ids[i])) + \",\" + str(probs[i][1]) + \"\\n\")\n",
    "    \n",
    "# f.close()"
   ]
  },
  {
   "cell_type": "code",
   "execution_count": 50,
   "metadata": {},
   "outputs": [],
   "source": [
    "# xTrainBal, yTrainBal = sm.fit_sample(xTrainNT, yTrainDist.ravel())\n",
    "\n",
    "# scale = StandardScaler().fit(xTrainBal)\n",
    "# xTrainScaled = scale.transform(xTrainBal)\n",
    "# xTestScaled = scale.transform(xTestNT)\n",
    "\n",
    "# svc = svm.SVC(kernel=\"poly\", probability=True)\n",
    "# svc.fit(xTrainScaled, yTrainBal)\n",
    "# probs = svc.predict_proba(xTestScaled)\n",
    "# ids = xTestIds.tolist()\n",
    "# probs = probs.tolist()\n",
    "\n",
    "# f = open(\"SVCTake2.txt\", \"w+\")\n",
    "# f.write(\"Unique Id,DIST\\n\")\n",
    "\n",
    "# for i in range(len(ids)):\n",
    "#     f.write(str(int(ids[i])) + \",\" + str(probs[i][1]) + \"\\n\")\n",
    "    \n",
    "# f.close()"
   ]
  },
  {
   "cell_type": "code",
   "execution_count": 51,
   "metadata": {},
   "outputs": [],
   "source": [
    "# xTrainBal, yTrainBal = sm.fit_sample(xTrainNT, yTrainDist.ravel())\n",
    "\n",
    "# scale = StandardScaler().fit(xTrainBal)\n",
    "# xTrainScaled = scale.transform(xTrainBal)\n",
    "# xTestScaled = scale.transform(xTestNT)\n",
    "\n",
    "# svc = svm.SVC(kernel=\"linear\", probability=True)\n",
    "# svc.fit(xTrainScaled, yTrainBal)\n",
    "# probs = svc.predict_proba(xTestScaled)\n",
    "# ids = xTestIds.tolist()\n",
    "# probs = probs.tolist()\n",
    "\n",
    "# f = open(\"SVCTake2Extra.txt\", \"w+\")\n",
    "# f.write(\"Unique Id,DIST\\n\")\n",
    "\n",
    "# for i in range(len(ids)):\n",
    "#     f.write(str(int(ids[i])) + \",\" + str(probs[i][1]) + \"\\n\")\n",
    "    \n",
    "# f.close()"
   ]
  },
  {
   "cell_type": "code",
   "execution_count": 74,
   "metadata": {},
   "outputs": [],
   "source": [
    "# xTrainBal, yTrainBal = sm.fit_sample(xTrainFirstsP, yTrainDist.ravel())\n",
    "\n",
    "# scale = StandardScaler().fit(xTrainBal)\n",
    "# xTrainScaled = scale.transform(xTrainBal)\n",
    "# xTestScaled = scale.transform(xTestFirstsP)\n",
    "\n",
    "# svc = svm.SVC(kernel=\"rbf\", probability=True)\n",
    "# svc.fit(xTrainScaled, yTrainBal)\n",
    "# probs = svc.predict_proba(xTestScaled)\n",
    "# ids = xTestIds.tolist()\n",
    "# probs = probs.tolist()\n",
    "\n",
    "# f = open(\"SVCTake3.txt\", \"w+\")\n",
    "# f.write(\"Unique Id,DIST\\n\")\n",
    "\n",
    "# for i in range(len(ids)):\n",
    "#     f.write(str(int(ids[i])) + \",\" + str(probs[i][1]) + \"\\n\")\n",
    "    \n",
    "# f.close()"
   ]
  },
  {
   "cell_type": "code",
   "execution_count": 75,
   "metadata": {},
   "outputs": [],
   "source": [
    "xTrainBal, yTrainBal = sm.fit_sample(xTrainFirsts, yTrainDist.ravel())\n",
    "\n",
    "scale = StandardScaler().fit(xTrainBal)\n",
    "xTrainScaled = scale.transform(xTrainBal)\n",
    "xTestScaled = scale.transform(xTestFirsts)\n",
    "\n",
    "svc = svm.SVC(kernel=\"linear\", probability=True)\n",
    "svc.fit(xTrainScaled, yTrainBal)\n",
    "probs = svc.predict_proba(xTestScaled)\n",
    "ids = xTestIds.tolist()\n",
    "probs = probs.tolist()\n",
    "\n",
    "f = open(\"SVCTake3.txt\", \"w+\")\n",
    "f.write(\"Unique Id,DIST\\n\")\n",
    "\n",
    "for i in range(len(ids)):\n",
    "    f.write(str(int(ids[i])) + \",\" + str(probs[i][1]) + \"\\n\")\n",
    "    \n",
    "f.close()"
   ]
  },
  {
   "cell_type": "code",
   "execution_count": null,
   "metadata": {},
   "outputs": [],
   "source": []
  }
 ],
 "metadata": {
  "kernelspec": {
   "display_name": "Python 3",
   "language": "python",
   "name": "python3"
  },
  "language_info": {
   "codemirror_mode": {
    "name": "ipython",
    "version": 3
   },
   "file_extension": ".py",
   "mimetype": "text/x-python",
   "name": "python",
   "nbconvert_exporter": "python",
   "pygments_lexer": "ipython3",
   "version": "3.7.4"
  }
 },
 "nbformat": 4,
 "nbformat_minor": 2
}
