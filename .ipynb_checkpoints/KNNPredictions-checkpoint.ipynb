{
 "cells": [
  {
   "cell_type": "markdown",
   "metadata": {},
   "source": [
    "# KNN Testing"
   ]
  },
  {
   "cell_type": "code",
   "execution_count": 1,
   "metadata": {},
   "outputs": [],
   "source": [
    "import numpy as np # linear algebra\n",
    "import pandas as pd # data processing, CSV file I/O (e.g. pd.read_csv)\n",
    "import matplotlib.pyplot as plt\n",
    "from sklearn.model_selection import train_test_split\n",
    "from sklearn.neighbors import KNeighborsClassifier\n",
    "from imblearn.over_sampling import SMOTE \n",
    "from imblearn.under_sampling import NearMiss \n",
    "from sklearn.preprocessing import StandardScaler "
   ]
  },
  {
   "cell_type": "code",
   "execution_count": 2,
   "metadata": {},
   "outputs": [],
   "source": [
    "xTestData = np.genfromtxt(\"data/X_test.txt\", delimiter = None, skip_header=1)\n",
    "xTrainData = np.genfromtxt(\"data/X_train.txt\", delimiter = None, skip_header=1)\n",
    "yTrainData = np.genfromtxt(\"data/Y_train.txt\", delimiter = None, skip_header=1)"
   ]
  },
  {
   "cell_type": "code",
   "execution_count": 3,
   "metadata": {},
   "outputs": [],
   "source": [
    "xTrain, xVal, yTrain, yVal = train_test_split(xTrainData, yTrainData, test_size=0.25, shuffle = True)"
   ]
  },
  {
   "cell_type": "code",
   "execution_count": 4,
   "metadata": {},
   "outputs": [],
   "source": [
    "yTrainDist = yTrain[:, 1]\n",
    "yTrainZ = yTrain[:, 0]\n",
    "yValDist = yVal[:,1]\n",
    "yValZ = yVal[:,0]\n",
    "\n",
    "xTestIds = xTestData[:,0]\n",
    "\n",
    "#OverSampler\n",
    "sm = SMOTE(random_state = 2)\n",
    "\n",
    "#UnderSampler\n",
    "nr = NearMiss()"
   ]
  },
  {
   "cell_type": "markdown",
   "metadata": {},
   "source": [
    "**Helper method for printing Score for KNN(1-50 neighbors)**"
   ]
  },
  {
   "cell_type": "code",
   "execution_count": 5,
   "metadata": {},
   "outputs": [],
   "source": [
    "def printScores(xTrain, yTrain, xVal):\n",
    "    scale = StandardScaler().fit(xTrain)\n",
    "    xTrainScaled = scale.transform(xTrain)\n",
    "    xValScaled = scale.transform(xVal)\n",
    "\n",
    "    knn = KNeighborsClassifier(n_neighbors=1)\n",
    "\n",
    "    for i in range(0, 55, 5):\n",
    "        if i == 0:\n",
    "            i = 1\n",
    "        knn.n_neighbors = i\n",
    "        knn.fit(xTrainScaled, yTrain.ravel())\n",
    "        print( str(i) + \" neighbor(s) score: \" + str(knn.score(xValScaled, yValDist)))"
   ]
  },
  {
   "cell_type": "markdown",
   "metadata": {},
   "source": [
    "# All first Features of each Category"
   ]
  },
  {
   "cell_type": "markdown",
   "metadata": {},
   "source": [
    "**Features**"
   ]
  },
  {
   "cell_type": "code",
   "execution_count": 6,
   "metadata": {},
   "outputs": [],
   "source": [
    "xTrainFirsts = xTrain[:,[1,2,3, 4, 10, 20, 23, 27,30]]\n",
    "xValFirsts = xVal[:,[1,2,3, 4, 10, 20, 23, 27,30]]\n",
    "xTestFirsts = xTestData[:,[1,2,3, 4, 10, 20, 23, 27,30]]"
   ]
  },
  {
   "cell_type": "markdown",
   "metadata": {},
   "source": [
    "**Unbalanced Data**"
   ]
  },
  {
   "cell_type": "code",
   "execution_count": 7,
   "metadata": {},
   "outputs": [
    {
     "name": "stdout",
     "output_type": "stream",
     "text": [
      "1 neighbor(s) score: 0.9614740368509213\n",
      "5 neighbor(s) score: 0.9681742043551089\n",
      "10 neighbor(s) score: 0.9681742043551089\n",
      "15 neighbor(s) score: 0.9623115577889447\n",
      "20 neighbor(s) score: 0.9614740368509213\n",
      "25 neighbor(s) score: 0.9606365159128978\n",
      "30 neighbor(s) score: 0.9597989949748744\n",
      "35 neighbor(s) score: 0.9597989949748744\n",
      "40 neighbor(s) score: 0.9606365159128978\n",
      "45 neighbor(s) score: 0.9614740368509213\n",
      "50 neighbor(s) score: 0.9597989949748744\n"
     ]
    }
   ],
   "source": [
    "printScores(xTrainFirsts, yTrainDist, xValFirsts)"
   ]
  },
  {
   "cell_type": "markdown",
   "metadata": {},
   "source": [
    "**OverSampling**"
   ]
  },
  {
   "cell_type": "code",
   "execution_count": 8,
   "metadata": {},
   "outputs": [
    {
     "name": "stdout",
     "output_type": "stream",
     "text": [
      "1 neighbor(s) score: 0.9581239530988275\n",
      "5 neighbor(s) score: 0.9321608040201005\n",
      "10 neighbor(s) score: 0.9246231155778895\n",
      "15 neighbor(s) score: 0.8969849246231156\n",
      "20 neighbor(s) score: 0.9020100502512562\n",
      "25 neighbor(s) score: 0.890284757118928\n",
      "30 neighbor(s) score: 0.8936348408710217\n",
      "35 neighbor(s) score: 0.8835845896147404\n",
      "40 neighbor(s) score: 0.8835845896147404\n",
      "45 neighbor(s) score: 0.8785594639865997\n",
      "50 neighbor(s) score: 0.8802345058626466\n"
     ]
    }
   ],
   "source": [
    "xTrainBal, yTrainBal = sm.fit_sample(xTrainFirsts, yTrainDist.ravel())\n",
    "\n",
    "printScores(xTrainBal, yTrainBal, xValFirsts)"
   ]
  },
  {
   "cell_type": "markdown",
   "metadata": {},
   "source": [
    "**UnderSampling**"
   ]
  },
  {
   "cell_type": "code",
   "execution_count": 9,
   "metadata": {},
   "outputs": [
    {
     "name": "stdout",
     "output_type": "stream",
     "text": [
      "1 neighbor(s) score: 0.8107202680067002\n",
      "5 neighbor(s) score: 0.8726968174204355\n",
      "10 neighbor(s) score: 0.9413735343383585\n",
      "15 neighbor(s) score: 0.958961474036851\n",
      "20 neighbor(s) score: 0.958961474036851\n",
      "25 neighbor(s) score: 0.9581239530988275\n",
      "30 neighbor(s) score: 0.957286432160804\n",
      "35 neighbor(s) score: 0.9581239530988275\n",
      "40 neighbor(s) score: 0.9581239530988275\n",
      "45 neighbor(s) score: 0.958961474036851\n",
      "50 neighbor(s) score: 0.9556113902847572\n"
     ]
    }
   ],
   "source": [
    "xTrainBal, yTrainBal = nr.fit_sample(xTrainFirsts, yTrainDist.ravel())\n",
    "\n",
    "printScores(xTrainBal, yTrainBal, xValFirsts)"
   ]
  },
  {
   "cell_type": "markdown",
   "metadata": {},
   "source": [
    "# All second Features of each Category"
   ]
  },
  {
   "cell_type": "markdown",
   "metadata": {},
   "source": [
    "**Features**"
   ]
  },
  {
   "cell_type": "code",
   "execution_count": 10,
   "metadata": {},
   "outputs": [],
   "source": [
    "xTrainSeconds = xTrain[:,[1,2,3, 5, 11, 21, 24, 28,31]]\n",
    "xValSeconds = xVal[:,[1,2,3, 5, 11, 21, 24, 28,31]]"
   ]
  },
  {
   "cell_type": "markdown",
   "metadata": {},
   "source": [
    "**Unbalanced**"
   ]
  },
  {
   "cell_type": "code",
   "execution_count": 11,
   "metadata": {},
   "outputs": [
    {
     "name": "stdout",
     "output_type": "stream",
     "text": [
      "1 neighbor(s) score: 0.9715242881072027\n",
      "5 neighbor(s) score: 0.9715242881072027\n",
      "10 neighbor(s) score: 0.9656616415410385\n",
      "15 neighbor(s) score: 0.9656616415410385\n",
      "20 neighbor(s) score: 0.9623115577889447\n",
      "25 neighbor(s) score: 0.958961474036851\n",
      "30 neighbor(s) score: 0.9597989949748744\n",
      "35 neighbor(s) score: 0.9614740368509213\n",
      "40 neighbor(s) score: 0.958961474036851\n",
      "45 neighbor(s) score: 0.958961474036851\n",
      "50 neighbor(s) score: 0.957286432160804\n"
     ]
    }
   ],
   "source": [
    "printScores(xTrainSeconds, yTrainDist, xValSeconds)"
   ]
  },
  {
   "cell_type": "markdown",
   "metadata": {},
   "source": [
    "**OverSampling**"
   ]
  },
  {
   "cell_type": "code",
   "execution_count": 12,
   "metadata": {},
   "outputs": [
    {
     "name": "stdout",
     "output_type": "stream",
     "text": [
      "1 neighbor(s) score: 0.9681742043551089\n",
      "5 neighbor(s) score: 0.9522613065326633\n",
      "10 neighbor(s) score: 0.9430485762144054\n",
      "15 neighbor(s) score: 0.932998324958124\n",
      "20 neighbor(s) score: 0.9346733668341709\n",
      "25 neighbor(s) score: 0.9296482412060302\n",
      "30 neighbor(s) score: 0.9304857621440537\n",
      "35 neighbor(s) score: 0.9262981574539364\n",
      "40 neighbor(s) score: 0.923785594639866\n",
      "45 neighbor(s) score: 0.916247906197655\n",
      "50 neighbor(s) score: 0.9154103852596315\n"
     ]
    }
   ],
   "source": [
    "xTrainBal, yTrainBal = sm.fit_sample(xTrainSeconds, yTrainDist.ravel())\n",
    "\n",
    "printScores(xTrainBal, yTrainBal, xValSeconds)"
   ]
  },
  {
   "cell_type": "markdown",
   "metadata": {},
   "source": [
    "**UnderSampling**"
   ]
  },
  {
   "cell_type": "code",
   "execution_count": 13,
   "metadata": {},
   "outputs": [
    {
     "name": "stdout",
     "output_type": "stream",
     "text": [
      "1 neighbor(s) score: 0.6608040201005025\n",
      "5 neighbor(s) score: 0.6976549413735343\n",
      "10 neighbor(s) score: 0.7512562814070352\n",
      "15 neighbor(s) score: 0.7420435510887772\n",
      "20 neighbor(s) score: 0.7956448911222781\n",
      "25 neighbor(s) score: 0.8140703517587939\n",
      "30 neighbor(s) score: 0.8634840871021775\n",
      "35 neighbor(s) score: 0.8676716917922948\n",
      "40 neighbor(s) score: 0.9179229480737019\n",
      "45 neighbor(s) score: 0.9170854271356784\n",
      "50 neighbor(s) score: 0.9380234505862647\n"
     ]
    }
   ],
   "source": [
    "xTrainBal, yTrainBal = nr.fit_sample(xTrainSeconds, yTrainDist.ravel())\n",
    "\n",
    "printScores(xTrainBal, yTrainBal, xValSeconds)"
   ]
  },
  {
   "cell_type": "markdown",
   "metadata": {},
   "source": [
    "# All third features of each Category"
   ]
  },
  {
   "cell_type": "markdown",
   "metadata": {},
   "source": [
    "**Features**"
   ]
  },
  {
   "cell_type": "code",
   "execution_count": 14,
   "metadata": {},
   "outputs": [],
   "source": [
    "xTrainThirds = xTrain[:,[1,2,3, 6, 12, 22, 25, 29,32]]\n",
    "xValThirds = xVal[:,[1,2,3, 6, 12, 22, 25, 29,32]]"
   ]
  },
  {
   "cell_type": "markdown",
   "metadata": {},
   "source": [
    "**Unbalanced**"
   ]
  },
  {
   "cell_type": "code",
   "execution_count": 15,
   "metadata": {},
   "outputs": [
    {
     "name": "stdout",
     "output_type": "stream",
     "text": [
      "1 neighbor(s) score: 0.9614740368509213\n",
      "5 neighbor(s) score: 0.9631490787269682\n",
      "10 neighbor(s) score: 0.9564489112227805\n",
      "15 neighbor(s) score: 0.9581239530988275\n",
      "20 neighbor(s) score: 0.957286432160804\n",
      "25 neighbor(s) score: 0.9564489112227805\n",
      "30 neighbor(s) score: 0.9564489112227805\n",
      "35 neighbor(s) score: 0.957286432160804\n",
      "40 neighbor(s) score: 0.9556113902847572\n",
      "45 neighbor(s) score: 0.9556113902847572\n",
      "50 neighbor(s) score: 0.9539363484087102\n"
     ]
    }
   ],
   "source": [
    "printScores(xTrainThirds, yTrainDist, xValThirds)"
   ]
  },
  {
   "cell_type": "markdown",
   "metadata": {},
   "source": [
    "**OverSampling**"
   ]
  },
  {
   "cell_type": "code",
   "execution_count": 16,
   "metadata": {},
   "outputs": [
    {
     "name": "stdout",
     "output_type": "stream",
     "text": [
      "1 neighbor(s) score: 0.9413735343383585\n",
      "5 neighbor(s) score: 0.9095477386934674\n",
      "10 neighbor(s) score: 0.9020100502512562\n",
      "15 neighbor(s) score: 0.8886097152428811\n",
      "20 neighbor(s) score: 0.8927973199329984\n",
      "25 neighbor(s) score: 0.8877721943048577\n",
      "30 neighbor(s) score: 0.8869346733668342\n",
      "35 neighbor(s) score: 0.8785594639865997\n",
      "40 neighbor(s) score: 0.8793969849246231\n",
      "45 neighbor(s) score: 0.8701842546063652\n",
      "50 neighbor(s) score: 0.8752093802345059\n"
     ]
    }
   ],
   "source": [
    "xTrainBal, yTrainBal = sm.fit_sample(xTrainThirds, yTrainDist.ravel())\n",
    "\n",
    "printScores(xTrainBal, yTrainBal, xValThirds)"
   ]
  },
  {
   "cell_type": "markdown",
   "metadata": {},
   "source": [
    "**UnderSampling**"
   ]
  },
  {
   "cell_type": "code",
   "execution_count": 17,
   "metadata": {},
   "outputs": [
    {
     "name": "stdout",
     "output_type": "stream",
     "text": [
      "1 neighbor(s) score: 0.6063651591289783\n",
      "5 neighbor(s) score: 0.6976549413735343\n",
      "10 neighbor(s) score: 0.7839195979899497\n",
      "15 neighbor(s) score: 0.7855946398659966\n",
      "20 neighbor(s) score: 0.8534338358458962\n",
      "25 neighbor(s) score: 0.8592964824120602\n",
      "30 neighbor(s) score: 0.8869346733668342\n",
      "35 neighbor(s) score: 0.8777219430485762\n",
      "40 neighbor(s) score: 0.8927973199329984\n",
      "45 neighbor(s) score: 0.8927973199329984\n",
      "50 neighbor(s) score: 0.897822445561139\n"
     ]
    }
   ],
   "source": [
    "xTrainBal, yTrainBal = nr.fit_sample(xTrainThirds, yTrainDist.ravel())\n",
    "\n",
    "printScores(xTrainBal, yTrainBal, xValThirds)"
   ]
  },
  {
   "cell_type": "markdown",
   "metadata": {},
   "source": [
    "# Controls and Liquidity Ratios"
   ]
  },
  {
   "cell_type": "markdown",
   "metadata": {},
   "source": [
    "**Features**"
   ]
  },
  {
   "cell_type": "code",
   "execution_count": 18,
   "metadata": {},
   "outputs": [],
   "source": [
    "xTrainLR = xTrain[:,[1,2,3, 4, 5, 6, 7, 8,9]]\n",
    "xValLR = xVal[:,[1,2,3, 4, 5, 6, 7, 8,9]]"
   ]
  },
  {
   "cell_type": "markdown",
   "metadata": {},
   "source": [
    "**Unbalanced**"
   ]
  },
  {
   "cell_type": "code",
   "execution_count": 19,
   "metadata": {},
   "outputs": [
    {
     "name": "stdout",
     "output_type": "stream",
     "text": [
      "1 neighbor(s) score: 0.9606365159128978\n",
      "5 neighbor(s) score: 0.9597989949748744\n",
      "10 neighbor(s) score: 0.9623115577889447\n",
      "15 neighbor(s) score: 0.9581239530988275\n",
      "20 neighbor(s) score: 0.9606365159128978\n",
      "25 neighbor(s) score: 0.9606365159128978\n",
      "30 neighbor(s) score: 0.9597989949748744\n",
      "35 neighbor(s) score: 0.9597989949748744\n",
      "40 neighbor(s) score: 0.9597989949748744\n",
      "45 neighbor(s) score: 0.9606365159128978\n",
      "50 neighbor(s) score: 0.9597989949748744\n"
     ]
    }
   ],
   "source": [
    "printScores(xTrainLR, yTrainDist, xValLR)"
   ]
  },
  {
   "cell_type": "markdown",
   "metadata": {},
   "source": [
    "**OverSampling**"
   ]
  },
  {
   "cell_type": "code",
   "execution_count": 20,
   "metadata": {},
   "outputs": [
    {
     "name": "stdout",
     "output_type": "stream",
     "text": [
      "1 neighbor(s) score: 0.9463986599664992\n",
      "5 neighbor(s) score: 0.9137353433835846\n",
      "10 neighbor(s) score: 0.9003350083752094\n",
      "15 neighbor(s) score: 0.8802345058626466\n",
      "20 neighbor(s) score: 0.8793969849246231\n",
      "25 neighbor(s) score: 0.871859296482412\n",
      "30 neighbor(s) score: 0.8693467336683417\n",
      "35 neighbor(s) score: 0.8609715242881072\n",
      "40 neighbor(s) score: 0.864321608040201\n",
      "45 neighbor(s) score: 0.8567839195979899\n",
      "50 neighbor(s) score: 0.8559463986599665\n"
     ]
    }
   ],
   "source": [
    "xTrainBal, yTrainBal = sm.fit_sample(xTrainLR, yTrainDist.ravel())\n",
    "\n",
    "printScores(xTrainBal, yTrainBal, xValLR)"
   ]
  },
  {
   "cell_type": "markdown",
   "metadata": {},
   "source": [
    "**UnderSampling**"
   ]
  },
  {
   "cell_type": "code",
   "execution_count": 21,
   "metadata": {},
   "outputs": [
    {
     "name": "stdout",
     "output_type": "stream",
     "text": [
      "1 neighbor(s) score: 0.36515912897822445\n",
      "5 neighbor(s) score: 0.39112227805695143\n",
      "10 neighbor(s) score: 0.42797319932998323\n",
      "15 neighbor(s) score: 0.43132328308207707\n",
      "20 neighbor(s) score: 0.46901172529313234\n",
      "25 neighbor(s) score: 0.4564489112227806\n",
      "30 neighbor(s) score: 0.4966499162479062\n",
      "35 neighbor(s) score: 0.4899497487437186\n",
      "40 neighbor(s) score: 0.5100502512562815\n",
      "45 neighbor(s) score: 0.518425460636516\n",
      "50 neighbor(s) score: 0.5485762144053601\n"
     ]
    }
   ],
   "source": [
    "xTrainBal, yTrainBal = nr.fit_sample(xTrainLR, yTrainDist.ravel())\n",
    "\n",
    "printScores(xTrainBal, yTrainBal, xValLR)"
   ]
  },
  {
   "cell_type": "markdown",
   "metadata": {},
   "source": [
    "# Controls and Profitability Ratios"
   ]
  },
  {
   "cell_type": "markdown",
   "metadata": {},
   "source": [
    "**Features**"
   ]
  },
  {
   "cell_type": "code",
   "execution_count": 22,
   "metadata": {},
   "outputs": [],
   "source": [
    "xTrainPR = xTrain[:,[1, 2, 3, 10, 11, 12, 13, 14, 15, 16, 17, 18, 19]]\n",
    "xValPR = xVal[:,[1, 2, 3, 10, 11, 12, 13, 14, 15, 16, 17, 18, 19]]"
   ]
  },
  {
   "cell_type": "markdown",
   "metadata": {},
   "source": [
    "**Unbalanced**"
   ]
  },
  {
   "cell_type": "code",
   "execution_count": 23,
   "metadata": {},
   "outputs": [
    {
     "name": "stdout",
     "output_type": "stream",
     "text": [
      "1 neighbor(s) score: 0.9380234505862647\n",
      "5 neighbor(s) score: 0.9581239530988275\n",
      "10 neighbor(s) score: 0.9564489112227805\n",
      "15 neighbor(s) score: 0.9514237855946399\n",
      "20 neighbor(s) score: 0.9556113902847572\n",
      "25 neighbor(s) score: 0.9556113902847572\n",
      "30 neighbor(s) score: 0.9556113902847572\n",
      "35 neighbor(s) score: 0.9547738693467337\n",
      "40 neighbor(s) score: 0.9539363484087102\n",
      "45 neighbor(s) score: 0.9539363484087102\n",
      "50 neighbor(s) score: 0.9539363484087102\n"
     ]
    }
   ],
   "source": [
    "printScores(xTrainPR, yTrainDist, xValPR)"
   ]
  },
  {
   "cell_type": "markdown",
   "metadata": {},
   "source": [
    "**OverSampling**"
   ]
  },
  {
   "cell_type": "code",
   "execution_count": 24,
   "metadata": {},
   "outputs": [
    {
     "name": "stdout",
     "output_type": "stream",
     "text": [
      "1 neighbor(s) score: 0.9187604690117253\n",
      "5 neighbor(s) score: 0.8877721943048577\n",
      "10 neighbor(s) score: 0.890284757118928\n",
      "15 neighbor(s) score: 0.873534338358459\n",
      "20 neighbor(s) score: 0.8835845896147404\n",
      "25 neighbor(s) score: 0.8710217755443886\n",
      "30 neighbor(s) score: 0.871859296482412\n",
      "35 neighbor(s) score: 0.8626465661641541\n",
      "40 neighbor(s) score: 0.8685092127303182\n",
      "45 neighbor(s) score: 0.8584589614740369\n",
      "50 neighbor(s) score: 0.8659966499162479\n"
     ]
    }
   ],
   "source": [
    "xTrainBal, yTrainBal = sm.fit_sample(xTrainPR, yTrainDist.ravel())\n",
    "\n",
    "printScores(xTrainBal, yTrainBal, xValPR)"
   ]
  },
  {
   "cell_type": "markdown",
   "metadata": {},
   "source": [
    "**UnderSampling**"
   ]
  },
  {
   "cell_type": "code",
   "execution_count": 25,
   "metadata": {},
   "outputs": [
    {
     "name": "stdout",
     "output_type": "stream",
     "text": [
      "1 neighbor(s) score: 0.3927973199329983\n",
      "5 neighbor(s) score: 0.4204355108877722\n",
      "10 neighbor(s) score: 0.550251256281407\n",
      "15 neighbor(s) score: 0.5460636515912898\n",
      "20 neighbor(s) score: 0.6256281407035176\n",
      "25 neighbor(s) score: 0.6088777219430486\n",
      "30 neighbor(s) score: 0.6323283082077052\n",
      "35 neighbor(s) score: 0.6231155778894473\n",
      "40 neighbor(s) score: 0.6566164154103853\n",
      "45 neighbor(s) score: 0.6381909547738693\n",
      "50 neighbor(s) score: 0.6649916247906198\n"
     ]
    }
   ],
   "source": [
    "xTrainBal, yTrainBal = nr.fit_sample(xTrainPR, yTrainDist.ravel())\n",
    "\n",
    "printScores(xTrainBal, yTrainBal, xValPR)"
   ]
  },
  {
   "cell_type": "markdown",
   "metadata": {},
   "source": [
    "# Controls and Profitability Ratios Booleans"
   ]
  },
  {
   "cell_type": "code",
   "execution_count": 26,
   "metadata": {},
   "outputs": [],
   "source": [
    "xTrainPRB = xTrain[:,[1, 2, 3, 13, 14, 15, 16, 19]]\n",
    "xValPRB = xVal[:,[1, 2, 3, 13, 14, 15, 16, 19]]"
   ]
  },
  {
   "cell_type": "markdown",
   "metadata": {},
   "source": [
    "**Unbalanced**"
   ]
  },
  {
   "cell_type": "code",
   "execution_count": 27,
   "metadata": {},
   "outputs": [
    {
     "name": "stdout",
     "output_type": "stream",
     "text": [
      "1 neighbor(s) score: 0.9472361809045227\n",
      "5 neighbor(s) score: 0.957286432160804\n",
      "10 neighbor(s) score: 0.9581239530988275\n",
      "15 neighbor(s) score: 0.9581239530988275\n",
      "20 neighbor(s) score: 0.9564489112227805\n",
      "25 neighbor(s) score: 0.9556113902847572\n",
      "30 neighbor(s) score: 0.9547738693467337\n",
      "35 neighbor(s) score: 0.9539363484087102\n",
      "40 neighbor(s) score: 0.9539363484087102\n",
      "45 neighbor(s) score: 0.9530988274706867\n",
      "50 neighbor(s) score: 0.9522613065326633\n"
     ]
    }
   ],
   "source": [
    "printScores(xTrainPRB, yTrainDist, xValPRB)"
   ]
  },
  {
   "cell_type": "markdown",
   "metadata": {},
   "source": [
    "**OverSampling**"
   ]
  },
  {
   "cell_type": "code",
   "execution_count": 28,
   "metadata": {},
   "outputs": [
    {
     "name": "stdout",
     "output_type": "stream",
     "text": [
      "1 neighbor(s) score: 0.9053601340033501\n",
      "5 neighbor(s) score: 0.9103852596314908\n",
      "10 neighbor(s) score: 0.9095477386934674\n",
      "15 neighbor(s) score: 0.9020100502512562\n",
      "20 neighbor(s) score: 0.9036850921273032\n",
      "25 neighbor(s) score: 0.890284757118928\n",
      "30 neighbor(s) score: 0.8936348408710217\n",
      "35 neighbor(s) score: 0.8886097152428811\n",
      "40 neighbor(s) score: 0.8852596314907872\n",
      "45 neighbor(s) score: 0.8802345058626466\n",
      "50 neighbor(s) score: 0.8802345058626466\n"
     ]
    }
   ],
   "source": [
    "xTrainBal, yTrainBal = sm.fit_sample(xTrainPRB, yTrainDist.ravel())\n",
    "\n",
    "printScores(xTrainBal, yTrainBal, xValPRB)"
   ]
  },
  {
   "cell_type": "markdown",
   "metadata": {},
   "source": [
    "**UnderSampling**"
   ]
  },
  {
   "cell_type": "code",
   "execution_count": 29,
   "metadata": {},
   "outputs": [
    {
     "name": "stdout",
     "output_type": "stream",
     "text": [
      "1 neighbor(s) score: 0.29229480737018426\n",
      "5 neighbor(s) score: 0.35678391959798994\n",
      "10 neighbor(s) score: 0.4765494137353434\n",
      "15 neighbor(s) score: 0.5125628140703518\n",
      "20 neighbor(s) score: 0.5711892797319933\n",
      "25 neighbor(s) score: 0.5820770519262981\n",
      "30 neighbor(s) score: 0.5912897822445561\n",
      "35 neighbor(s) score: 0.585427135678392\n",
      "40 neighbor(s) score: 0.5946398659966499\n",
      "45 neighbor(s) score: 0.5921273031825796\n",
      "50 neighbor(s) score: 0.6063651591289783\n"
     ]
    }
   ],
   "source": [
    "xTrainBal, yTrainBal = nr.fit_sample(xTrainPRB, yTrainDist.ravel())\n",
    "\n",
    "printScores(xTrainBal, yTrainBal, xValPRB)"
   ]
  },
  {
   "cell_type": "markdown",
   "metadata": {},
   "source": [
    "# Controls and Profitability Ratios Non-Boolean"
   ]
  },
  {
   "cell_type": "code",
   "execution_count": 30,
   "metadata": {},
   "outputs": [],
   "source": [
    "xTrainPRNB = xTrain[:,[1, 2, 3, 10, 11, 12, 17, 18]]\n",
    "xValPRNB = xVal[:,[1, 2, 3, 10, 11, 12, 17, 18]]"
   ]
  },
  {
   "cell_type": "markdown",
   "metadata": {},
   "source": [
    "**Unbalanced**"
   ]
  },
  {
   "cell_type": "code",
   "execution_count": 31,
   "metadata": {},
   "outputs": [
    {
     "name": "stdout",
     "output_type": "stream",
     "text": [
      "1 neighbor(s) score: 0.9472361809045227\n",
      "5 neighbor(s) score: 0.957286432160804\n",
      "10 neighbor(s) score: 0.9581239530988275\n",
      "15 neighbor(s) score: 0.9581239530988275\n",
      "20 neighbor(s) score: 0.9564489112227805\n",
      "25 neighbor(s) score: 0.9556113902847572\n",
      "30 neighbor(s) score: 0.9547738693467337\n",
      "35 neighbor(s) score: 0.9539363484087102\n",
      "40 neighbor(s) score: 0.9539363484087102\n",
      "45 neighbor(s) score: 0.9530988274706867\n",
      "50 neighbor(s) score: 0.9522613065326633\n"
     ]
    }
   ],
   "source": [
    "printScores(xTrainPRB, yTrainDist, xValPRB)"
   ]
  },
  {
   "cell_type": "markdown",
   "metadata": {},
   "source": [
    "**OverSampling**"
   ]
  },
  {
   "cell_type": "code",
   "execution_count": 32,
   "metadata": {},
   "outputs": [
    {
     "name": "stdout",
     "output_type": "stream",
     "text": [
      "1 neighbor(s) score: 0.9045226130653267\n",
      "5 neighbor(s) score: 0.8685092127303182\n",
      "10 neighbor(s) score: 0.8651591289782244\n",
      "15 neighbor(s) score: 0.847571189279732\n",
      "20 neighbor(s) score: 0.8433835845896147\n",
      "25 neighbor(s) score: 0.8274706867671692\n",
      "30 neighbor(s) score: 0.8241206030150754\n",
      "35 neighbor(s) score: 0.8107202680067002\n",
      "40 neighbor(s) score: 0.8115577889447236\n",
      "45 neighbor(s) score: 0.8023450586264657\n",
      "50 neighbor(s) score: 0.8031825795644891\n"
     ]
    }
   ],
   "source": [
    "xTrainBal, yTrainBal = sm.fit_sample(xTrainPRNB, yTrainDist.ravel())\n",
    "\n",
    "printScores(xTrainBal, yTrainBal, xValPRNB)"
   ]
  },
  {
   "cell_type": "markdown",
   "metadata": {},
   "source": [
    "**UnderSampling**"
   ]
  },
  {
   "cell_type": "code",
   "execution_count": 33,
   "metadata": {},
   "outputs": [
    {
     "name": "stdout",
     "output_type": "stream",
     "text": [
      "1 neighbor(s) score: 0.4556113902847571\n",
      "5 neighbor(s) score: 0.5301507537688442\n",
      "10 neighbor(s) score: 0.6365159128978225\n",
      "15 neighbor(s) score: 0.7085427135678392\n",
      "20 neighbor(s) score: 0.7788944723618091\n",
      "25 neighbor(s) score: 0.7964824120603015\n",
      "30 neighbor(s) score: 0.8467336683417085\n",
      "35 neighbor(s) score: 0.8484087102177554\n",
      "40 neighbor(s) score: 0.8760469011725294\n",
      "45 neighbor(s) score: 0.8752093802345059\n",
      "50 neighbor(s) score: 0.8886097152428811\n"
     ]
    }
   ],
   "source": [
    "xTrainBal, yTrainBal = nr.fit_sample(xTrainPRNB, yTrainDist.ravel())\n",
    "\n",
    "printScores(xTrainBal, yTrainBal, xValPRNB)"
   ]
  },
  {
   "cell_type": "markdown",
   "metadata": {},
   "source": [
    "# Constants and Capital Structure"
   ]
  },
  {
   "cell_type": "markdown",
   "metadata": {},
   "source": [
    "**Features**"
   ]
  },
  {
   "cell_type": "code",
   "execution_count": 34,
   "metadata": {},
   "outputs": [],
   "source": [
    "xTrainCS = xTrain[:,[1, 2, 3, 20, 21, 22]]\n",
    "xValCS = xVal[:,[1, 2, 3, 20, 21, 22]]"
   ]
  },
  {
   "cell_type": "markdown",
   "metadata": {},
   "source": [
    "**Unbalanced**"
   ]
  },
  {
   "cell_type": "code",
   "execution_count": 35,
   "metadata": {},
   "outputs": [
    {
     "name": "stdout",
     "output_type": "stream",
     "text": [
      "1 neighbor(s) score: 0.9681742043551089\n",
      "5 neighbor(s) score: 0.9698492462311558\n",
      "10 neighbor(s) score: 0.9631490787269682\n",
      "15 neighbor(s) score: 0.9564489112227805\n",
      "20 neighbor(s) score: 0.9564489112227805\n",
      "25 neighbor(s) score: 0.9581239530988275\n",
      "30 neighbor(s) score: 0.957286432160804\n",
      "35 neighbor(s) score: 0.9564489112227805\n",
      "40 neighbor(s) score: 0.9556113902847572\n",
      "45 neighbor(s) score: 0.9547738693467337\n",
      "50 neighbor(s) score: 0.9539363484087102\n"
     ]
    }
   ],
   "source": [
    "printScores(xTrainCS, yTrainDist, xValCS)"
   ]
  },
  {
   "cell_type": "markdown",
   "metadata": {},
   "source": [
    "**OverSampling**"
   ]
  },
  {
   "cell_type": "code",
   "execution_count": 36,
   "metadata": {},
   "outputs": [
    {
     "name": "stdout",
     "output_type": "stream",
     "text": [
      "1 neighbor(s) score: 0.9371859296482412\n",
      "5 neighbor(s) score: 0.9304857621440537\n",
      "10 neighbor(s) score: 0.9338358458961474\n",
      "15 neighbor(s) score: 0.9179229480737019\n",
      "20 neighbor(s) score: 0.9154103852596315\n",
      "25 neighbor(s) score: 0.9003350083752094\n",
      "30 neighbor(s) score: 0.8969849246231156\n",
      "35 neighbor(s) score: 0.890284757118928\n",
      "40 neighbor(s) score: 0.890284757118928\n",
      "45 neighbor(s) score: 0.8894472361809045\n",
      "50 neighbor(s) score: 0.8911222780569514\n"
     ]
    }
   ],
   "source": [
    "xTrainBal, yTrainBal = sm.fit_sample(xTrainCS, yTrainDist.ravel())\n",
    "\n",
    "printScores(xTrainBal, yTrainBal, xValCS)"
   ]
  },
  {
   "cell_type": "markdown",
   "metadata": {},
   "source": [
    "**UnderSampling**"
   ]
  },
  {
   "cell_type": "code",
   "execution_count": 37,
   "metadata": {},
   "outputs": [
    {
     "name": "stdout",
     "output_type": "stream",
     "text": [
      "1 neighbor(s) score: 0.5644891122278057\n",
      "5 neighbor(s) score: 0.7713567839195979\n",
      "10 neighbor(s) score: 0.8165829145728644\n",
      "15 neighbor(s) score: 0.7814070351758794\n",
      "20 neighbor(s) score: 0.8132328308207705\n",
      "25 neighbor(s) score: 0.8207705192629816\n",
      "30 neighbor(s) score: 0.7981574539363484\n",
      "35 neighbor(s) score: 0.7663316582914573\n",
      "40 neighbor(s) score: 0.7638190954773869\n",
      "45 neighbor(s) score: 0.7546063651591289\n",
      "50 neighbor(s) score: 0.7495812395309883\n"
     ]
    }
   ],
   "source": [
    "xTrainBal, yTrainBal = nr.fit_sample(xTrainCS, yTrainDist.ravel())\n",
    "\n",
    "printScores(xTrainBal, yTrainBal, xValCS)"
   ]
  },
  {
   "cell_type": "markdown",
   "metadata": {},
   "source": [
    "# New Tests 4/20/2020"
   ]
  },
  {
   "cell_type": "markdown",
   "metadata": {},
   "source": [
    "**Features**"
   ]
  },
  {
   "cell_type": "code",
   "execution_count": 38,
   "metadata": {},
   "outputs": [],
   "source": [
    "xTrainNT = xTrain[:,[1,2,3, 4, 5, 6, 7, 8,9,26]]\n",
    "xValNT = xVal[:,[1,2,3, 4, 5, 6, 7, 8,9,26]]"
   ]
  },
  {
   "cell_type": "markdown",
   "metadata": {},
   "source": [
    "**Unbalanced**"
   ]
  },
  {
   "cell_type": "code",
   "execution_count": 39,
   "metadata": {},
   "outputs": [
    {
     "name": "stdout",
     "output_type": "stream",
     "text": [
      "1 neighbor(s) score: 0.9530988274706867\n",
      "5 neighbor(s) score: 0.9597989949748744\n",
      "10 neighbor(s) score: 0.9639865996649917\n",
      "15 neighbor(s) score: 0.964824120603015\n",
      "20 neighbor(s) score: 0.9623115577889447\n",
      "25 neighbor(s) score: 0.9631490787269682\n",
      "30 neighbor(s) score: 0.9631490787269682\n",
      "35 neighbor(s) score: 0.9639865996649917\n",
      "40 neighbor(s) score: 0.9623115577889447\n",
      "45 neighbor(s) score: 0.9623115577889447\n",
      "50 neighbor(s) score: 0.9606365159128978\n"
     ]
    }
   ],
   "source": [
    "printScores(xTrainNT, yTrainDist, xValNT)"
   ]
  },
  {
   "cell_type": "markdown",
   "metadata": {},
   "source": [
    "**OverSampling**"
   ]
  },
  {
   "cell_type": "code",
   "execution_count": 40,
   "metadata": {},
   "outputs": [
    {
     "name": "stdout",
     "output_type": "stream",
     "text": [
      "1 neighbor(s) score: 0.9380234505862647\n",
      "5 neighbor(s) score: 0.9103852596314908\n",
      "10 neighbor(s) score: 0.9061976549413735\n",
      "15 neighbor(s) score: 0.8844221105527639\n",
      "20 neighbor(s) score: 0.8819095477386935\n",
      "25 neighbor(s) score: 0.8785594639865997\n",
      "30 neighbor(s) score: 0.8743718592964824\n",
      "35 neighbor(s) score: 0.8710217755443886\n",
      "40 neighbor(s) score: 0.871859296482412\n",
      "45 neighbor(s) score: 0.8659966499162479\n",
      "50 neighbor(s) score: 0.8668341708542714\n"
     ]
    }
   ],
   "source": [
    "xTrainBal, yTrainBal = sm.fit_sample(xTrainNT, yTrainDist.ravel())\n",
    "\n",
    "printScores(xTrainBal, yTrainBal, xValNT)"
   ]
  },
  {
   "cell_type": "markdown",
   "metadata": {},
   "source": [
    "**UnderSampling**"
   ]
  },
  {
   "cell_type": "code",
   "execution_count": 41,
   "metadata": {},
   "outputs": [
    {
     "name": "stdout",
     "output_type": "stream",
     "text": [
      "1 neighbor(s) score: 0.5050251256281407\n",
      "5 neighbor(s) score: 0.5703517587939698\n",
      "10 neighbor(s) score: 0.6256281407035176\n",
      "15 neighbor(s) score: 0.6113902847571189\n",
      "20 neighbor(s) score: 0.6440536013400335\n",
      "25 neighbor(s) score: 0.6381909547738693\n",
      "30 neighbor(s) score: 0.695142378559464\n",
      "35 neighbor(s) score: 0.6842546063651591\n",
      "40 neighbor(s) score: 0.7537688442211056\n",
      "45 neighbor(s) score: 0.7554438860971524\n",
      "50 neighbor(s) score: 0.8618090452261307\n"
     ]
    }
   ],
   "source": [
    "xTrainBal, yTrainBal = nr.fit_sample(xTrainNT, yTrainDist.ravel())\n",
    "\n",
    "printScores(xTrainBal, yTrainBal, xValNT)"
   ]
  },
  {
   "cell_type": "markdown",
   "metadata": {},
   "source": [
    "# Best Performer Unbalanced"
   ]
  },
  {
   "cell_type": "code",
   "execution_count": 42,
   "metadata": {},
   "outputs": [],
   "source": [
    "# xTrainFirsts = xTrain[:,[1,2,3, 4, 10, 20, 23, 27,30]]\n",
    "# xTestFirsts = xTest[:,[1,2,3, 4, 10, 20, 23, 27,30]]\n",
    "\n",
    "# knn = KNeighborsClassifier(n_neighbors=10)\n",
    "# knn.fit(xTrainFirsts, yTrainDist)\n",
    "# probs = knn.predict_proba(xTestFirsts)\n",
    "# ids = ySampleIds.tolist()\n",
    "# probs = probs.tolist()\n",
    "\n",
    "# f = open(\"knnTesting.txt\", \"w+\")\n",
    "# f.write(\"Unique Id,DIST\\n\")\n",
    "\n",
    "# for i in range(len(ids)):\n",
    "#     f.write(str(int(ids[i])) + \",\" + str(probs[i][1]) + \"\\n\")\n",
    "    \n",
    "# f.close()\n",
    "\n",
    "\n"
   ]
  },
  {
   "cell_type": "code",
   "execution_count": 43,
   "metadata": {},
   "outputs": [],
   "source": [
    "# xTrainLR = xTrain[:,[1,2,3, 4, 5, 6, 7, 8,9]]\n",
    "# xTestLR = xTest[:,[1,2,3, 4, 5, 6, 7, 8,9]]\n",
    "\n",
    "# knn = KNeighborsClassifier(n_neighbors=30)\n",
    "# knn.fit(xTrainLR, yTrainDist)\n",
    "# probs = knn.predict_proba(xTestLR)\n",
    "# ids = ySampleIds.tolist()\n",
    "# probs = probs.tolist()\n",
    "\n",
    "# f = open(\"knnTestingSub2.txt\", \"w+\")\n",
    "# f.write(\"Unique Id,DIST\\n\")\n",
    "\n",
    "# for i in range(len(ids)):\n",
    "#     f.write(str(int(ids[i])) + \",\" + str(probs[i][1]) + \"\\n\")\n",
    "    \n",
    "# f.close()"
   ]
  },
  {
   "cell_type": "code",
   "execution_count": 44,
   "metadata": {},
   "outputs": [],
   "source": [
    "# xTrainLR = xTrain[:,[1, 2, 3, 4, 18]]\n",
    "# xTestLR = xTest[:,[1, 2, 3, 4, 18]]\n",
    "\n",
    "# knn = KNeighborsClassifier(n_neighbors=20)\n",
    "# knn.fit(xTrainLR, yTrainDist)\n",
    "# probs = knn.predict_proba(xTestLR)\n",
    "# ids = ySampleIds.tolist()\n",
    "# probs = probs.tolist()\n",
    "\n",
    "# f = open(\"knnTestingTake4.txt\", \"w+\")\n",
    "# f.write(\"Unique Id,DIST\\n\")\n",
    "\n",
    "# for i in range(len(ids)):\n",
    "#     f.write(str(int(ids[i])) + \",\" + str(probs[i][1]) + \"\\n\")\n",
    "    \n",
    "# f.close()"
   ]
  },
  {
   "cell_type": "code",
   "execution_count": 45,
   "metadata": {},
   "outputs": [],
   "source": [
    "# xTrainLR = xTrain[:,[1,2,3, 4, 5, 6, 7, 8, 9, 26]]\n",
    "# xTestLR = xTest[:,[1,2,3, 4, 5, 6, 7, 8, 9, 26]]\n",
    "\n",
    "# knn = KNeighborsClassifier(n_neighbors=30)\n",
    "# knn.fit(xTrainLR, yTrainDist)\n",
    "# probs = knn.predict_proba(xTestLR)\n",
    "# ids = ySampleIds.tolist()\n",
    "# probs = probs.tolist()\n",
    "\n",
    "# f = open(\"knnTestingTake5.txt\", \"w+\")\n",
    "# f.write(\"Unique Id,DIST\\n\")\n",
    "\n",
    "# for i in range(len(ids)):\n",
    "#     f.write(str(int(ids[i])) + \",\" + str(probs[i][1]) + \"\\n\")\n",
    "    \n",
    "# f.close()"
   ]
  },
  {
   "cell_type": "markdown",
   "metadata": {},
   "source": [
    "# Best OverSampling Performer"
   ]
  },
  {
   "cell_type": "code",
   "execution_count": 46,
   "metadata": {},
   "outputs": [
    {
     "name": "stdout",
     "output_type": "stream",
     "text": [
      "(1194, 9)\n"
     ]
    }
   ],
   "source": [
    "xTrainBal, yTrainBal = sm.fit_sample(xTrainFirsts, yTrainDist.ravel())\n",
    "\n",
    "scale = StandardScaler().fit(xTrainBal)\n",
    "xTrainScaled = scale.transform(xTrainBal)\n",
    "xTestScaled = scale.transform(xTestFirsts)\n",
    "\n",
    "knn = KNeighborsClassifier(n_neighbors=20)\n",
    "knn.fit(xTrainScaled, yTrainBal)\n",
    "probs = knn.predict_proba(xTestFirsts)\n",
    "ids = xTestIds.tolist()\n",
    "probs = probs.tolist()\n",
    "\n",
    "f = open(\"knnTestingTake6.txt\", \"w+\")\n",
    "f.write(\"Unique Id,DIST\\n\")\n",
    "\n",
    "for i in range(len(ids)):\n",
    "    f.write(str(int(ids[i])) + \",\" + str(probs[i][1]) + \"\\n\")\n",
    "    \n",
    "f.close()"
   ]
  },
  {
   "cell_type": "code",
   "execution_count": null,
   "metadata": {},
   "outputs": [],
   "source": []
  }
 ],
 "metadata": {
  "kernelspec": {
   "display_name": "Python 3",
   "language": "python",
   "name": "python3"
  },
  "language_info": {
   "codemirror_mode": {
    "name": "ipython",
    "version": 3
   },
   "file_extension": ".py",
   "mimetype": "text/x-python",
   "name": "python",
   "nbconvert_exporter": "python",
   "pygments_lexer": "ipython3",
   "version": "3.7.4"
  }
 },
 "nbformat": 4,
 "nbformat_minor": 2
}
