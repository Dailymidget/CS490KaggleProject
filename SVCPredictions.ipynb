{
 "cells": [
  {
   "cell_type": "markdown",
   "metadata": {},
   "source": [
    "# Support Vector Classifier Testing"
   ]
  },
  {
   "cell_type": "code",
   "execution_count": 1,
   "metadata": {},
   "outputs": [],
   "source": [
    "import numpy as np # linear algebra\n",
    "import pandas as pd # data processing, CSV file I/O (e.g. pd.read_csv)\n",
    "import matplotlib.pyplot as plt\n",
    "from sklearn.model_selection import train_test_split\n",
    "from sklearn import svm\n",
    "from imblearn.over_sampling import SMOTE \n",
    "from imblearn.under_sampling import NearMiss \n",
    "from sklearn.preprocessing import StandardScaler\n",
    "from sklearn.metrics import confusion_matrix"
   ]
  },
  {
   "cell_type": "code",
   "execution_count": 2,
   "metadata": {},
   "outputs": [],
   "source": [
    "xTestData = np.genfromtxt(\"data/X_test.txt\", delimiter = None, skip_header=1)\n",
    "xTrainData = np.genfromtxt(\"data/X_train.txt\", delimiter = None, skip_header=1)\n",
    "yTrainData = np.genfromtxt(\"data/Y_train.txt\", delimiter = None, skip_header=1)"
   ]
  },
  {
   "cell_type": "code",
   "execution_count": 3,
   "metadata": {},
   "outputs": [],
   "source": [
    "xTrain, xVal, yTrain, yVal = train_test_split(xTrainData, yTrainData, test_size=0.25, shuffle = True)"
   ]
  },
  {
   "cell_type": "code",
   "execution_count": 4,
   "metadata": {},
   "outputs": [],
   "source": [
    "yTrainDist = yTrain[:, 1]\n",
    "yTrainZ = yTrain[:, 0]\n",
    "yValDist = yVal[:,1]\n",
    "yValZ = yVal[:,0]\n",
    "\n",
    "xTestIds = xTestData[:,0]\n",
    "\n",
    "#OverSampler\n",
    "sm = SMOTE(random_state = 2)\n",
    "\n",
    "#UnderSampler\n",
    "nr = NearMiss()"
   ]
  },
  {
   "cell_type": "markdown",
   "metadata": {},
   "source": [
    "**Helper method for printing Score for KNN(1-50 neighbors)**"
   ]
  },
  {
   "cell_type": "code",
   "execution_count": 5,
   "metadata": {},
   "outputs": [],
   "source": [
    "def printScores(xTrain, yTrain, xVal):\n",
    "    scale = StandardScaler().fit(xTrain)\n",
    "    xTrainScaled = scale.transform(xTrain)\n",
    "    xValScaled = scale.transform(xVal)\n",
    "\n",
    "    kernelTypes = [\"rbf\", \"linear\", \"poly\", \"sigmoid\"]\n",
    "    \n",
    "    for kType in kernelTypes:\n",
    "        svc = svm.SVC(kernel=kType, probability=True)\n",
    "        svc.fit(xTrainScaled, yTrain.ravel())\n",
    "#         perc = \"{:.2%}\".format(svc.score(xValScaled, yValDist))\n",
    "#         print( kType + \" score: \" + str(perc))\n",
    "        yPred = svc.predict(xVal)\n",
    "        print(kType + \":\\n\" + str(confusion_matrix(yValDist, yPred)))"
   ]
  },
  {
   "cell_type": "markdown",
   "metadata": {},
   "source": [
    "# All Features"
   ]
  },
  {
   "cell_type": "markdown",
   "metadata": {},
   "source": [
    "**Features**"
   ]
  },
  {
   "cell_type": "code",
   "execution_count": 6,
   "metadata": {},
   "outputs": [],
   "source": [
    "xTrainAll = xTrain[:, 1:35]\n",
    "xValAll = xVal[:, 1:35]\n",
    "xTestAll = xTestData[:, 1:35]"
   ]
  },
  {
   "cell_type": "markdown",
   "metadata": {},
   "source": [
    "**Unbalanced**"
   ]
  },
  {
   "cell_type": "code",
   "execution_count": 7,
   "metadata": {},
   "outputs": [
    {
     "name": "stdout",
     "output_type": "stream",
     "text": [
      "rbf:\n",
      "[[1133    0]\n",
      " [  61    0]]\n",
      "linear:\n",
      "[[1062   71]\n",
      " [  33   28]]\n",
      "poly:\n",
      "[[695 438]\n",
      " [ 52   9]]\n",
      "sigmoid:\n",
      "[[968 165]\n",
      " [ 31  30]]\n"
     ]
    }
   ],
   "source": [
    "printScores(xTrainAll, yTrainDist, xValAll)"
   ]
  },
  {
   "cell_type": "markdown",
   "metadata": {},
   "source": [
    "**OverSampling**"
   ]
  },
  {
   "cell_type": "code",
   "execution_count": 8,
   "metadata": {},
   "outputs": [
    {
     "name": "stdout",
     "output_type": "stream",
     "text": [
      "rbf:\n",
      "[[1133    0]\n",
      " [  61    0]]\n",
      "linear:\n",
      "[[931 202]\n",
      " [ 17  44]]\n",
      "poly:\n",
      "[[1047   86]\n",
      " [  28   33]]\n",
      "sigmoid:\n",
      "[[  12 1121]\n",
      " [   3   58]]\n"
     ]
    }
   ],
   "source": [
    "xTrainBal, yTrainBal = sm.fit_sample(xTrainAll, yTrainDist.ravel())\n",
    "\n",
    "printScores(xTrainBal, yTrainBal, xValAll)"
   ]
  },
  {
   "cell_type": "markdown",
   "metadata": {},
   "source": [
    "**UnderSampling**"
   ]
  },
  {
   "cell_type": "code",
   "execution_count": 9,
   "metadata": {},
   "outputs": [
    {
     "name": "stdout",
     "output_type": "stream",
     "text": [
      "rbf:\n",
      "[[   0 1133]\n",
      " [   0   61]]\n",
      "linear:\n",
      "[[   0 1133]\n",
      " [   1   60]]\n",
      "poly:\n",
      "[[  15 1118]\n",
      " [   3   58]]\n",
      "sigmoid:\n",
      "[[   2 1131]\n",
      " [   1   60]]\n"
     ]
    }
   ],
   "source": [
    "xTrainBal, yTrainBal = nr.fit_sample(xTrainAll, yTrainDist.ravel())\n",
    "\n",
    "printScores(xTrainBal, yTrainBal, xValAll)"
   ]
  },
  {
   "cell_type": "markdown",
   "metadata": {},
   "source": [
    "# All first Features of each Category"
   ]
  },
  {
   "cell_type": "markdown",
   "metadata": {},
   "source": [
    "**Features**"
   ]
  },
  {
   "cell_type": "code",
   "execution_count": 10,
   "metadata": {},
   "outputs": [],
   "source": [
    "xTrainFirsts = xTrain[:,[1,2,3, 4, 10, 20, 23, 27,30]]\n",
    "xValFirsts = xVal[:,[1,2,3, 4, 10, 20, 23, 27,30]]\n",
    "xTestFirsts = xTestData[:,[1,2,3, 4, 10, 20, 23, 27,30]]"
   ]
  },
  {
   "cell_type": "markdown",
   "metadata": {},
   "source": [
    "**Unbalanced Data**"
   ]
  },
  {
   "cell_type": "code",
   "execution_count": 11,
   "metadata": {},
   "outputs": [
    {
     "name": "stdout",
     "output_type": "stream",
     "text": [
      "rbf:\n",
      "[[1133    0]\n",
      " [  61    0]]\n",
      "linear:\n",
      "[[1133    0]\n",
      " [  56    5]]\n",
      "poly:\n",
      "[[1112   21]\n",
      " [  45   16]]\n",
      "sigmoid:\n",
      "[[1130    3]\n",
      " [  61    0]]\n"
     ]
    }
   ],
   "source": [
    "printScores(xTrainFirsts, yTrainDist, xValFirsts)"
   ]
  },
  {
   "cell_type": "markdown",
   "metadata": {},
   "source": [
    "**OverSampling**"
   ]
  },
  {
   "cell_type": "code",
   "execution_count": 12,
   "metadata": {},
   "outputs": [
    {
     "name": "stdout",
     "output_type": "stream",
     "text": [
      "rbf:\n",
      "[[1133    0]\n",
      " [  61    0]]\n",
      "linear:\n",
      "[[1097   36]\n",
      " [  10   51]]\n",
      "poly:\n",
      "[[1132    1]\n",
      " [  57    4]]\n",
      "sigmoid:\n",
      "[[ 111 1022]\n",
      " [   2   59]]\n"
     ]
    }
   ],
   "source": [
    "xTrainBal, yTrainBal = sm.fit_sample(xTrainFirsts, yTrainDist.ravel())\n",
    "\n",
    "printScores(xTrainBal, yTrainBal, xValFirsts)"
   ]
  },
  {
   "cell_type": "markdown",
   "metadata": {},
   "source": [
    "**UnderSampling**"
   ]
  },
  {
   "cell_type": "code",
   "execution_count": 13,
   "metadata": {},
   "outputs": [
    {
     "name": "stdout",
     "output_type": "stream",
     "text": [
      "rbf:\n",
      "[[   0 1133]\n",
      " [   0   61]]\n",
      "linear:\n",
      "[[  34 1099]\n",
      " [   0   61]]\n",
      "poly:\n",
      "[[ 124 1009]\n",
      " [   0   61]]\n",
      "sigmoid:\n",
      "[[1133    0]\n",
      " [  61    0]]\n"
     ]
    }
   ],
   "source": [
    "xTrainBal, yTrainBal = nr.fit_sample(xTrainFirsts, yTrainDist.ravel())\n",
    "\n",
    "printScores(xTrainBal, yTrainBal, xValFirsts)"
   ]
  },
  {
   "cell_type": "markdown",
   "metadata": {},
   "source": [
    "# All second Features of each Category"
   ]
  },
  {
   "cell_type": "markdown",
   "metadata": {},
   "source": [
    "**Features**"
   ]
  },
  {
   "cell_type": "code",
   "execution_count": 14,
   "metadata": {},
   "outputs": [],
   "source": [
    "xTrainSeconds = xTrain[:,[1,2,3, 5, 11, 21, 24, 28,31]]\n",
    "xValSeconds = xVal[:,[1,2,3, 5, 11, 21, 24, 28,31]]"
   ]
  },
  {
   "cell_type": "markdown",
   "metadata": {},
   "source": [
    "**Unbalanced**"
   ]
  },
  {
   "cell_type": "code",
   "execution_count": 15,
   "metadata": {},
   "outputs": [
    {
     "name": "stdout",
     "output_type": "stream",
     "text": [
      "rbf:\n",
      "[[1133    0]\n",
      " [  61    0]]\n",
      "linear:\n",
      "[[794 339]\n",
      " [ 50  11]]\n",
      "poly:\n",
      "[[1059   74]\n",
      " [  47   14]]\n",
      "sigmoid:\n",
      "[[440 693]\n",
      " [ 27  34]]\n"
     ]
    }
   ],
   "source": [
    "printScores(xTrainSeconds, yTrainDist, xValSeconds)"
   ]
  },
  {
   "cell_type": "markdown",
   "metadata": {},
   "source": [
    "**OverSampling**"
   ]
  },
  {
   "cell_type": "code",
   "execution_count": 16,
   "metadata": {},
   "outputs": [
    {
     "name": "stdout",
     "output_type": "stream",
     "text": [
      "rbf:\n",
      "[[1133    0]\n",
      " [  61    0]]\n",
      "linear:\n",
      "[[  83 1050]\n",
      " [  11   50]]\n",
      "poly:\n",
      "[[1052   81]\n",
      " [  50   11]]\n",
      "sigmoid:\n",
      "[[  52 1081]\n",
      " [   9   52]]\n"
     ]
    }
   ],
   "source": [
    "xTrainBal, yTrainBal = sm.fit_sample(xTrainSeconds, yTrainDist.ravel())\n",
    "\n",
    "printScores(xTrainBal, yTrainBal, xValSeconds)"
   ]
  },
  {
   "cell_type": "markdown",
   "metadata": {},
   "source": [
    "**UnderSampling**"
   ]
  },
  {
   "cell_type": "code",
   "execution_count": 17,
   "metadata": {},
   "outputs": [
    {
     "name": "stdout",
     "output_type": "stream",
     "text": [
      "rbf:\n",
      "[[   0 1133]\n",
      " [   0   61]]\n",
      "linear:\n",
      "[[  35 1098]\n",
      " [   7   54]]\n",
      "poly:\n",
      "[[  23 1110]\n",
      " [   0   61]]\n",
      "sigmoid:\n",
      "[[1133    0]\n",
      " [  61    0]]\n"
     ]
    }
   ],
   "source": [
    "xTrainBal, yTrainBal = nr.fit_sample(xTrainSeconds, yTrainDist.ravel())\n",
    "\n",
    "printScores(xTrainBal, yTrainBal, xValSeconds)"
   ]
  },
  {
   "cell_type": "markdown",
   "metadata": {},
   "source": [
    "# All third features of each Category"
   ]
  },
  {
   "cell_type": "markdown",
   "metadata": {},
   "source": [
    "**Features**"
   ]
  },
  {
   "cell_type": "code",
   "execution_count": 18,
   "metadata": {},
   "outputs": [],
   "source": [
    "xTrainThirds = xTrain[:,[1,2,3, 6, 12, 22, 25, 29,32]]\n",
    "xValThirds = xVal[:,[1,2,3, 6, 12, 22, 25, 29,32]]"
   ]
  },
  {
   "cell_type": "markdown",
   "metadata": {},
   "source": [
    "**Unbalanced**"
   ]
  },
  {
   "cell_type": "code",
   "execution_count": 19,
   "metadata": {},
   "outputs": [
    {
     "name": "stdout",
     "output_type": "stream",
     "text": [
      "rbf:\n",
      "[[1133    0]\n",
      " [  61    0]]\n",
      "linear:\n",
      "[[1133    0]\n",
      " [  61    0]]\n",
      "poly:\n",
      "[[  58 1075]\n",
      " [  33   28]]\n",
      "sigmoid:\n",
      "[[1132    1]\n",
      " [  61    0]]\n"
     ]
    }
   ],
   "source": [
    "printScores(xTrainThirds, yTrainDist, xValThirds)"
   ]
  },
  {
   "cell_type": "markdown",
   "metadata": {},
   "source": [
    "**OverSampling**"
   ]
  },
  {
   "cell_type": "code",
   "execution_count": 20,
   "metadata": {},
   "outputs": [
    {
     "name": "stdout",
     "output_type": "stream",
     "text": [
      "rbf:\n",
      "[[1133    0]\n",
      " [  61    0]]\n",
      "linear:\n",
      "[[1133    0]\n",
      " [  61    0]]\n",
      "poly:\n",
      "[[1133    0]\n",
      " [  60    1]]\n",
      "sigmoid:\n",
      "[[1130    3]\n",
      " [  55    6]]\n"
     ]
    }
   ],
   "source": [
    "xTrainBal, yTrainBal = sm.fit_sample(xTrainThirds, yTrainDist.ravel())\n",
    "\n",
    "printScores(xTrainBal, yTrainBal, xValThirds)"
   ]
  },
  {
   "cell_type": "markdown",
   "metadata": {},
   "source": [
    "**UnderSampling**"
   ]
  },
  {
   "cell_type": "code",
   "execution_count": 21,
   "metadata": {},
   "outputs": [
    {
     "name": "stdout",
     "output_type": "stream",
     "text": [
      "rbf:\n",
      "[[   0 1133]\n",
      " [   0   61]]\n",
      "linear:\n",
      "[[   0 1133]\n",
      " [   2   59]]\n",
      "poly:\n",
      "[[1126    7]\n",
      " [  55    6]]\n",
      "sigmoid:\n",
      "[[   1 1132]\n",
      " [   1   60]]\n"
     ]
    }
   ],
   "source": [
    "xTrainBal, yTrainBal = nr.fit_sample(xTrainThirds, yTrainDist.ravel())\n",
    "\n",
    "printScores(xTrainBal, yTrainBal, xValThirds)"
   ]
  },
  {
   "cell_type": "markdown",
   "metadata": {},
   "source": [
    "# Controls and Liquidity Ratios"
   ]
  },
  {
   "cell_type": "markdown",
   "metadata": {},
   "source": [
    "**Features**"
   ]
  },
  {
   "cell_type": "code",
   "execution_count": 22,
   "metadata": {},
   "outputs": [],
   "source": [
    "xTrainLR = xTrain[:,[1,2,3, 4, 5, 6, 7, 8,9]]\n",
    "xValLR = xVal[:,[1,2,3, 4, 5, 6, 7, 8,9]]"
   ]
  },
  {
   "cell_type": "markdown",
   "metadata": {},
   "source": [
    "**Unbalanced**"
   ]
  },
  {
   "cell_type": "code",
   "execution_count": 23,
   "metadata": {},
   "outputs": [
    {
     "name": "stdout",
     "output_type": "stream",
     "text": [
      "rbf:\n",
      "[[1133    0]\n",
      " [  61    0]]\n",
      "linear:\n",
      "[[1133    0]\n",
      " [  61    0]]\n",
      "poly:\n",
      "[[413 720]\n",
      " [  5  56]]\n",
      "sigmoid:\n",
      "[[1132    1]\n",
      " [  60    1]]\n"
     ]
    }
   ],
   "source": [
    "printScores(xTrainLR, yTrainDist, xValLR)"
   ]
  },
  {
   "cell_type": "markdown",
   "metadata": {},
   "source": [
    "**OverSampling**"
   ]
  },
  {
   "cell_type": "code",
   "execution_count": 24,
   "metadata": {},
   "outputs": [
    {
     "name": "stdout",
     "output_type": "stream",
     "text": [
      "rbf:\n",
      "[[1133    0]\n",
      " [  61    0]]\n",
      "linear:\n",
      "[[1133    0]\n",
      " [  61    0]]\n",
      "poly:\n",
      "[[917 216]\n",
      " [ 19  42]]\n",
      "sigmoid:\n",
      "[[1121   12]\n",
      " [  61    0]]\n"
     ]
    }
   ],
   "source": [
    "xTrainBal, yTrainBal = sm.fit_sample(xTrainLR, yTrainDist.ravel())\n",
    "\n",
    "printScores(xTrainBal, yTrainBal, xValLR)"
   ]
  },
  {
   "cell_type": "markdown",
   "metadata": {},
   "source": [
    "**UnderSampling**"
   ]
  },
  {
   "cell_type": "code",
   "execution_count": 25,
   "metadata": {},
   "outputs": [
    {
     "name": "stdout",
     "output_type": "stream",
     "text": [
      "rbf:\n",
      "[[   0 1133]\n",
      " [   0   61]]\n",
      "linear:\n",
      "[[1133    0]\n",
      " [  61    0]]\n",
      "poly:\n",
      "[[   2 1131]\n",
      " [   0   61]]\n",
      "sigmoid:\n",
      "[[1133    0]\n",
      " [  61    0]]\n"
     ]
    }
   ],
   "source": [
    "xTrainBal, yTrainBal = nr.fit_sample(xTrainLR, yTrainDist.ravel())\n",
    "\n",
    "printScores(xTrainBal, yTrainBal, xValLR)"
   ]
  },
  {
   "cell_type": "markdown",
   "metadata": {},
   "source": [
    "# Controls and Profitability Ratios"
   ]
  },
  {
   "cell_type": "markdown",
   "metadata": {},
   "source": [
    "**Features**"
   ]
  },
  {
   "cell_type": "code",
   "execution_count": 26,
   "metadata": {},
   "outputs": [],
   "source": [
    "xTrainPR = xTrain[:,[1, 2, 3, 10, 11, 12, 13, 14, 15, 16, 17, 18, 19]]\n",
    "xValPR = xVal[:,[1, 2, 3, 10, 11, 12, 13, 14, 15, 16, 17, 18, 19]]"
   ]
  },
  {
   "cell_type": "markdown",
   "metadata": {},
   "source": [
    "**Unbalanced**"
   ]
  },
  {
   "cell_type": "code",
   "execution_count": 27,
   "metadata": {},
   "outputs": [
    {
     "name": "stdout",
     "output_type": "stream",
     "text": [
      "rbf:\n",
      "[[1133    0]\n",
      " [  61    0]]\n",
      "linear:\n",
      "[[1133    0]\n",
      " [  61    0]]\n",
      "poly:\n",
      "[[  33 1100]\n",
      " [   4   57]]\n",
      "sigmoid:\n",
      "[[1133    0]\n",
      " [  59    2]]\n"
     ]
    }
   ],
   "source": [
    "printScores(xTrainPR, yTrainDist, xValPR)"
   ]
  },
  {
   "cell_type": "markdown",
   "metadata": {},
   "source": [
    "**OverSampling**"
   ]
  },
  {
   "cell_type": "code",
   "execution_count": 28,
   "metadata": {},
   "outputs": [
    {
     "name": "stdout",
     "output_type": "stream",
     "text": [
      "rbf:\n",
      "[[1133    0]\n",
      " [  61    0]]\n",
      "linear:\n",
      "[[1133    0]\n",
      " [  59    2]]\n",
      "poly:\n",
      "[[  16 1117]\n",
      " [   1   60]]\n",
      "sigmoid:\n",
      "[[  87 1046]\n",
      " [  10   51]]\n"
     ]
    }
   ],
   "source": [
    "xTrainBal, yTrainBal = sm.fit_sample(xTrainPR, yTrainDist.ravel())\n",
    "\n",
    "printScores(xTrainBal, yTrainBal, xValPR)"
   ]
  },
  {
   "cell_type": "markdown",
   "metadata": {},
   "source": [
    "**UnderSampling**"
   ]
  },
  {
   "cell_type": "code",
   "execution_count": 29,
   "metadata": {},
   "outputs": [
    {
     "name": "stdout",
     "output_type": "stream",
     "text": [
      "rbf:\n",
      "[[   0 1133]\n",
      " [   0   61]]\n",
      "linear:\n",
      "[[  23 1110]\n",
      " [   0   61]]\n",
      "poly:\n",
      "[[   0 1133]\n",
      " [   1   60]]\n",
      "sigmoid:\n",
      "[[  23 1110]\n",
      " [   0   61]]\n"
     ]
    }
   ],
   "source": [
    "xTrainBal, yTrainBal = nr.fit_sample(xTrainPR, yTrainDist.ravel())\n",
    "\n",
    "printScores(xTrainBal, yTrainBal, xValPR)"
   ]
  },
  {
   "cell_type": "markdown",
   "metadata": {},
   "source": [
    "# Controls and Profitability Ratios Booleans"
   ]
  },
  {
   "cell_type": "code",
   "execution_count": 30,
   "metadata": {},
   "outputs": [],
   "source": [
    "xTrainPRB = xTrain[:,[1, 2, 3, 13, 14, 15, 16, 19]]\n",
    "xValPRB = xVal[:,[1, 2, 3, 13, 14, 15, 16, 19]]"
   ]
  },
  {
   "cell_type": "markdown",
   "metadata": {},
   "source": [
    "**Unbalanced**"
   ]
  },
  {
   "cell_type": "code",
   "execution_count": 31,
   "metadata": {},
   "outputs": [
    {
     "name": "stdout",
     "output_type": "stream",
     "text": [
      "rbf:\n",
      "[[1133    0]\n",
      " [  61    0]]\n",
      "linear:\n",
      "[[1133    0]\n",
      " [  61    0]]\n",
      "poly:\n",
      "[[ 130 1003]\n",
      " [  14   47]]\n",
      "sigmoid:\n",
      "[[1133    0]\n",
      " [  59    2]]\n"
     ]
    }
   ],
   "source": [
    "printScores(xTrainPRB, yTrainDist, xValPRB)"
   ]
  },
  {
   "cell_type": "markdown",
   "metadata": {},
   "source": [
    "**OverSampling**"
   ]
  },
  {
   "cell_type": "code",
   "execution_count": 32,
   "metadata": {},
   "outputs": [
    {
     "name": "stdout",
     "output_type": "stream",
     "text": [
      "rbf:\n",
      "[[1133    0]\n",
      " [  61    0]]\n",
      "linear:\n",
      "[[1133    0]\n",
      " [  57    4]]\n",
      "poly:\n",
      "[[   0 1133]\n",
      " [   1   60]]\n",
      "sigmoid:\n",
      "[[   3 1130]\n",
      " [   4   57]]\n"
     ]
    }
   ],
   "source": [
    "xTrainBal, yTrainBal = sm.fit_sample(xTrainPRB, yTrainDist.ravel())\n",
    "\n",
    "printScores(xTrainBal, yTrainBal, xValPRB)"
   ]
  },
  {
   "cell_type": "markdown",
   "metadata": {},
   "source": [
    "**UnderSampling**"
   ]
  },
  {
   "cell_type": "code",
   "execution_count": 33,
   "metadata": {},
   "outputs": [
    {
     "name": "stdout",
     "output_type": "stream",
     "text": [
      "rbf:\n",
      "[[   0 1133]\n",
      " [   0   61]]\n",
      "linear:\n",
      "[[   7 1126]\n",
      " [   0   61]]\n",
      "poly:\n",
      "[[   0 1133]\n",
      " [   1   60]]\n",
      "sigmoid:\n",
      "[[778 355]\n",
      " [ 36  25]]\n"
     ]
    }
   ],
   "source": [
    "xTrainBal, yTrainBal = nr.fit_sample(xTrainPRB, yTrainDist.ravel())\n",
    "\n",
    "printScores(xTrainBal, yTrainBal, xValPRB)"
   ]
  },
  {
   "cell_type": "markdown",
   "metadata": {},
   "source": [
    "# Controls and Profitability Ratios Non-Boolean"
   ]
  },
  {
   "cell_type": "code",
   "execution_count": 34,
   "metadata": {},
   "outputs": [],
   "source": [
    "xTrainPRNB = xTrain[:,[1, 2, 3, 10, 11, 12, 17, 18]]\n",
    "xValPRNB = xVal[:,[1, 2, 3, 10, 11, 12, 17, 18]]"
   ]
  },
  {
   "cell_type": "markdown",
   "metadata": {},
   "source": [
    "**Unbalanced**"
   ]
  },
  {
   "cell_type": "code",
   "execution_count": 35,
   "metadata": {},
   "outputs": [
    {
     "name": "stdout",
     "output_type": "stream",
     "text": [
      "rbf:\n",
      "[[1133    0]\n",
      " [  61    0]]\n",
      "linear:\n",
      "[[1133    0]\n",
      " [  61    0]]\n",
      "poly:\n",
      "[[ 130 1003]\n",
      " [  14   47]]\n",
      "sigmoid:\n",
      "[[1133    0]\n",
      " [  59    2]]\n"
     ]
    }
   ],
   "source": [
    "printScores(xTrainPRB, yTrainDist, xValPRB)"
   ]
  },
  {
   "cell_type": "markdown",
   "metadata": {},
   "source": [
    "**OverSampling**"
   ]
  },
  {
   "cell_type": "code",
   "execution_count": 36,
   "metadata": {},
   "outputs": [
    {
     "name": "stdout",
     "output_type": "stream",
     "text": [
      "rbf:\n",
      "[[1133    0]\n",
      " [  61    0]]\n",
      "linear:\n",
      "[[1133    0]\n",
      " [  61    0]]\n",
      "poly:\n",
      "[[   6 1127]\n",
      " [   0   61]]\n",
      "sigmoid:\n",
      "[[  25 1108]\n",
      " [  11   50]]\n"
     ]
    }
   ],
   "source": [
    "xTrainBal, yTrainBal = sm.fit_sample(xTrainPRNB, yTrainDist.ravel())\n",
    "\n",
    "printScores(xTrainBal, yTrainBal, xValPRNB)"
   ]
  },
  {
   "cell_type": "markdown",
   "metadata": {},
   "source": [
    "**UnderSampling**"
   ]
  },
  {
   "cell_type": "code",
   "execution_count": 37,
   "metadata": {},
   "outputs": [
    {
     "name": "stdout",
     "output_type": "stream",
     "text": [
      "rbf:\n",
      "[[   0 1133]\n",
      " [   0   61]]\n",
      "linear:\n",
      "[[   0 1133]\n",
      " [   0   61]]\n",
      "poly:\n",
      "[[   0 1133]\n",
      " [   0   61]]\n",
      "sigmoid:\n",
      "[[1060   73]\n",
      " [  37   24]]\n"
     ]
    }
   ],
   "source": [
    "xTrainBal, yTrainBal = nr.fit_sample(xTrainPRNB, yTrainDist.ravel())\n",
    "\n",
    "printScores(xTrainBal, yTrainBal, xValPRNB)"
   ]
  },
  {
   "cell_type": "markdown",
   "metadata": {},
   "source": [
    "# Constants and Capital Structure"
   ]
  },
  {
   "cell_type": "markdown",
   "metadata": {},
   "source": [
    "**Features**"
   ]
  },
  {
   "cell_type": "code",
   "execution_count": 38,
   "metadata": {},
   "outputs": [],
   "source": [
    "xTrainCS = xTrain[:,[1, 2, 3, 20, 21, 22]]\n",
    "xValCS = xVal[:,[1, 2, 3, 20, 21, 22]]"
   ]
  },
  {
   "cell_type": "markdown",
   "metadata": {},
   "source": [
    "**Unbalanced**"
   ]
  },
  {
   "cell_type": "code",
   "execution_count": 39,
   "metadata": {},
   "outputs": [
    {
     "name": "stdout",
     "output_type": "stream",
     "text": [
      "rbf:\n",
      "[[1133    0]\n",
      " [  61    0]]\n",
      "linear:\n",
      "[[1133    0]\n",
      " [  60    1]]\n",
      "poly:\n",
      "[[170 963]\n",
      " [ 30  31]]\n",
      "sigmoid:\n",
      "[[1127    6]\n",
      " [  52    9]]\n"
     ]
    }
   ],
   "source": [
    "printScores(xTrainCS, yTrainDist, xValCS)"
   ]
  },
  {
   "cell_type": "markdown",
   "metadata": {},
   "source": [
    "**OverSampling**"
   ]
  },
  {
   "cell_type": "code",
   "execution_count": 40,
   "metadata": {},
   "outputs": [
    {
     "name": "stdout",
     "output_type": "stream",
     "text": [
      "rbf:\n",
      "[[1133    0]\n",
      " [  61    0]]\n",
      "linear:\n",
      "[[1131    2]\n",
      " [  55    6]]\n",
      "poly:\n",
      "[[  17 1116]\n",
      " [   6   55]]\n",
      "sigmoid:\n",
      "[[   1 1132]\n",
      " [   7   54]]\n"
     ]
    }
   ],
   "source": [
    "xTrainBal, yTrainBal = sm.fit_sample(xTrainCS, yTrainDist.ravel())\n",
    "\n",
    "printScores(xTrainBal, yTrainBal, xValCS)"
   ]
  },
  {
   "cell_type": "markdown",
   "metadata": {},
   "source": [
    "**UnderSampling**"
   ]
  },
  {
   "cell_type": "code",
   "execution_count": 41,
   "metadata": {},
   "outputs": [
    {
     "name": "stdout",
     "output_type": "stream",
     "text": [
      "rbf:\n",
      "[[   0 1133]\n",
      " [   0   61]]\n",
      "linear:\n",
      "[[1104   29]\n",
      " [  33   28]]\n",
      "poly:\n",
      "[[   8 1125]\n",
      " [   2   59]]\n",
      "sigmoid:\n",
      "[[1130    3]\n",
      " [  58    3]]\n"
     ]
    }
   ],
   "source": [
    "xTrainBal, yTrainBal = nr.fit_sample(xTrainCS, yTrainDist.ravel())\n",
    "\n",
    "printScores(xTrainBal, yTrainBal, xValCS)"
   ]
  },
  {
   "cell_type": "markdown",
   "metadata": {},
   "source": [
    "# New Tests 4/20/2020"
   ]
  },
  {
   "cell_type": "markdown",
   "metadata": {},
   "source": [
    "**Features**"
   ]
  },
  {
   "cell_type": "code",
   "execution_count": 42,
   "metadata": {},
   "outputs": [],
   "source": [
    "xTrainNT = xTrain[:,[1,2,3, 4, 5, 6, 7, 8,9,26]]\n",
    "xValNT = xVal[:,[1,2,3, 4, 5, 6, 7, 8,9,26]]\n",
    "xTestNT = xTestData[:,[1,2,3, 4, 5, 6, 7, 8,9,26]]"
   ]
  },
  {
   "cell_type": "markdown",
   "metadata": {},
   "source": [
    "**Unbalanced**"
   ]
  },
  {
   "cell_type": "code",
   "execution_count": 43,
   "metadata": {},
   "outputs": [
    {
     "name": "stdout",
     "output_type": "stream",
     "text": [
      "rbf:\n",
      "[[1133    0]\n",
      " [  61    0]]\n",
      "linear:\n",
      "[[1133    0]\n",
      " [  61    0]]\n",
      "poly:\n",
      "[[626 507]\n",
      " [ 10  51]]\n",
      "sigmoid:\n",
      "[[1060   73]\n",
      " [  60    1]]\n"
     ]
    }
   ],
   "source": [
    "printScores(xTrainNT, yTrainDist, xValNT)"
   ]
  },
  {
   "cell_type": "markdown",
   "metadata": {},
   "source": [
    "**OverSampling**"
   ]
  },
  {
   "cell_type": "code",
   "execution_count": 44,
   "metadata": {},
   "outputs": [
    {
     "name": "stdout",
     "output_type": "stream",
     "text": [
      "rbf:\n",
      "[[1133    0]\n",
      " [  61    0]]\n",
      "linear:\n",
      "[[1131    2]\n",
      " [  59    2]]\n",
      "poly:\n",
      "[[1133    0]\n",
      " [  61    0]]\n",
      "sigmoid:\n",
      "[[1118   15]\n",
      " [  61    0]]\n"
     ]
    }
   ],
   "source": [
    "xTrainBal, yTrainBal = sm.fit_sample(xTrainNT, yTrainDist.ravel())\n",
    "\n",
    "printScores(xTrainBal, yTrainBal, xValNT)"
   ]
  },
  {
   "cell_type": "markdown",
   "metadata": {},
   "source": [
    "**UnderSampling**"
   ]
  },
  {
   "cell_type": "code",
   "execution_count": 45,
   "metadata": {},
   "outputs": [
    {
     "name": "stdout",
     "output_type": "stream",
     "text": [
      "rbf:\n",
      "[[   0 1133]\n",
      " [   0   61]]\n",
      "linear:\n",
      "[[1085   48]\n",
      " [  38   23]]\n",
      "poly:\n",
      "[[  17 1116]\n",
      " [   0   61]]\n",
      "sigmoid:\n",
      "[[1131    2]\n",
      " [  60    1]]\n"
     ]
    }
   ],
   "source": [
    "xTrainBal, yTrainBal = nr.fit_sample(xTrainNT, yTrainDist.ravel())\n",
    "\n",
    "printScores(xTrainBal, yTrainBal, xValNT)"
   ]
  },
  {
   "cell_type": "markdown",
   "metadata": {},
   "source": [
    "# Best UnderSampling Performer"
   ]
  },
  {
   "cell_type": "code",
   "execution_count": 46,
   "metadata": {},
   "outputs": [],
   "source": [
    "# xTrainBal, yTrainBal = nr.fit_sample(xTrainNT, yTrainDist.ravel())\n",
    "\n",
    "# scale = StandardScaler().fit(xTrainBal)\n",
    "# xTrainScaled = scale.transform(xTrainBal)\n",
    "# xTestScaled = scale.transform(xTestNT)\n",
    "\n",
    "# svc = svm.SVC(kernel=\"poly\", probability=True)\n",
    "# svc.fit(xTrainScaled, yTrainBal)\n",
    "# probs = svc.predict_proba(xTestScaled)\n",
    "# ids = xTestIds.tolist()\n",
    "# probs = probs.tolist()\n",
    "\n",
    "# f = open(\"SVCTake1.txt\", \"w+\")\n",
    "# f.write(\"Unique Id,DIST\\n\")\n",
    "\n",
    "# for i in range(len(ids)):\n",
    "#     f.write(str(int(ids[i])) + \",\" + str(probs[i][1]) + \"\\n\")\n",
    "    \n",
    "# f.close()"
   ]
  },
  {
   "cell_type": "code",
   "execution_count": 47,
   "metadata": {},
   "outputs": [],
   "source": [
    "# xTrainBal, yTrainBal = sm.fit_sample(xTrainNT, yTrainDist.ravel())\n",
    "\n",
    "# scale = StandardScaler().fit(xTrainBal)\n",
    "# xTrainScaled = scale.transform(xTrainBal)\n",
    "# xTestScaled = scale.transform(xTestNT)\n",
    "\n",
    "# svc = svm.SVC(kernel=\"poly\", probability=True)\n",
    "# svc.fit(xTrainScaled, yTrainBal)\n",
    "# probs = svc.predict_proba(xTestScaled)\n",
    "# ids = xTestIds.tolist()\n",
    "# probs = probs.tolist()\n",
    "\n",
    "# f = open(\"SVCTake2.txt\", \"w+\")\n",
    "# f.write(\"Unique Id,DIST\\n\")\n",
    "\n",
    "# for i in range(len(ids)):\n",
    "#     f.write(str(int(ids[i])) + \",\" + str(probs[i][1]) + \"\\n\")\n",
    "    \n",
    "# f.close()"
   ]
  },
  {
   "cell_type": "code",
   "execution_count": 48,
   "metadata": {},
   "outputs": [
    {
     "ename": "NameError",
     "evalue": "name 'f' is not defined",
     "output_type": "error",
     "traceback": [
      "\u001b[0;31m---------------------------------------------------------------------------\u001b[0m",
      "\u001b[0;31mNameError\u001b[0m                                 Traceback (most recent call last)",
      "\u001b[0;32m<ipython-input-48-da9d89ebc2ae>\u001b[0m in \u001b[0;36m<module>\u001b[0;34m\u001b[0m\n\u001b[1;32m     17\u001b[0m \u001b[0;31m#     f.write(str(int(ids[i])) + \",\" + str(probs[i][1]) + \"\\n\")\u001b[0m\u001b[0;34m\u001b[0m\u001b[0;34m\u001b[0m\u001b[0;34m\u001b[0m\u001b[0m\n\u001b[1;32m     18\u001b[0m \u001b[0;34m\u001b[0m\u001b[0m\n\u001b[0;32m---> 19\u001b[0;31m \u001b[0mf\u001b[0m\u001b[0;34m.\u001b[0m\u001b[0mclose\u001b[0m\u001b[0;34m(\u001b[0m\u001b[0;34m)\u001b[0m\u001b[0;34m\u001b[0m\u001b[0;34m\u001b[0m\u001b[0m\n\u001b[0m",
      "\u001b[0;31mNameError\u001b[0m: name 'f' is not defined"
     ]
    }
   ],
   "source": [
    "# xTrainBal, yTrainBal = sm.fit_sample(xTrainNT, yTrainDist.ravel())\n",
    "\n",
    "# scale = StandardScaler().fit(xTrainBal)\n",
    "# xTrainScaled = scale.transform(xTrainBal)\n",
    "# xTestScaled = scale.transform(xTestNT)\n",
    "\n",
    "# svc = svm.SVC(kernel=\"linear\", probability=True)\n",
    "# svc.fit(xTrainScaled, yTrainBal)\n",
    "# probs = svc.predict_proba(xTestScaled)\n",
    "# ids = xTestIds.tolist()\n",
    "# probs = probs.tolist()\n",
    "\n",
    "# f = open(\"SVCTake2Extra.txt\", \"w+\")\n",
    "# f.write(\"Unique Id,DIST\\n\")\n",
    "\n",
    "# for i in range(len(ids)):\n",
    "#     f.write(str(int(ids[i])) + \",\" + str(probs[i][1]) + \"\\n\")\n",
    "    \n",
    "# f.close()"
   ]
  },
  {
   "cell_type": "code",
   "execution_count": null,
   "metadata": {},
   "outputs": [],
   "source": []
  }
 ],
 "metadata": {
  "kernelspec": {
   "display_name": "Python 3",
   "language": "python",
   "name": "python3"
  },
  "language_info": {
   "codemirror_mode": {
    "name": "ipython",
    "version": 3
   },
   "file_extension": ".py",
   "mimetype": "text/x-python",
   "name": "python",
   "nbconvert_exporter": "python",
   "pygments_lexer": "ipython3",
   "version": "3.7.4"
  }
 },
 "nbformat": 4,
 "nbformat_minor": 2
}
