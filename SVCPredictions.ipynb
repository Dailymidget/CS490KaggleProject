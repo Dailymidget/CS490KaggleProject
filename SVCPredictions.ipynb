{
 "cells": [
  {
   "cell_type": "markdown",
   "metadata": {},
   "source": [
    "# Support Vector Classifier Testing"
   ]
  },
  {
   "cell_type": "code",
   "execution_count": 1,
   "metadata": {},
   "outputs": [],
   "source": [
    "import numpy as np # linear algebra\n",
    "import pandas as pd # data processing, CSV file I/O (e.g. pd.read_csv)\n",
    "import matplotlib.pyplot as plt\n",
    "from sklearn.model_selection import train_test_split\n",
    "from sklearn import svm\n",
    "from imblearn.over_sampling import SMOTE \n",
    "from imblearn.under_sampling import NearMiss \n",
    "from sklearn.preprocessing import StandardScaler "
   ]
  },
  {
   "cell_type": "code",
   "execution_count": 77,
   "metadata": {},
   "outputs": [],
   "source": [
    "xTestData = np.genfromtxt(\"data/X_test.txt\", delimiter = None, skip_header=1)\n",
    "xTrainData = np.genfromtxt(\"data/X_train.txt\", delimiter = None, skip_header=1)\n",
    "yTrainData = np.genfromtxt(\"data/Y_train.txt\", delimiter = None, skip_header=1)"
   ]
  },
  {
   "cell_type": "code",
   "execution_count": 79,
   "metadata": {},
   "outputs": [],
   "source": [
    "xTrain, xVal, yTrain, yVal = train_test_split(xTrainData, yTrainData, test_size=0.25, shuffle = True)"
   ]
  },
  {
   "cell_type": "code",
   "execution_count": 80,
   "metadata": {},
   "outputs": [],
   "source": [
    "yTrainDist = yTrain[:, 1]\n",
    "yTrainZ = yTrain[:, 0]\n",
    "yValDist = yVal[:,1]\n",
    "yValZ = yVal[:,0]\n",
    "\n",
    "xTestIds = xTestData[:,0]\n",
    "\n",
    "#OverSampler\n",
    "sm = SMOTE(random_state = 2)\n",
    "\n",
    "#UnderSampler\n",
    "nr = NearMiss()"
   ]
  },
  {
   "cell_type": "markdown",
   "metadata": {},
   "source": [
    "**Helper method for printing Score for KNN(1-50 neighbors)**"
   ]
  },
  {
   "cell_type": "code",
   "execution_count": 81,
   "metadata": {},
   "outputs": [],
   "source": [
    "def printScores(xTrain, yTrain, xVal):\n",
    "    scale = StandardScaler().fit(xTrain)\n",
    "    xTrainScaled = scale.transform(xTrain)\n",
    "    xValScaled = scale.transform(xVal)\n",
    "\n",
    "    kernelTypes = [\"rbf\", \"linear\", \"poly\", \"sigmoid\"]\n",
    "    \n",
    "    for kType in kernelTypes:\n",
    "        svc = svm.SVC(kernel=kType, probability=True)\n",
    "        svc.fit(xTrainScaled, yTrain.ravel())\n",
    "        perc = \"{:.2%}\".format(svc.score(xValScaled, yValDist))\n",
    "        print( kType + \" score: \" + str(perc))"
   ]
  },
  {
   "cell_type": "markdown",
   "metadata": {},
   "source": [
    "# All Features"
   ]
  },
  {
   "cell_type": "markdown",
   "metadata": {},
   "source": [
    "**Features**"
   ]
  },
  {
   "cell_type": "code",
   "execution_count": 6,
   "metadata": {},
   "outputs": [],
   "source": [
    "xTrainAll = xTrain[:, 1:35]\n",
    "xValAll = xVal[:, 1:35]\n",
    "xTestAll = xTestData[:, 1:35]"
   ]
  },
  {
   "cell_type": "markdown",
   "metadata": {},
   "source": [
    "**Unbalanced**"
   ]
  },
  {
   "cell_type": "code",
   "execution_count": 7,
   "metadata": {},
   "outputs": [
    {
     "name": "stdout",
     "output_type": "stream",
     "text": [
      "rbf score: 97.32%\n",
      "linear score: 96.73%\n",
      "poly score: 97.07%\n",
      "sigmoid score: 93.97%\n"
     ]
    }
   ],
   "source": [
    "printScores(xTrainAll, yTrainDist, xValAll)"
   ]
  },
  {
   "cell_type": "markdown",
   "metadata": {},
   "source": [
    "**OverSampling**"
   ]
  },
  {
   "cell_type": "code",
   "execution_count": 8,
   "metadata": {},
   "outputs": [
    {
     "name": "stdout",
     "output_type": "stream",
     "text": [
      "rbf score: 95.31%\n",
      "linear score: 94.97%\n",
      "poly score: 93.30%\n",
      "sigmoid score: 86.10%\n"
     ]
    }
   ],
   "source": [
    "xTrainBal, yTrainBal = sm.fit_sample(xTrainAll, yTrainDist.ravel())\n",
    "\n",
    "printScores(xTrainBal, yTrainBal, xValAll)"
   ]
  },
  {
   "cell_type": "markdown",
   "metadata": {},
   "source": [
    "**UnderSampling**"
   ]
  },
  {
   "cell_type": "code",
   "execution_count": 9,
   "metadata": {},
   "outputs": [
    {
     "name": "stdout",
     "output_type": "stream",
     "text": [
      "rbf score: 61.98%\n",
      "linear score: 96.31%\n",
      "poly score: 92.46%\n",
      "sigmoid score: 92.13%\n"
     ]
    }
   ],
   "source": [
    "xTrainBal, yTrainBal = nr.fit_sample(xTrainAll, yTrainDist.ravel())\n",
    "\n",
    "printScores(xTrainBal, yTrainBal, xValAll)"
   ]
  },
  {
   "cell_type": "markdown",
   "metadata": {},
   "source": [
    "# All first Features of each Category"
   ]
  },
  {
   "cell_type": "markdown",
   "metadata": {},
   "source": [
    "**Features**"
   ]
  },
  {
   "cell_type": "code",
   "execution_count": 10,
   "metadata": {},
   "outputs": [],
   "source": [
    "xTrainFirsts = xTrain[:,[1,2,3, 4, 10, 20, 23, 27,30]]\n",
    "xValFirsts = xVal[:,[1,2,3, 4, 10, 20, 23, 27,30]]\n",
    "xTestFirsts = xTestData[:,[1,2,3, 4, 10, 20, 23, 27,30]]"
   ]
  },
  {
   "cell_type": "markdown",
   "metadata": {},
   "source": [
    "**Unbalanced Data**"
   ]
  },
  {
   "cell_type": "code",
   "execution_count": 11,
   "metadata": {},
   "outputs": [
    {
     "name": "stdout",
     "output_type": "stream",
     "text": [
      "rbf score: 96.31%\n",
      "linear score: 96.06%\n",
      "poly score: 96.31%\n",
      "sigmoid score: 93.80%\n"
     ]
    }
   ],
   "source": [
    "printScores(xTrainFirsts, yTrainDist, xValFirsts)"
   ]
  },
  {
   "cell_type": "markdown",
   "metadata": {},
   "source": [
    "**OverSampling**"
   ]
  },
  {
   "cell_type": "code",
   "execution_count": 12,
   "metadata": {},
   "outputs": [
    {
     "name": "stdout",
     "output_type": "stream",
     "text": [
      "rbf score: 92.38%\n",
      "linear score: 93.47%\n",
      "poly score: 88.86%\n",
      "sigmoid score: 77.47%\n"
     ]
    }
   ],
   "source": [
    "xTrainBal, yTrainBal = sm.fit_sample(xTrainFirsts, yTrainDist.ravel())\n",
    "\n",
    "printScores(xTrainBal, yTrainBal, xValFirsts)"
   ]
  },
  {
   "cell_type": "markdown",
   "metadata": {},
   "source": [
    "**UnderSampling**"
   ]
  },
  {
   "cell_type": "code",
   "execution_count": 13,
   "metadata": {},
   "outputs": [
    {
     "name": "stdout",
     "output_type": "stream",
     "text": [
      "rbf score: 76.55%\n",
      "linear score: 93.89%\n",
      "poly score: 93.80%\n",
      "sigmoid score: 93.55%\n"
     ]
    }
   ],
   "source": [
    "xTrainBal, yTrainBal = nr.fit_sample(xTrainFirsts, yTrainDist.ravel())\n",
    "\n",
    "printScores(xTrainBal, yTrainBal, xValFirsts)"
   ]
  },
  {
   "cell_type": "markdown",
   "metadata": {},
   "source": [
    "# All second Features of each Category"
   ]
  },
  {
   "cell_type": "markdown",
   "metadata": {},
   "source": [
    "**Features**"
   ]
  },
  {
   "cell_type": "code",
   "execution_count": 14,
   "metadata": {},
   "outputs": [],
   "source": [
    "xTrainSeconds = xTrain[:,[1,2,3, 5, 11, 21, 24, 28,31]]\n",
    "xValSeconds = xVal[:,[1,2,3, 5, 11, 21, 24, 28,31]]"
   ]
  },
  {
   "cell_type": "markdown",
   "metadata": {},
   "source": [
    "**Unbalanced**"
   ]
  },
  {
   "cell_type": "code",
   "execution_count": 15,
   "metadata": {},
   "outputs": [
    {
     "name": "stdout",
     "output_type": "stream",
     "text": [
      "rbf score: 96.73%\n",
      "linear score: 96.48%\n",
      "poly score: 96.57%\n",
      "sigmoid score: 93.22%\n"
     ]
    }
   ],
   "source": [
    "printScores(xTrainSeconds, yTrainDist, xValSeconds)"
   ]
  },
  {
   "cell_type": "markdown",
   "metadata": {},
   "source": [
    "**OverSampling**"
   ]
  },
  {
   "cell_type": "code",
   "execution_count": 16,
   "metadata": {},
   "outputs": [
    {
     "name": "stdout",
     "output_type": "stream",
     "text": [
      "rbf score: 93.55%\n",
      "linear score: 89.78%\n",
      "poly score: 89.87%\n",
      "sigmoid score: 82.83%\n"
     ]
    }
   ],
   "source": [
    "xTrainBal, yTrainBal = sm.fit_sample(xTrainSeconds, yTrainDist.ravel())\n",
    "\n",
    "printScores(xTrainBal, yTrainBal, xValSeconds)"
   ]
  },
  {
   "cell_type": "markdown",
   "metadata": {},
   "source": [
    "**UnderSampling**"
   ]
  },
  {
   "cell_type": "code",
   "execution_count": 17,
   "metadata": {},
   "outputs": [
    {
     "name": "stdout",
     "output_type": "stream",
     "text": [
      "rbf score: 59.80%\n",
      "linear score: 84.67%\n",
      "poly score: 81.66%\n",
      "sigmoid score: 90.54%\n"
     ]
    }
   ],
   "source": [
    "xTrainBal, yTrainBal = nr.fit_sample(xTrainSeconds, yTrainDist.ravel())\n",
    "\n",
    "printScores(xTrainBal, yTrainBal, xValSeconds)"
   ]
  },
  {
   "cell_type": "markdown",
   "metadata": {},
   "source": [
    "# All third features of each Category"
   ]
  },
  {
   "cell_type": "markdown",
   "metadata": {},
   "source": [
    "**Features**"
   ]
  },
  {
   "cell_type": "code",
   "execution_count": 18,
   "metadata": {},
   "outputs": [],
   "source": [
    "xTrainThirds = xTrain[:,[1,2,3, 6, 12, 22, 25, 29,32]]\n",
    "xValThirds = xVal[:,[1,2,3, 6, 12, 22, 25, 29,32]]"
   ]
  },
  {
   "cell_type": "markdown",
   "metadata": {},
   "source": [
    "**Unbalanced**"
   ]
  },
  {
   "cell_type": "code",
   "execution_count": 19,
   "metadata": {},
   "outputs": [
    {
     "name": "stdout",
     "output_type": "stream",
     "text": [
      "rbf score: 96.57%\n",
      "linear score: 95.81%\n",
      "poly score: 96.82%\n",
      "sigmoid score: 93.38%\n"
     ]
    }
   ],
   "source": [
    "printScores(xTrainThirds, yTrainDist, xValThirds)"
   ]
  },
  {
   "cell_type": "markdown",
   "metadata": {},
   "source": [
    "**OverSampling**"
   ]
  },
  {
   "cell_type": "code",
   "execution_count": 20,
   "metadata": {},
   "outputs": [
    {
     "name": "stdout",
     "output_type": "stream",
     "text": [
      "rbf score: 91.54%\n",
      "linear score: 83.00%\n",
      "poly score: 87.19%\n",
      "sigmoid score: 72.78%\n"
     ]
    }
   ],
   "source": [
    "xTrainBal, yTrainBal = sm.fit_sample(xTrainThirds, yTrainDist.ravel())\n",
    "\n",
    "printScores(xTrainBal, yTrainBal, xValThirds)"
   ]
  },
  {
   "cell_type": "markdown",
   "metadata": {},
   "source": [
    "**UnderSampling**"
   ]
  },
  {
   "cell_type": "code",
   "execution_count": 21,
   "metadata": {},
   "outputs": [
    {
     "name": "stdout",
     "output_type": "stream",
     "text": [
      "rbf score: 57.29%\n",
      "linear score: 77.14%\n",
      "poly score: 72.78%\n",
      "sigmoid score: 74.87%\n"
     ]
    }
   ],
   "source": [
    "xTrainBal, yTrainBal = nr.fit_sample(xTrainThirds, yTrainDist.ravel())\n",
    "\n",
    "printScores(xTrainBal, yTrainBal, xValThirds)"
   ]
  },
  {
   "cell_type": "markdown",
   "metadata": {},
   "source": [
    "# Controls and Liquidity Ratios"
   ]
  },
  {
   "cell_type": "markdown",
   "metadata": {},
   "source": [
    "**Features**"
   ]
  },
  {
   "cell_type": "code",
   "execution_count": 22,
   "metadata": {},
   "outputs": [],
   "source": [
    "xTrainLR = xTrain[:,[1,2,3, 4, 5, 6, 7, 8,9]]\n",
    "xValLR = xVal[:,[1,2,3, 4, 5, 6, 7, 8,9]]"
   ]
  },
  {
   "cell_type": "markdown",
   "metadata": {},
   "source": [
    "**Unbalanced**"
   ]
  },
  {
   "cell_type": "code",
   "execution_count": 23,
   "metadata": {},
   "outputs": [
    {
     "name": "stdout",
     "output_type": "stream",
     "text": [
      "rbf score: 96.31%\n",
      "linear score: 95.90%\n",
      "poly score: 96.40%\n",
      "sigmoid score: 93.80%\n"
     ]
    }
   ],
   "source": [
    "printScores(xTrainLR, yTrainDist, xValLR)"
   ]
  },
  {
   "cell_type": "markdown",
   "metadata": {},
   "source": [
    "**OverSampling**"
   ]
  },
  {
   "cell_type": "code",
   "execution_count": 24,
   "metadata": {},
   "outputs": [
    {
     "name": "stdout",
     "output_type": "stream",
     "text": [
      "rbf score: 89.87%\n",
      "linear score: 85.09%\n",
      "poly score: 86.60%\n",
      "sigmoid score: 79.40%\n"
     ]
    }
   ],
   "source": [
    "xTrainBal, yTrainBal = sm.fit_sample(xTrainLR, yTrainDist.ravel())\n",
    "\n",
    "printScores(xTrainBal, yTrainBal, xValLR)"
   ]
  },
  {
   "cell_type": "markdown",
   "metadata": {},
   "source": [
    "**UnderSampling**"
   ]
  },
  {
   "cell_type": "code",
   "execution_count": 25,
   "metadata": {},
   "outputs": [
    {
     "name": "stdout",
     "output_type": "stream",
     "text": [
      "rbf score: 31.66%\n",
      "linear score: 73.20%\n",
      "poly score: 71.61%\n",
      "sigmoid score: 86.35%\n"
     ]
    }
   ],
   "source": [
    "xTrainBal, yTrainBal = nr.fit_sample(xTrainLR, yTrainDist.ravel())\n",
    "\n",
    "printScores(xTrainBal, yTrainBal, xValLR)"
   ]
  },
  {
   "cell_type": "markdown",
   "metadata": {},
   "source": [
    "# Controls and Profitability Ratios"
   ]
  },
  {
   "cell_type": "markdown",
   "metadata": {},
   "source": [
    "**Features**"
   ]
  },
  {
   "cell_type": "code",
   "execution_count": 26,
   "metadata": {},
   "outputs": [],
   "source": [
    "xTrainPR = xTrain[:,[1, 2, 3, 10, 11, 12, 13, 14, 15, 16, 17, 18, 19]]\n",
    "xValPR = xVal[:,[1, 2, 3, 10, 11, 12, 13, 14, 15, 16, 17, 18, 19]]"
   ]
  },
  {
   "cell_type": "markdown",
   "metadata": {},
   "source": [
    "**Unbalanced**"
   ]
  },
  {
   "cell_type": "code",
   "execution_count": 27,
   "metadata": {},
   "outputs": [
    {
     "name": "stdout",
     "output_type": "stream",
     "text": [
      "rbf score: 95.98%\n",
      "linear score: 95.90%\n",
      "poly score: 95.98%\n",
      "sigmoid score: 93.55%\n"
     ]
    }
   ],
   "source": [
    "printScores(xTrainPR, yTrainDist, xValPR)"
   ]
  },
  {
   "cell_type": "markdown",
   "metadata": {},
   "source": [
    "**OverSampling**"
   ]
  },
  {
   "cell_type": "code",
   "execution_count": 28,
   "metadata": {},
   "outputs": [
    {
     "name": "stdout",
     "output_type": "stream",
     "text": [
      "rbf score: 86.93%\n",
      "linear score: 84.25%\n",
      "poly score: 85.51%\n",
      "sigmoid score: 78.56%\n"
     ]
    }
   ],
   "source": [
    "xTrainBal, yTrainBal = sm.fit_sample(xTrainPR, yTrainDist.ravel())\n",
    "\n",
    "printScores(xTrainBal, yTrainBal, xValPR)"
   ]
  },
  {
   "cell_type": "markdown",
   "metadata": {},
   "source": [
    "**UnderSampling**"
   ]
  },
  {
   "cell_type": "code",
   "execution_count": 29,
   "metadata": {},
   "outputs": [
    {
     "name": "stdout",
     "output_type": "stream",
     "text": [
      "rbf score: 31.16%\n",
      "linear score: 83.67%\n",
      "poly score: 79.98%\n",
      "sigmoid score: 73.45%\n"
     ]
    }
   ],
   "source": [
    "xTrainBal, yTrainBal = nr.fit_sample(xTrainPR, yTrainDist.ravel())\n",
    "\n",
    "printScores(xTrainBal, yTrainBal, xValPR)"
   ]
  },
  {
   "cell_type": "markdown",
   "metadata": {},
   "source": [
    "# Controls and Profitability Ratios Booleans"
   ]
  },
  {
   "cell_type": "code",
   "execution_count": 30,
   "metadata": {},
   "outputs": [],
   "source": [
    "xTrainPRB = xTrain[:,[1, 2, 3, 13, 14, 15, 16, 19]]\n",
    "xValPRB = xVal[:,[1, 2, 3, 13, 14, 15, 16, 19]]"
   ]
  },
  {
   "cell_type": "markdown",
   "metadata": {},
   "source": [
    "**Unbalanced**"
   ]
  },
  {
   "cell_type": "code",
   "execution_count": 31,
   "metadata": {},
   "outputs": [
    {
     "name": "stdout",
     "output_type": "stream",
     "text": [
      "rbf score: 95.90%\n",
      "linear score: 95.90%\n",
      "poly score: 95.81%\n",
      "sigmoid score: 94.64%\n"
     ]
    }
   ],
   "source": [
    "printScores(xTrainPRB, yTrainDist, xValPRB)"
   ]
  },
  {
   "cell_type": "markdown",
   "metadata": {},
   "source": [
    "**OverSampling**"
   ]
  },
  {
   "cell_type": "code",
   "execution_count": 32,
   "metadata": {},
   "outputs": [
    {
     "name": "stdout",
     "output_type": "stream",
     "text": [
      "rbf score: 87.86%\n",
      "linear score: 83.67%\n",
      "poly score: 81.16%\n",
      "sigmoid score: 64.66%\n"
     ]
    }
   ],
   "source": [
    "xTrainBal, yTrainBal = sm.fit_sample(xTrainPRB, yTrainDist.ravel())\n",
    "\n",
    "printScores(xTrainBal, yTrainBal, xValPRB)"
   ]
  },
  {
   "cell_type": "markdown",
   "metadata": {},
   "source": [
    "**UnderSampling**"
   ]
  },
  {
   "cell_type": "code",
   "execution_count": 33,
   "metadata": {},
   "outputs": [
    {
     "name": "stdout",
     "output_type": "stream",
     "text": [
      "rbf score: 29.90%\n",
      "linear score: 35.68%\n",
      "poly score: 72.95%\n",
      "sigmoid score: 65.91%\n"
     ]
    }
   ],
   "source": [
    "xTrainBal, yTrainBal = nr.fit_sample(xTrainPRB, yTrainDist.ravel())\n",
    "\n",
    "printScores(xTrainBal, yTrainBal, xValPRB)"
   ]
  },
  {
   "cell_type": "markdown",
   "metadata": {},
   "source": [
    "# Controls and Profitability Ratios Non-Boolean"
   ]
  },
  {
   "cell_type": "code",
   "execution_count": 34,
   "metadata": {},
   "outputs": [],
   "source": [
    "xTrainPRNB = xTrain[:,[1, 2, 3, 10, 11, 12, 17, 18]]\n",
    "xValPRNB = xVal[:,[1, 2, 3, 10, 11, 12, 17, 18]]"
   ]
  },
  {
   "cell_type": "markdown",
   "metadata": {},
   "source": [
    "**Unbalanced**"
   ]
  },
  {
   "cell_type": "code",
   "execution_count": 35,
   "metadata": {},
   "outputs": [
    {
     "name": "stdout",
     "output_type": "stream",
     "text": [
      "rbf score: 95.90%\n",
      "linear score: 95.90%\n",
      "poly score: 95.81%\n",
      "sigmoid score: 94.64%\n"
     ]
    }
   ],
   "source": [
    "printScores(xTrainPRB, yTrainDist, xValPRB)"
   ]
  },
  {
   "cell_type": "markdown",
   "metadata": {},
   "source": [
    "**OverSampling**"
   ]
  },
  {
   "cell_type": "code",
   "execution_count": 36,
   "metadata": {},
   "outputs": [
    {
     "name": "stdout",
     "output_type": "stream",
     "text": [
      "rbf score: 86.60%\n",
      "linear score: 83.84%\n",
      "poly score: 85.93%\n",
      "sigmoid score: 74.46%\n"
     ]
    }
   ],
   "source": [
    "xTrainBal, yTrainBal = sm.fit_sample(xTrainPRNB, yTrainDist.ravel())\n",
    "\n",
    "printScores(xTrainBal, yTrainBal, xValPRNB)"
   ]
  },
  {
   "cell_type": "markdown",
   "metadata": {},
   "source": [
    "**UnderSampling**"
   ]
  },
  {
   "cell_type": "code",
   "execution_count": 37,
   "metadata": {},
   "outputs": [
    {
     "name": "stdout",
     "output_type": "stream",
     "text": [
      "rbf score: 36.10%\n",
      "linear score: 62.40%\n",
      "poly score: 55.44%\n",
      "sigmoid score: 40.12%\n"
     ]
    }
   ],
   "source": [
    "xTrainBal, yTrainBal = nr.fit_sample(xTrainPRNB, yTrainDist.ravel())\n",
    "\n",
    "printScores(xTrainBal, yTrainBal, xValPRNB)"
   ]
  },
  {
   "cell_type": "markdown",
   "metadata": {},
   "source": [
    "# Constants and Capital Structure"
   ]
  },
  {
   "cell_type": "markdown",
   "metadata": {},
   "source": [
    "**Features**"
   ]
  },
  {
   "cell_type": "code",
   "execution_count": 38,
   "metadata": {},
   "outputs": [],
   "source": [
    "xTrainCS = xTrain[:,[1, 2, 3, 20, 21, 22]]\n",
    "xValCS = xVal[:,[1, 2, 3, 20, 21, 22]]"
   ]
  },
  {
   "cell_type": "markdown",
   "metadata": {},
   "source": [
    "**Unbalanced**"
   ]
  },
  {
   "cell_type": "code",
   "execution_count": 39,
   "metadata": {},
   "outputs": [
    {
     "name": "stdout",
     "output_type": "stream",
     "text": [
      "rbf score: 96.65%\n",
      "linear score: 95.98%\n",
      "poly score: 96.57%\n",
      "sigmoid score: 93.47%\n"
     ]
    }
   ],
   "source": [
    "printScores(xTrainCS, yTrainDist, xValCS)"
   ]
  },
  {
   "cell_type": "markdown",
   "metadata": {},
   "source": [
    "**OverSampling**"
   ]
  },
  {
   "cell_type": "code",
   "execution_count": 40,
   "metadata": {},
   "outputs": [
    {
     "name": "stdout",
     "output_type": "stream",
     "text": [
      "rbf score: 90.62%\n",
      "linear score: 89.95%\n",
      "poly score: 82.75%\n",
      "sigmoid score: 57.62%\n"
     ]
    }
   ],
   "source": [
    "xTrainBal, yTrainBal = sm.fit_sample(xTrainCS, yTrainDist.ravel())\n",
    "\n",
    "printScores(xTrainBal, yTrainBal, xValCS)"
   ]
  },
  {
   "cell_type": "markdown",
   "metadata": {},
   "source": [
    "**UnderSampling**"
   ]
  },
  {
   "cell_type": "code",
   "execution_count": 41,
   "metadata": {},
   "outputs": [
    {
     "name": "stdout",
     "output_type": "stream",
     "text": [
      "rbf score: 64.91%\n",
      "linear score: 90.62%\n",
      "poly score: 86.93%\n",
      "sigmoid score: 87.44%\n"
     ]
    }
   ],
   "source": [
    "xTrainBal, yTrainBal = nr.fit_sample(xTrainCS, yTrainDist.ravel())\n",
    "\n",
    "printScores(xTrainBal, yTrainBal, xValCS)"
   ]
  },
  {
   "cell_type": "markdown",
   "metadata": {},
   "source": [
    "# New Tests 4/20/2020"
   ]
  },
  {
   "cell_type": "markdown",
   "metadata": {},
   "source": [
    "**Features**"
   ]
  },
  {
   "cell_type": "code",
   "execution_count": 82,
   "metadata": {},
   "outputs": [],
   "source": [
    "xTrainNT = xTrain[:,[1,2,3, 4, 5, 6, 7, 8,9,26]]\n",
    "xValNT = xVal[:,[1,2,3, 4, 5, 6, 7, 8,9,26]]\n",
    "xTestNT = xTestData[:,[1,2,3, 4, 5, 6, 7, 8,9,26]]"
   ]
  },
  {
   "cell_type": "markdown",
   "metadata": {},
   "source": [
    "**Unbalanced**"
   ]
  },
  {
   "cell_type": "code",
   "execution_count": 43,
   "metadata": {},
   "outputs": [
    {
     "name": "stdout",
     "output_type": "stream",
     "text": [
      "rbf score: 96.23%\n",
      "linear score: 95.90%\n",
      "poly score: 96.40%\n",
      "sigmoid score: 93.38%\n"
     ]
    }
   ],
   "source": [
    "printScores(xTrainNT, yTrainDist, xValNT)"
   ]
  },
  {
   "cell_type": "markdown",
   "metadata": {},
   "source": [
    "**OverSampling**"
   ]
  },
  {
   "cell_type": "code",
   "execution_count": 83,
   "metadata": {},
   "outputs": [
    {
     "name": "stdout",
     "output_type": "stream",
     "text": [
      "rbf score: 90.95%\n",
      "linear score: 85.59%\n",
      "poly score: 87.94%\n",
      "sigmoid score: 80.32%\n"
     ]
    }
   ],
   "source": [
    "xTrainBal, yTrainBal = sm.fit_sample(xTrainNT, yTrainDist.ravel())\n",
    "\n",
    "printScores(xTrainBal, yTrainBal, xValNT)"
   ]
  },
  {
   "cell_type": "markdown",
   "metadata": {},
   "source": [
    "**UnderSampling**"
   ]
  },
  {
   "cell_type": "code",
   "execution_count": 45,
   "metadata": {},
   "outputs": [
    {
     "name": "stdout",
     "output_type": "stream",
     "text": [
      "rbf score: 53.94%\n",
      "linear score: 86.26%\n",
      "poly score: 85.26%\n",
      "sigmoid score: 82.83%\n"
     ]
    }
   ],
   "source": [
    "xTrainBal, yTrainBal = nr.fit_sample(xTrainNT, yTrainDist.ravel())\n",
    "\n",
    "printScores(xTrainBal, yTrainBal, xValNT)"
   ]
  },
  {
   "cell_type": "markdown",
   "metadata": {},
   "source": [
    "# Best UnderSampling Performer"
   ]
  },
  {
   "cell_type": "code",
   "execution_count": 46,
   "metadata": {},
   "outputs": [],
   "source": [
    "# xTrainBal, yTrainBal = nr.fit_sample(xTrainNT, yTrainDist.ravel())\n",
    "\n",
    "# scale = StandardScaler().fit(xTrainBal)\n",
    "# xTrainScaled = scale.transform(xTrainBal)\n",
    "# xTestScaled = scale.transform(xTestNT)\n",
    "\n",
    "# svc = svm.SVC(kernel=\"poly\", probability=True)\n",
    "# svc.fit(xTrainScaled, yTrainBal)\n",
    "# probs = svc.predict_proba(xTestScaled)\n",
    "# ids = xTestIds.tolist()\n",
    "# probs = probs.tolist()\n",
    "\n",
    "# f = open(\"SVCTake1.txt\", \"w+\")\n",
    "# f.write(\"Unique Id,DIST\\n\")\n",
    "\n",
    "# for i in range(len(ids)):\n",
    "#     f.write(str(int(ids[i])) + \",\" + str(probs[i][1]) + \"\\n\")\n",
    "    \n",
    "# f.close()"
   ]
  },
  {
   "cell_type": "code",
   "execution_count": 85,
   "metadata": {},
   "outputs": [],
   "source": [
    "# xTrainBal, yTrainBal = sm.fit_sample(xTrainNT, yTrainDist.ravel())\n",
    "\n",
    "# scale = StandardScaler().fit(xTrainBal)\n",
    "# xTrainScaled = scale.transform(xTrainBal)\n",
    "# xTestScaled = scale.transform(xTestNT)\n",
    "\n",
    "# svc = svm.SVC(kernel=\"poly\", probability=True)\n",
    "# svc.fit(xTrainScaled, yTrainBal)\n",
    "# probs = svc.predict_proba(xTestScaled)\n",
    "# ids = xTestIds.tolist()\n",
    "# probs = probs.tolist()\n",
    "\n",
    "# f = open(\"SVCTake2.txt\", \"w+\")\n",
    "# f.write(\"Unique Id,DIST\\n\")\n",
    "\n",
    "# for i in range(len(ids)):\n",
    "#     f.write(str(int(ids[i])) + \",\" + str(probs[i][1]) + \"\\n\")\n",
    "    \n",
    "# f.close()"
   ]
  },
  {
   "cell_type": "code",
   "execution_count": 87,
   "metadata": {},
   "outputs": [],
   "source": [
    "# xTrainBal, yTrainBal = sm.fit_sample(xTrainNT, yTrainDist.ravel())\n",
    "\n",
    "# scale = StandardScaler().fit(xTrainBal)\n",
    "# xTrainScaled = scale.transform(xTrainBal)\n",
    "# xTestScaled = scale.transform(xTestNT)\n",
    "\n",
    "# svc = svm.SVC(kernel=\"linear\", probability=True)\n",
    "# svc.fit(xTrainScaled, yTrainBal)\n",
    "# probs = svc.predict_proba(xTestScaled)\n",
    "# ids = xTestIds.tolist()\n",
    "# probs = probs.tolist()\n",
    "\n",
    "# f = open(\"SVCTake2Extra.txt\", \"w+\")\n",
    "# f.write(\"Unique Id,DIST\\n\")\n",
    "\n",
    "# for i in range(len(ids)):\n",
    "#     f.write(str(int(ids[i])) + \",\" + str(probs[i][1]) + \"\\n\")\n",
    "    \n",
    "f.close()"
   ]
  },
  {
   "cell_type": "code",
   "execution_count": null,
   "metadata": {},
   "outputs": [],
   "source": []
  }
 ],
 "metadata": {
  "kernelspec": {
   "display_name": "Python 3",
   "language": "python",
   "name": "python3"
  },
  "language_info": {
   "codemirror_mode": {
    "name": "ipython",
    "version": 3
   },
   "file_extension": ".py",
   "mimetype": "text/x-python",
   "name": "python",
   "nbconvert_exporter": "python",
   "pygments_lexer": "ipython3",
   "version": "3.7.4"
  }
 },
 "nbformat": 4,
 "nbformat_minor": 2
}
